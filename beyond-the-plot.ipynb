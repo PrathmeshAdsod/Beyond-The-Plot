{
 "cells": [
  {
   "cell_type": "markdown",
   "id": "c37e7e13",
   "metadata": {
    "papermill": {
     "duration": 0.008814,
     "end_time": "2024-11-30T13:29:14.754117",
     "exception": false,
     "start_time": "2024-11-30T13:29:14.745303",
     "status": "completed"
    },
    "tags": []
   },
   "source": [
    "<div style=\"font-family:verdana\">\n",
    "<h2>Table of Content</h2>\n",
    "<ol style=\"font-size:16px;list-style-type:none\">\n",
    "    <li><a href=\"#plot\">Beyond the Plot Use Case</a></li>\n",
    "    <li><a href=\"#why-gemini\">Why Gemini 1.5</a></li>\n",
    "    <li><a href=\"#context-caching\">Context Caching</a></li>\n",
    "    <li><a href=\"#install-libraries\">Install and Import Libraries</a></li>\n",
    "    <li><a href=\"#configure-gemini\">Configure gemini API</a></li>\n",
    "    <li><a href=\"#extract-text\">Extract text from books</a></li>\n",
    "    <li><a href=\"#write-prompts\">Write required prompts</a></li>\n",
    "    <li><a href=\"#create-context-caching\">Creating context cache</a></li>\n",
    "    <li><a href=\"#prizoner-of-azkaban\">Harry Potter and Prizoner of Azkaban</a></li>\n",
    "    <li><a href=\"#delete-cache-1\">Delete Cache of Prizoner of Azkaban</a></li>\n",
    "    <li><a href=\"#bond-return\">Bond return in Order of Phoenix</a></li>\n",
    "    <li><a href=\"#delete-cache-2\">Delete Cache of Order of Phoenix</a></li>\n",
    "     <li><a href=\"#conclusion\">Conclusion</a></li>\n",
    "    \n",
    "</ol>\n",
    "</div>"
   ]
  },
  {
   "cell_type": "markdown",
   "id": "eeb0bbd1",
   "metadata": {
    "papermill": {
     "duration": 0.007537,
     "end_time": "2024-11-30T13:29:14.769599",
     "exception": false,
     "start_time": "2024-11-30T13:29:14.762062",
     "status": "completed"
    },
    "tags": []
   },
   "source": [
    "<div style=\"font-family:verdana\"  id=\"plot\">\n",
    "<h1 >Beyond the Plot Use Case</h1>\n",
    "<p style=\"font-size:16px\">This use case aims to creatively alter the storyline of Harry Potter books by introducing James Bond, the iconic British spy, into the magical universe. Using Google Gemini-1.5-flash model, we can generates rewritten content, new character dialogues, and alternate story arcs and much more creative things. It showcases how <b style=\"color:blue\"> long context window </b> capability of Gemini 1.5 models can enhance literary creativity and provide a fresh perspective on classic stories/novels. </p>\n",
    "\n",
    "<p style=\"font-size: 16px\">We are going to introduce James Bond in the 3rd and 5th book of Harry Potter series. 3rd book in series contains more than 150K tokens and 5th book contains more than 350K tokens. In use case there will be multiple prompts on same input so we are using <b style=\"color:blue\"> context caching </b> to demonstrate how much efficiently and cost effectively we can use gemini 1.5 models long context window</p>\n",
    "\n",
    "<p style=\"font-size: 16px\">Specially in this use case where we can do many creating things on large document. To process such a large token size at once we need powerfull models like gemini-1.5-flash, gemini-1.5-pro to hold the context of complete document and get more contextual understanding.</p>\n",
    "\n",
    "<p style=\"font-size: 16px\">We will see more details of the use case as we move further</p>\n",
    "</div>"
   ]
  },
  {
   "cell_type": "markdown",
   "id": "de286b4f",
   "metadata": {
    "papermill": {
     "duration": 0.00735,
     "end_time": "2024-11-30T13:29:14.785607",
     "exception": false,
     "start_time": "2024-11-30T13:29:14.778257",
     "status": "completed"
    },
    "tags": []
   },
   "source": [
    "<div style=\"font-family:verdana\" id=\"why-gemini\">\n",
    "    <h2 >Why Gemini-1.5 models (we are using gemini-1.5-flash-002) over other models</h2>\n",
    "    <p style=\"font-size:16px\">Let's take a look at certain prominent models context window : gemini 1.0 has 32k, gpt 4 turbo has 128k, claude 2.1 has 200k, gemini-1.5-flash has 1 million and gemini-1.5-pro has 2 million\n",
    "    </p>\n",
    "    <p style=\"font-size:16px\">In our use case we are firstly working on Harry Potter and Prizoner of Azkaban book and giving some \n",
    "    interesting prompts to make model think in more creative way. We will ask model the dialogues of new character, summary of \n",
    "    the book after incoporating the new character and more. This book has more than 150k tokens. Then after taking summary of this 3rd book then we will feed 5th book Harry Potter and Order of Phoenix which has more than 350k tokens and adding summary of altered version of 3rd book of the series So currently only gemini 1.5 models can give best results to our use case, mainly because of its long context ability</p>\n",
    "</div>"
   ]
  },
  {
   "cell_type": "markdown",
   "id": "078c906f",
   "metadata": {
    "papermill": {
     "duration": 0.010101,
     "end_time": "2024-11-30T13:29:14.803412",
     "exception": false,
     "start_time": "2024-11-30T13:29:14.793311",
     "status": "completed"
    },
    "tags": []
   },
   "source": [
    "<div style=\"font-family:verdana\" id=\"context-caching\">\n",
    "    <h2>Context Caching</h2>\n",
    "    <p style=\"font-size:16px\">In our use case, we are giving prompts multiple times to the same input tokens, so to work with them efficiently and cost effectively we are using context caching. If we work without caching then if we have 3 quueries(prompts) then at all 3 requests the input tokens will get loaded by the model. This will generate more costs and will take more time to execute as each time we are ingesting input to the model. With the context cache, we cache the input tokens (context window) first and then give all the required prompts which we need to do perfom on the input. The number of input tokens cached, billed at a reduced rate when included in subsequent prompts. The amount of time cached tokens are stored at specific time which we mention in TTL and cache is billed hourly.</p>\n",
    "    <p style=\"font-size:16px\">We are using gemini-1.5-flash model for our use case which can store 1 million context cache</p>\n",
    "</div>"
   ]
  },
  {
   "cell_type": "markdown",
   "id": "4788b033",
   "metadata": {
    "papermill": {
     "duration": 0.007382,
     "end_time": "2024-11-30T13:29:14.819982",
     "exception": false,
     "start_time": "2024-11-30T13:29:14.812600",
     "status": "completed"
    },
    "tags": []
   },
   "source": [
    "<div style=\"font-family:verdana\" id=\"install-libraries\">\n",
    "<h2>Install and Import Required Libraries</h2>\n",
    "    <p style=\"font-size: 16px\">Installing PyPDF2 to extract text from the books</p>\n",
    "</div>"
   ]
  },
  {
   "cell_type": "code",
   "execution_count": 1,
   "id": "56749e5e",
   "metadata": {
    "execution": {
     "iopub.execute_input": "2024-11-30T13:29:14.837334Z",
     "iopub.status.busy": "2024-11-30T13:29:14.836793Z",
     "iopub.status.idle": "2024-11-30T13:29:27.596112Z",
     "shell.execute_reply": "2024-11-30T13:29:27.594873Z"
    },
    "papermill": {
     "duration": 12.77093,
     "end_time": "2024-11-30T13:29:27.598686",
     "exception": false,
     "start_time": "2024-11-30T13:29:14.827756",
     "status": "completed"
    },
    "tags": []
   },
   "outputs": [
    {
     "name": "stdout",
     "output_type": "stream",
     "text": [
      "Collecting PyPDF2\r\n",
      "  Downloading pypdf2-3.0.1-py3-none-any.whl.metadata (6.8 kB)\r\n",
      "Downloading pypdf2-3.0.1-py3-none-any.whl (232 kB)\r\n",
      "\u001b[2K   \u001b[90m━━━━━━━━━━━━━━━━━━━━━━━━━━━━━━━━━━━━━━━━\u001b[0m \u001b[32m232.6/232.6 kB\u001b[0m \u001b[31m6.2 MB/s\u001b[0m eta \u001b[36m0:00:00\u001b[0m\r\n",
      "\u001b[?25hInstalling collected packages: PyPDF2\r\n",
      "Successfully installed PyPDF2-3.0.1\r\n"
     ]
    }
   ],
   "source": [
    "!pip install PyPDF2"
   ]
  },
  {
   "cell_type": "code",
   "execution_count": 2,
   "id": "8d560fdc",
   "metadata": {
    "execution": {
     "iopub.execute_input": "2024-11-30T13:29:27.616573Z",
     "iopub.status.busy": "2024-11-30T13:29:27.616145Z",
     "iopub.status.idle": "2024-11-30T13:29:28.996709Z",
     "shell.execute_reply": "2024-11-30T13:29:28.995527Z"
    },
    "papermill": {
     "duration": 1.392483,
     "end_time": "2024-11-30T13:29:28.999246",
     "exception": false,
     "start_time": "2024-11-30T13:29:27.606763",
     "status": "completed"
    },
    "tags": []
   },
   "outputs": [],
   "source": [
    "import PyPDF2\n",
    "from kaggle_secrets import UserSecretsClient\n",
    "import datetime\n",
    "import time\n",
    "import google.generativeai as genai\n",
    "from google.generativeai import caching"
   ]
  },
  {
   "cell_type": "markdown",
   "id": "c7423c03",
   "metadata": {
    "papermill": {
     "duration": 0.007619,
     "end_time": "2024-11-30T13:29:29.015080",
     "exception": false,
     "start_time": "2024-11-30T13:29:29.007461",
     "status": "completed"
    },
    "tags": []
   },
   "source": [
    "<div style=\"font-family:verdana\" id=\"configure-gemini\">\n",
    "<h2>Configure the gemini api key</h2>\n",
    "    <p style=\"font-size:16px\">Get free api key from \n",
    "        <a href=\"https://aistudio.google.com/apikey\"> Google AI Studio</a>  \n",
    "    </p>\n",
    "\n",
    "<p style=\"font-size:16px\">To Configure api key in kaggle environment by clicking on Add-Ons on top bar then go to secrets and give it in key value pair. Ex. GEMINI_API_KEY = \"API-KEY\"</p>\n",
    "</div>"
   ]
  },
  {
   "cell_type": "code",
   "execution_count": 3,
   "id": "f3bb48a6",
   "metadata": {
    "execution": {
     "iopub.execute_input": "2024-11-30T13:29:29.032640Z",
     "iopub.status.busy": "2024-11-30T13:29:29.032119Z",
     "iopub.status.idle": "2024-11-30T13:29:29.259290Z",
     "shell.execute_reply": "2024-11-30T13:29:29.258035Z"
    },
    "papermill": {
     "duration": 0.239335,
     "end_time": "2024-11-30T13:29:29.262289",
     "exception": false,
     "start_time": "2024-11-30T13:29:29.022954",
     "status": "completed"
    },
    "tags": []
   },
   "outputs": [],
   "source": [
    "from kaggle_secrets import UserSecretsClient\n",
    "user_secrets = UserSecretsClient()\n",
    "\n",
    "GEMINI_API_KEY = user_secrets.get_secret(\"GEMINI_API_KEY\")\n",
    "genai.configure(api_key=GEMINI_API_KEY)"
   ]
  },
  {
   "cell_type": "markdown",
   "id": "72d89429",
   "metadata": {
    "papermill": {
     "duration": 0.007914,
     "end_time": "2024-11-30T13:29:29.278823",
     "exception": false,
     "start_time": "2024-11-30T13:29:29.270909",
     "status": "completed"
    },
    "tags": []
   },
   "source": [
    "<div style=\"font-family:verdana\" id=\"extract-text\">\n",
    "    <h2>Extracting text from the books</h2>\n",
    "    <p style=\"font-size:15px\"></p>\n",
    "</div>"
   ]
  },
  {
   "cell_type": "code",
   "execution_count": 4,
   "id": "b044b22c",
   "metadata": {
    "execution": {
     "iopub.execute_input": "2024-11-30T13:29:29.298167Z",
     "iopub.status.busy": "2024-11-30T13:29:29.297666Z",
     "iopub.status.idle": "2024-11-30T13:29:42.788066Z",
     "shell.execute_reply": "2024-11-30T13:29:42.787051Z"
    },
    "papermill": {
     "duration": 13.503068,
     "end_time": "2024-11-30T13:29:42.790775",
     "exception": false,
     "start_time": "2024-11-30T13:29:29.287707",
     "status": "completed"
    },
    "tags": []
   },
   "outputs": [],
   "source": [
    "\n",
    "# File paths for the books\n",
    "book_files = {\n",
    "    \"prisoner_of_azkaban\": \"/kaggle/input/bookspdf/Harry Potter And The Prisoner Of Azkaban.pdf\",\n",
    "    \"order_of_phoenix\": \"/kaggle/input/bookspdf/Harry-Potter-and-the-Order-of-Phoenix.pdf\"\n",
    "}\n",
    "\n",
    "def extract_from_pdf(book) :\n",
    "    with open(book, \"rb\") as file:\n",
    "        reader = PyPDF2.PdfReader(file)\n",
    "        book_text = \"\"\n",
    "        for page in reader.pages:\n",
    "            book_text += page.extract_text()\n",
    "    return book_text\n",
    "\n",
    "prizoner_of_azkaban_book_text = extract_from_pdf(book_files['prisoner_of_azkaban'])\n",
    "order_of_phoenix_book_text    = extract_from_pdf(book_files['order_of_phoenix'])"
   ]
  },
  {
   "cell_type": "markdown",
   "id": "8dd2bf35",
   "metadata": {
    "papermill": {
     "duration": 0.007868,
     "end_time": "2024-11-30T13:29:42.807871",
     "exception": false,
     "start_time": "2024-11-30T13:29:42.800003",
     "status": "completed"
    },
    "tags": []
   },
   "source": [
    "<div style=\"font-family:verdana\" id=\"write-prompts\">\n",
    "    <h2>Writing required prompts</h2>\n",
    "     <p style=\"font-size:16px\">To get more control on the response we will get, we need to write detailed prompts. We are splitting this prompts into <b style=\"color:blue\">subparts of changes, story and response</b>. Later on we will merge it to give to model.</p>\n",
    "    <p style=\"font-size:16px\"> <b style=\"color:blue\">change_extents --- </b>. In this we will keep the level of alteration we want in the story by adding the James Bond Character. It can be small extent, medium extent, drastic extent. We will have description for that to feed in the model so model can understand how much alteration is required and will produce output according to that.</p>\n",
    "     <p style=\"font-size:16px\"> <b style=\"color:blue\">story_alteration_prizoner_of_azkaban ---</b> In this we will introduce James Bond first time in series and also give Bond's attributes, attitude, acheivements, success and other details about him, like how we want him to be in the story of Harry Potter and Prizoner of Azkaban. We are also defining few plots like what we want from James Bond in the story</b></p>\n",
    "\n",
    "   <p style=\"font-size:16px\"> <b style=\"color:blue\">story_alteration_for_order_of_phoenix --- </b> In this we are reintroducing James Bond and similarly giving details about him and also definign some plots, like what we want from Bond in the story of Harry Potter and Order of Phoenix.</p> \n",
    "    <p style=\"font-size:16px\"> <b style=\"color:blue\">output_required --- </b> This is the list which is holding the final responses which we want. Like, we want dialogues between James Bond and other character after story alteration, we want summary after story alteration, we want script for 1 hour long movie and much more it can hold.</p>\n",
    "</div>"
   ]
  },
  {
   "cell_type": "code",
   "execution_count": 5,
   "id": "ee483b6d",
   "metadata": {
    "execution": {
     "iopub.execute_input": "2024-11-30T13:29:42.825769Z",
     "iopub.status.busy": "2024-11-30T13:29:42.825322Z",
     "iopub.status.idle": "2024-11-30T13:29:42.832992Z",
     "shell.execute_reply": "2024-11-30T13:29:42.831927Z"
    },
    "papermill": {
     "duration": 0.019234,
     "end_time": "2024-11-30T13:29:42.835268",
     "exception": false,
     "start_time": "2024-11-30T13:29:42.816034",
     "status": "completed"
    },
    "tags": []
   },
   "outputs": [],
   "source": [
    "# Extent at which we want changes/alteration in our story\n",
    "\n",
    "change_extents = [\n",
    "    {\n",
    "        \"extent\": \"Small Extent\",\n",
    "        \"description\": \"\"\"\n",
    "        In this case, the changes are very subtle and minimally impact the overall story. The core narrative of the book remains largely unchanged, but small adjustments are made to certain events or details. \n",
    "        These changes might include adding a minor character who appears only in a few scenes, altering the background or environment slightly, or introducing a piece of dialogue that doesn’t significantly shift the plot. \n",
    "        For instance, a character might make a brief appearance in a scene but have no major impact on the direction of the plot. Another example could be changing a minor decision made by a character, like a different choice for a meal or a location, without affecting the larger story arc. \n",
    "        The changes should not affect the primary goals or the structure of the narrative. The focus is on adding depth or nuance without altering the fundamental flow or emotional impact of the story.\n",
    "        \"\"\"\n",
    "    },\n",
    "    {\n",
    "        \"extent\": \"Medium Extent\",\n",
    "        \"description\": \"\"\"\n",
    "        Here, the changes are more noticeable and start to affect the progression of the story, but they do not completely rewrite the plot. Major events still unfold, and the overall storyline remains the same, but there are moderate alterations to how things occur or which characters are central to specific moments. \n",
    "        For example, a character who had a smaller role in the original narrative might now play a more significant part, like Hermione taking on a leadership role during a pivotal scene. \n",
    "        Alternatively, a scene or event might be altered so that the outcome is different, like a character choosing a different path or strategy in an important situation (e.g., Harry making a different choice during the Triwizard Tournament). \n",
    "        While the larger events and themes are maintained, the reader would notice the subtle but impactful difference in how the story unfolds due to the changes. These changes might affect character motivations or the dynamics between characters but do not drastically alter the central theme or outcome of the story.\n",
    "        \"\"\"\n",
    "    },\n",
    "    {\n",
    "        \"extent\": \"Drastic Extent\",\n",
    "        \"description\": \"\"\"\n",
    "        These changes are transformative and can significantly alter the course of the entire story. The plot may remain loosely familiar, but the events and character arcs could be reshaped in fundamental ways. \n",
    "        A new character, such as Sherlock Holmes, might be introduced and could have a major influence on key events in the narrative, shifting the balance of power or creating entirely new dynamics between characters. \n",
    "        For example, if Sherlock Holmes were inserted into the Harry Potter universe, he might help Harry solve mysteries or uncover clues about the Horcruxes in ways that completely change the original flow of the story. \n",
    "        The introduction of this new character could lead to completely different strategies or decisions in the plot, making the story unfold differently, but with a clear connection to the original themes and arcs. \n",
    "        These changes might also involve altering key events, such as replacing a character's role or deciding that a significant event happens in a different way (e.g., Voldemort's defeat occurring differently). \n",
    "        The core of the story could still be recognizable, but the transformation would be substantial, leading to a novel retelling that deviates from the original yet retains its essence.\n",
    "        \"\"\"\n",
    "    }\n",
    "]"
   ]
  },
  {
   "cell_type": "code",
   "execution_count": 6,
   "id": "aae187ce",
   "metadata": {
    "execution": {
     "iopub.execute_input": "2024-11-30T13:29:42.853044Z",
     "iopub.status.busy": "2024-11-30T13:29:42.852616Z",
     "iopub.status.idle": "2024-11-30T13:29:42.859363Z",
     "shell.execute_reply": "2024-11-30T13:29:42.858376Z"
    },
    "papermill": {
     "duration": 0.018227,
     "end_time": "2024-11-30T13:29:42.861540",
     "exception": false,
     "start_time": "2024-11-30T13:29:42.843313",
     "status": "completed"
    },
    "tags": []
   },
   "outputs": [],
   "source": [
    "# story alteration prompt given for 3rd book in series\n",
    "story_alteration_prizoner_of_azkaban =  \"\"\" You are tasked with making changes to the story of *Harry Potter and the Prisoner of Azkaban*. In this version, James Bond, a British secret agent, plays a crucial role in the investigation surrounding Sirius Black’s escape from Azkaban. His presence significantly alters certain aspects of the plot while still maintaining the essence of the original story.\n",
    "James Bond has the following characteristics and background:\n",
    "- **Skills**: A master of espionage, expert in combat, skilled in using firearms, and highly tactical.\n",
    "- **Achievements**: Known for defeating dangerous adversaries, such as the villain Le Chiffre in *Casino Royale* and stopping a terror plot in *Skyfall*.\n",
    "- **Best Cases**: \n",
    "  - He infiltrated a dangerous terrorist organization in *Casino Royale*.\n",
    "  - In *Skyfall*, he stopped an ex-agent from exposing MI6 secrets and launched a successful mission against a global threat.\n",
    "  - In *Goldfinger*, he thwarted a villain’s plan to contaminate the U.S. gold reserves.\n",
    "\n",
    "His involvement in the story should reshape key moments. For example:\n",
    "- James Bond may assist Harry in tracking Sirius Black, using his advanced surveillance equipment to uncover crucial clues about Sirius’ escape.\n",
    "- Bond could be directly involved in the investigation, offering insight into the operations of the Ministry of Magic or assisting Harry during moments of danger, such as when he faces the Dementors.\n",
    "- In an important scene, Bond might confront a dark wizard or assist in an action-packed sequence, further shifting the storyline and giving Harry and his friends access to resources they wouldn't normally have.\n",
    "\n",
    "The core narrative should still focus on Harry's journey and the mystery of Sirius Black, but James Bond’s influence should become more pronounced. He should provide actionable intelligence, use his espionage skills to uncover hidden truths, and even engage in combat situations to help Harry and his friend \n",
    "\"\"\" \n",
    "\n",
    "# story alteration prompt given for 5th book in series\n",
    "story_alteration_for_order_of_phoenix =  \"\"\"\n",
    "Now james bond is back in Harry Potter and Order of Phoenix. Now change the story of Harry Potter and \n",
    "Order of Phoenix Book to incoporate Bond. \n",
    "- **Skills**: A master of espionage, expert in combat, skilled in using firearms, and highly tactical.\n",
    "- **Achievements**: Known for defeating dangerous adversaries, such as the villain Le Chiffre in *Casino Royale* and stopping a terror plot in *Skyfall*.\n",
    "- **Best Cases**: \n",
    "  - He infiltrated a dangerous terrorist organization in *Casino Royale*.\n",
    "  - In *Skyfall*, he stopped an ex-agent from exposing MI6 secrets and launched a successful mission against a global threat.\n",
    "  - In *Goldfinger*, he thwarted a villain’s plan to contaminate the U.S. gold reserves.\n",
    "\n",
    "His involvement in the story should reshape key moments. For example:\n",
    "- James Bond may assist Harry in tracking Sirius Black, using his advanced surveillance equipment to uncover crucial clues about Sirius’ escape.\n",
    "- Bond could be directly involved in the investigation, offering insight into the operations of the Ministry of Magic or assisting Harry during moments of danger, such as when he faces the Dementors.\n",
    "- In an important scene, Bond might confront a dark wizard or assist in an action-packed sequence, further shifting the storyline and giving Harry and his friends access to resources they wouldn't normally have.\n",
    "- But in the end James Bond get caught and ministry got to know that he is a spy of Muggles and sentence to \n",
    "  imprisonment in Azkaban but Dumbelodore and Harry save him\n",
    "\"\"\""
   ]
  },
  {
   "cell_type": "code",
   "execution_count": 7,
   "id": "abbc0826",
   "metadata": {
    "execution": {
     "iopub.execute_input": "2024-11-30T13:29:42.879049Z",
     "iopub.status.busy": "2024-11-30T13:29:42.878633Z",
     "iopub.status.idle": "2024-11-30T13:29:42.884445Z",
     "shell.execute_reply": "2024-11-30T13:29:42.883381Z"
    },
    "papermill": {
     "duration": 0.016977,
     "end_time": "2024-11-30T13:29:42.886553",
     "exception": false,
     "start_time": "2024-11-30T13:29:42.869576",
     "status": "completed"
    },
    "tags": []
   },
   "outputs": [],
   "source": [
    "\n",
    "# Output required prompts\n",
    "output_required = [\n",
    "    \"\"\"\n",
    "    ### Output Required ----- Give the scenarios in which you made the changes in book to accomodate James Bond and\n",
    "    how the storyline got affected\n",
    "    \"\"\",\n",
    "    \"\"\"\n",
    "    ### Output required ----- Give all the dialogues between James Bond and other characters with including short description\n",
    "    of where those dialogues happening\n",
    "    \"\"\",\n",
    "    \"\"\"\n",
    "    ### Output Required ----- \n",
    "    Create a detailed script for a 1-hour movie adaptation of the rewritten book with James Bond as a central character. Outline the key scenes \n",
    "    and plot points that will be featured in the film, making sure that the script retains the essence of the original story while adapting it for the screen. Break the script into acts, ensuring there is a clear beginning, middle, and climax. Include both the dialogues and actions in detail for each scene, providing descriptions of the setting, character emotions, and key visual elements. Pay special attention to pacing, dramatic moments, and how Bond’s character is portrayed through his actions and interactions with others. The script should be structured in a way that aligns with the conventions of a 1-hour action movie, including a compelling opening, rising tension, and a satisfying resolution.\n",
    "    \"\"\",\n",
    "  \n",
    "    \"\"\"\n",
    "    ### Output Required:\n",
    "    Provide a detailed summary of the altered version of *Harry Potter and the Prisoner of Azkaban*, focusing on:\n",
    "    - The main plot and character developments.\n",
    "    - How James Bond’s integration reshaped the narrative.\n",
    "    - Key differences from the original story and their significance.\n",
    "\n",
    "    \"\"\"\n",
    "]"
   ]
  },
  {
   "cell_type": "markdown",
   "id": "ca378a37",
   "metadata": {
    "papermill": {
     "duration": 0.009184,
     "end_time": "2024-11-30T13:29:42.903767",
     "exception": false,
     "start_time": "2024-11-30T13:29:42.894583",
     "status": "completed"
    },
    "tags": []
   },
   "source": [
    "<div style=\"font-family:Verdana\" id=\"create-context-caching\">\n",
    "    <h2>Creating Context Caching</h2>\n",
    "</div>"
   ]
  },
  {
   "cell_type": "code",
   "execution_count": 8,
   "id": "d1629bc8",
   "metadata": {
    "execution": {
     "iopub.execute_input": "2024-11-30T13:29:42.922133Z",
     "iopub.status.busy": "2024-11-30T13:29:42.921717Z",
     "iopub.status.idle": "2024-11-30T13:29:42.927738Z",
     "shell.execute_reply": "2024-11-30T13:29:42.926623Z"
    },
    "papermill": {
     "duration": 0.01824,
     "end_time": "2024-11-30T13:29:42.930311",
     "exception": false,
     "start_time": "2024-11-30T13:29:42.912071",
     "status": "completed"
    },
    "tags": []
   },
   "outputs": [],
   "source": [
    "\n",
    "\n",
    "# Our use case is creative and need diverse output\n",
    "# so we need to increase temperature as default is 1\n",
    "# which will help us for getting creative and diverse output\n",
    "generation_config = {\n",
    "    \"temperature\": 1.5\n",
    "}\n",
    "\n",
    "# Model which we are using to leverage Long Context Window and Context Caching benefits\n",
    "model = 'models/gemini-1.5-flash-002'\n",
    "\n",
    "# System Instruction to the Model\n",
    "# We are defining what specifically we want from the model\n",
    "system_instruction = \"\"\"\n",
    "    You are great in understanding stories in the books and capturing all the information, relations and much more \n",
    "    from the book. You are great in alteration of the story by adding different characters or giving different roles to different characters where needed\n",
    "    and changing the   enario an changing the story in book by the extent to which the user provide in the prompt. You also write text of book \n",
    "    in be fromat. Understand what user wants, whether to rewrte complete book after alterations or give summaries of new created book \n",
    "    or generate dialogues for 1 hour movie. Please provide output in proper and readable format. Do not be ambiguous and be to the point\n",
    "    and give what is required\n",
    "    \"\"\"\n"
   ]
  },
  {
   "cell_type": "code",
   "execution_count": 9,
   "id": "725e43b8",
   "metadata": {
    "execution": {
     "iopub.execute_input": "2024-11-30T13:29:42.949956Z",
     "iopub.status.busy": "2024-11-30T13:29:42.949513Z",
     "iopub.status.idle": "2024-11-30T13:29:42.956138Z",
     "shell.execute_reply": "2024-11-30T13:29:42.954940Z"
    },
    "papermill": {
     "duration": 0.020808,
     "end_time": "2024-11-30T13:29:42.959562",
     "exception": false,
     "start_time": "2024-11-30T13:29:42.938754",
     "status": "completed"
    },
    "tags": []
   },
   "outputs": [],
   "source": [
    "# Create function for context caching\n",
    "\n",
    "def caching_the_content(model, display_name, system_instruction, text_content) :\n",
    "     \n",
    "    cached_content = caching.CachedContent.create(\n",
    "    model=model,\n",
    "    display_name= display_name, \n",
    "    system_instruction= system_instruction,\n",
    "    contents=[text_content],\n",
    "    ttl=datetime.timedelta(minutes=20),\n",
    "    )\n",
    "    return cached_content"
   ]
  },
  {
   "cell_type": "markdown",
   "id": "a7e919e6",
   "metadata": {
    "papermill": {
     "duration": 0.008272,
     "end_time": "2024-11-30T13:29:42.976936",
     "exception": false,
     "start_time": "2024-11-30T13:29:42.968664",
     "status": "completed"
    },
    "tags": []
   },
   "source": [
    "<div style=\"font-family:Verdana\" id=\"prizoner-of-azkaban\">\n",
    "    <h2>Harry Potter and Prizoner of Azkaban</h2>\n",
    "</div>"
   ]
  },
  {
   "cell_type": "markdown",
   "id": "77670e4e",
   "metadata": {
    "papermill": {
     "duration": 0.00776,
     "end_time": "2024-11-30T13:29:42.992703",
     "exception": false,
     "start_time": "2024-11-30T13:29:42.984943",
     "status": "completed"
    },
    "tags": []
   },
   "source": [
    "### Creating conext cache for Prizoner of Azkaban"
   ]
  },
  {
   "cell_type": "code",
   "execution_count": 10,
   "id": "b7887e5c",
   "metadata": {
    "execution": {
     "iopub.execute_input": "2024-11-30T13:29:43.011989Z",
     "iopub.status.busy": "2024-11-30T13:29:43.011560Z",
     "iopub.status.idle": "2024-11-30T13:29:45.537251Z",
     "shell.execute_reply": "2024-11-30T13:29:45.535964Z"
    },
    "papermill": {
     "duration": 2.539332,
     "end_time": "2024-11-30T13:29:45.540382",
     "exception": false,
     "start_time": "2024-11-30T13:29:43.001050",
     "status": "completed"
    },
    "tags": []
   },
   "outputs": [],
   "source": [
    "cached_content_1 = caching_the_content(model, \"Prizoner of Azkaban\", system_instruction, prizoner_of_azkaban_book_text)"
   ]
  },
  {
   "cell_type": "code",
   "execution_count": 11,
   "id": "56301ca7",
   "metadata": {
    "execution": {
     "iopub.execute_input": "2024-11-30T13:29:45.560348Z",
     "iopub.status.busy": "2024-11-30T13:29:45.559816Z",
     "iopub.status.idle": "2024-11-30T13:29:45.565949Z",
     "shell.execute_reply": "2024-11-30T13:29:45.564732Z"
    },
    "papermill": {
     "duration": 0.018921,
     "end_time": "2024-11-30T13:29:45.568678",
     "exception": false,
     "start_time": "2024-11-30T13:29:45.549757",
     "status": "completed"
    },
    "tags": []
   },
   "outputs": [],
   "source": [
    "model_1 = genai.GenerativeModel.from_cached_content(cached_content=cached_content_1, generation_config=generation_config)"
   ]
  },
  {
   "cell_type": "markdown",
   "id": "7d03c191",
   "metadata": {
    "papermill": {
     "duration": 0.008053,
     "end_time": "2024-11-30T13:29:45.585871",
     "exception": false,
     "start_time": "2024-11-30T13:29:45.577818",
     "status": "completed"
    },
    "tags": []
   },
   "source": [
    "### Prompts on Prizoner of Azkaban"
   ]
  },
  {
   "cell_type": "code",
   "execution_count": 12,
   "id": "4f9950f4",
   "metadata": {
    "execution": {
     "iopub.execute_input": "2024-11-30T13:29:45.605517Z",
     "iopub.status.busy": "2024-11-30T13:29:45.604550Z",
     "iopub.status.idle": "2024-11-30T13:29:59.984935Z",
     "shell.execute_reply": "2024-11-30T13:29:59.983653Z"
    },
    "papermill": {
     "duration": 14.394023,
     "end_time": "2024-11-30T13:29:59.988373",
     "exception": false,
     "start_time": "2024-11-30T13:29:45.594350",
     "status": "completed"
    },
    "tags": []
   },
   "outputs": [
    {
     "name": "stdout",
     "output_type": "stream",
     "text": [
      "To integrate James Bond into *Harry Potter and the Prisoner of Azkaban* without a complete rewrite, we'll focus on strategically placed interventions that leverage Bond's skills while respecting the core narrative.  Here are scenarios showing changes and their effect on the storyline:\n",
      "\n",
      "**Scenario 1:  Bond Assists with the Initial Investigation**\n",
      "\n",
      "* **Original:** The Ministry of Magic's investigation into Sirius Black's escape is largely bureaucratic and ineffective in the early stages.\n",
      "* **Change:**  After the Weasley’s ill-fated phone call, the Ministry quietly contacts MI6 (perhaps through a discreet contact within the Ministry who knows of Bond's abilities).  M informs Bond of the escape and the peculiar circumstances.  Bond, intrigued by the magical element, agrees to assist. He provides the Ministry with cutting-edge surveillance technology (think miniature tracking devices subtly placed on Black's belongings when he escaped).  This significantly accelerates the investigation, giving the Ministry crucial intel about Black's movements, though not his true motive yet. \n",
      "\n",
      "* **Storyline Effect:** The early investigation becomes far more efficient and less reliant on guesswork. The pacing quickens, leading to earlier confrontation with Black and allowing for earlier character reveals in the plot. Harry isn’t as isolated while he waits to discover more clues.\n",
      "\n",
      "**Scenario 2: Bond Intervenes During the Knight Bus Encounter**\n",
      "\n",
      "* **Original:** Harry’s encounter with the Knight Bus is largely comedic.  \n",
      "* **Change:** The \"big black thing\" Harry sees is, in reality, a specialized surveillance drone Bond deployed to track Black. It malfunctions, causing Harry to fall, thus triggering the Knight Bus appearance. Bond himself isn't immediately visible, but subtly influences events. For instance, perhaps a covert communication from the drone causes Stan Shunpike to be subtly less suspicious and thus, slightly more helpful to Harry.  After getting on the Knight Bus, Harry notices the Knight Bus’ speed and advanced technology, subtly suggesting a higher power than just pure wizardry at play.\n",
      "\n",
      "* **Storyline Effect:** Adds a layer of suspense and intrigue to an otherwise lighthearted scene.  Hints at Bond's involvement early and subliminally reinforces the idea that there are forces beyond the wizarding world influencing the situation, thus making the overarching mystery more complex and less isolated to Hogwarts/Ministry capabilities alone.\n",
      "\n",
      "\n",
      "**Scenario 3: Bond Aids in Confronting the Dementors**\n",
      "\n",
      "* **Original:** Harry's near-fatal experience with the dementors on the train is primarily explained by his emotional vulnerability.\n",
      "* **Change:** Bond, having tracked Black's approach to the train through his technology, secretly deploys a device that emits a high-frequency sonic pulse designed to temporarily disrupt the dementors' abilities (a subtle “magical” interference that aligns with Bond's background). The effect is not total incapacitation but causes a momentary confusion, preventing a full-on attack. It allows Professor Lupin, though already on the train, the time needed to intervene and protect the students.  The device's presence is subtly alluded to in the following dialogue — a detail Harry can’t entirely explain.\n",
      "\n",
      "\n",
      "* **Storyline Effect:** Makes the dementor encounter less reliant on Harry’s solely emotional state for explanation and suggests there's an outside influence even more powerful than the magic present on the train. This also creates early suspense and questions on Bond’s level of influence and awareness of events that only happen by coincidence.\n",
      "\n",
      "**Scenario 4:  Bond Provides Critical Intel (climax alteration)**\n",
      "\n",
      "* **Original:** The climax is relatively straightforward: Harry confronts Black in the Shrieking Shack.\n",
      "* **Change:**  Bond, having gathered information on Black through various sources and surveillance and having observed Black’s tactics, arrives subtly in the forest near Hogwarts, deploying state-of-the-art technology, unseen to Hogwarts students.  This technology intercepts a secret message from Peter Pettigrew, thus revealing Black's innocence much earlier in the plot than in the book's climax.\n",
      "\n",
      "\n",
      "* **Storyline Effect:**  Substantially reduces the element of surprise around the \"true culprit.\" This alters character motivations — particularly Snape's hostility towards Lupin might come off as less rational or based on an already outdated view on Pettigrew’s guilt. The final confrontation is less a mystery solving and more an active collaboration to apprehend Pettigrew and bring him to justice, potentially changing the emphasis of this section to a focus on action than discovery.\n",
      "\n",
      "\n",
      "These are just examples; Bond's presence could subtly impact many more scenes.  The key is to use his expertise to enhance and accelerate existing plot points, creating a unique blend of magic and espionage without sacrificing the heart of Rowling’s narrative.\n",
      "\n"
     ]
    }
   ],
   "source": [
    "# Prompt 1\n",
    "\n",
    "prompt_prizoner_of_azkaban_1 = story_alteration_prizoner_of_azkaban + \"\\n\" +change_extents[1]['description'] + \"\\n\" + output_required[0]\n",
    "response_prizoner_of_azkaban_1 = model_1.generate_content(prompt_prizoner_of_azkaban_1)\n",
    "print(response_prizoner_of_azkaban_1.text)"
   ]
  },
  {
   "cell_type": "code",
   "execution_count": 13,
   "id": "0b97f3bc",
   "metadata": {
    "execution": {
     "iopub.execute_input": "2024-11-30T13:30:00.016384Z",
     "iopub.status.busy": "2024-11-30T13:30:00.012274Z",
     "iopub.status.idle": "2024-11-30T13:30:15.190207Z",
     "shell.execute_reply": "2024-11-30T13:30:15.188935Z"
    },
    "papermill": {
     "duration": 15.194599,
     "end_time": "2024-11-30T13:30:15.193262",
     "exception": false,
     "start_time": "2024-11-30T13:29:59.998663",
     "status": "completed"
    },
    "tags": []
   },
   "outputs": [
    {
     "name": "stdout",
     "output_type": "stream",
     "text": [
      "Here are some possible dialogues between James Bond and other characters in an alternate *Harry Potter and the Prisoner of Azkaban* where Bond plays a significant role, focusing on key moments where his presence would reshape the plot:\n",
      "\n",
      "\n",
      "**Scene 1: The Leaky Cauldron - Initial Encounter**\n",
      "\n",
      "* **Setting:** A private room in the Leaky Cauldron, shortly after Harry Potter has run away from home.  Cornelius Fudge has already apprehended Harry.\n",
      "\n",
      "* **Characters:** Harry Potter, Cornelius Fudge, James Bond (introduced as a Ministry consultant)\n",
      "\n",
      "* **Dialogue:**\n",
      "\n",
      "> **Fudge:** (to Harry)  You've caused quite a stir, Mr. Potter.  Running away like that...\n",
      ">\n",
      "> **Harry:**  (nervously) It was Aunt Marge... she... she provoked me.\n",
      ">\n",
      "> **Fudge:**  We'll deal with that. But this requires discretion. Mr. Bond, (gesturing towards Bond) will be assisting the Ministry in this delicate matter.  He's an expert in... sensitive situations.\n",
      ">\n",
      "> **Bond:** (calmly)  My expertise is ensuring the right information gets to the right people at the right time, Mr. Fudge. Discretion is key. (turns to Harry) I understand you've been facing some challenges with magic outside of Hogwarts. \n",
      ">\n",
      "> **Harry:** (bewildered) Sir? I just need to...\n",
      ">\n",
      "> **Bond:** We need to understand what happened with your aunt and—potentially—why someone wants you silenced. We can then consider the best outcome.\n",
      "\n",
      "\n",
      "**Scene 2:  Hogwarts Grounds – Tracking Sirius Black**\n",
      "\n",
      "* **Setting:** The grounds of Hogwarts, night time.  Bond uses technological tools to help Harry track potential activity of Black's associates\n",
      "\n",
      "* **Characters:** Harry Potter, James Bond\n",
      "\n",
      "* **Dialogue:**\n",
      "\n",
      "> **Bond:** (pointing a small, advanced device towards the forest)  Interesting energy signatures here, Potter. Magical, I presume. Something more than just ambient power. Enhanced sensor picks up movement.\n",
      ">\n",
      "> **Harry:** (eyes wide) It's… it's him? I thought they’d be all over the castle by now.\n",
      ">\n",
      "> **Bond:**  Not necessarily. The Ministry's efforts may have been too obvious. A subtler approach may work.\n",
      ">\n",
      "> **Harry:** How can you tell if that is his path?\n",
      ">\n",
      "> **Bond:** (showing Harry a screen on the device) My device monitors thermal patterns and faint energy fluctuations consistent with escape attempts. It isolates individuals with particular magical affinities.\n",
      "\n",
      "\n",
      "**Scene 3:  The Hogwarts Express – Dementor Attack**\n",
      "\n",
      "* **Setting:** An empty compartment on the Hogwarts Express.  Harry and a few friends are attacked by Dementors.\n",
      "\n",
      "* **Characters:** Harry Potter, Ron Weasley, Hermione Granger, James Bond\n",
      "\n",
      "* **Dialogue:**\n",
      "\n",
      "> **(Dementors appear, the compartment plunges into coldness)**\n",
      ">\n",
      "> **Harry:** (Gasps, struggling) I...I can't...\n",
      ">\n",
      "> **Ron & Hermione:** (Frozen with fear)\n",
      ">\n",
      "> **Bond:** (swiftly drawing a concealed weapon, it’s a specialized anti-dementor device which emits a pulse that pushes the Dementors back)  Potter, stay focused! This isn't the end. Don’t dwell on your fear.\n",
      ">\n",
      "> **Harry:** (recovering slightly) That device? Who are you really?\n",
      ">\n",
      "> **Bond:** I work best in the shadows, Potter. For now, you'll only get answers as we go along. But we'll figure this out.\n",
      "\n",
      "\n",
      "\n",
      "**Scene 4: Confrontation with a Dark Wizard**\n",
      "\n",
      "* **Setting:** A secret passage within Hogwarts, discovered by Harry and his friends using the Marauder's Map and assisted by Bond.  They encounter a dark wizard acting on Black’s behalf.\n",
      "\n",
      "* **Characters:** Harry Potter, Ron Weasley, Hermione Granger, James Bond, a Dark Wizard\n",
      "\n",
      "* **Dialogue:**\n",
      "\n",
      "> **Dark Wizard:** You'll never stop us from returning him to the Dark Lord!\n",
      ">\n",
      "> **Bond:** (drawning a Walther PPK,  shooting the Dark Wizard’s wand out of their hand)  Let’s try something more subtle, shall we?  We are quite fond of the peaceful resolution.\n",
      ">\n",
      "> **Harry:**  That was quick! How did you...\n",
      ">\n",
      "> **Bond:**  (picking up the fallen wand) I have a few tricks up my sleeve, Potter. Let's ensure the remaining magical elements of this location aren’t causing any chaos.\n",
      ">\n",
      "> **Ron:** (to the bound dark wizard) What were you doing? Are you part of Black's group?\n",
      "\n",
      "These dialogues are just examples;  the specifics could be further developed depending on how Bond's character is integrated into the existing narrative structure of *Harry Potter and the Prisoner of Azkaban*.  The setting and additional dialogues should be shaped to maintain the existing plot points but emphasize Bond’s skills and strategic thinking throughout the story.\n",
      "\n"
     ]
    }
   ],
   "source": [
    "# Prompt 2\n",
    "\n",
    "prompt_prizoner_of_azkaban_2 = story_alteration_prizoner_of_azkaban + \"\\n\" +change_extents[1]['description'] + \"\\n\" + output_required[1]\n",
    "response_prizoner_of_azkaban_2 = model_1.generate_content(prompt_prizoner_of_azkaban_2)\n",
    "print(response_prizoner_of_azkaban_2.text)"
   ]
  },
  {
   "cell_type": "code",
   "execution_count": 14,
   "id": "2ae05e98",
   "metadata": {
    "execution": {
     "iopub.execute_input": "2024-11-30T13:30:15.214964Z",
     "iopub.status.busy": "2024-11-30T13:30:15.214537Z",
     "iopub.status.idle": "2024-11-30T13:30:32.800013Z",
     "shell.execute_reply": "2024-11-30T13:30:32.798697Z"
    },
    "papermill": {
     "duration": 17.600331,
     "end_time": "2024-11-30T13:30:32.803183",
     "exception": false,
     "start_time": "2024-11-30T13:30:15.202852",
     "status": "completed"
    },
    "tags": []
   },
   "outputs": [
    {
     "name": "stdout",
     "output_type": "stream",
     "text": [
      "## Harry Potter and the Prisoner of Azkaban: 007 Intervention\n",
      "\n",
      "**Logline:** When Sirius Black escapes Azkaban, Harry Potter finds an unlikely ally in James Bond, whose espionage skills and tactical prowess reshape the investigation and lead to a thrilling confrontation with dark forces.\n",
      "\n",
      "\n",
      "**Running Time:** 60 minutes\n",
      "\n",
      "\n",
      "**Act I: The Shadow of Black (0-15 minutes)**\n",
      "\n",
      "**Scene 1:** (0-3 min) Privet Drive. Opens on a frantic news report about Sirius Black's escape – shown on a flickering TV in the Dursleys’ kitchen.  Uncle Vernon's outrage is amplified by his fear. Harry, secretly studying \"A History of Magic,\" overhears.  The scene ends with a shot of a sleek, modern phone subtly placed amongst Harry's books.\n",
      "\n",
      "**Scene 2:** (3-7 min)  A covert meeting.  Night.  M16 safehouse, dimly lit.  M (Gareth Mallory), looking aged but sharp, briefs Bond about Black’s escape and its potential for global chaos. He emphasizes the unusual nature of the threat and links to other cases, suggesting a wider magical network than originally thought.  Bond reviews files; a close-up shows details about Azkaban, hinting at the unusual nature of the prison.\n",
      "\n",
      "**Scene 3:** (7-12 min) Hogwarts Express. Day. Bond, disguised as a professor, boards discreetly using his own resources.  He approaches Harry, observing his unique qualities.  Harry's initial distrust is swiftly replaced by wonder when Bond smoothly produces high-tech tracking equipment (miniature camera, earpiece), superior to Harry's usual means.  The Sneakoscope goes off and the reveal is not random –  Bond uses the same technology to isolate the source. The mystery of Sirius Black is presented visually; pictures, magical items and Bond's expertise to capture audience attention.\n",
      "\n",
      "**Scene 4:** (12-15 min)  The Dementor Attack. Night.  Hogwarts Express. The scene mirrors the original, but Bond, using his superior skills, guides Harry and Hermione, telling them what the cold is and providing breathing techniques for the dementor's attack. Bond showcases a different approach compared to Lupin – high tech, and intelligence against mystical approach. Bond fights a dementor. Quick, elegant fight choreography; Bond's weapon is not magic, showcasing Bond's ability in a supernatural world.\n",
      "\n",
      "\n",
      "**Act II: Unveiling the Truth (15-40 minutes)**\n",
      "\n",
      "**Scene 5:** (15-20 min) Hogwarts. Day.  Bond reveals his expertise, sharing his knowledge of surveillance and deduction. He helps the trio interpret seemingly unrelated events using his skills and knowledge from his past cases – highlighting parallels with magical threats in his world and using real-world tools and spy techniques that the trio doesn't normally have.\n",
      "\n",
      "**Scene 6:** (20-25 min) The Leaky Cauldron. Bond discreetly investigates the Ministry of Magic's operations.  Bond's observation of Cornelius Fudge and other officials is detailed with subtle changes in the conversation, leading to a more focused investigation on Black's connections.\n",
      "\n",
      "\n",
      "**Scene 7:** (25-30 min)  Hogsmeade Trip.  Day.  Bond's modern tech allows for discrete monitoring of Hogsmeade – an alternative to relying purely on owls. They intercept communications, highlighting Black’s plan and providing a tactical edge – Bond's actions have improved Harry's position and his resources to achieve his goal in a more efficient manner.\n",
      "\n",
      "\n",
      "**Scene 8:** (30-35 min)  Confrontation at Shrieking Shack.  Night. A shorter version of this pivotal scene showcases both Bond and Black in combat. Black fights with a different intensity - the usual approach is a physical one, as it is contrasted against Bond's highly tactical approach.\n",
      "\n",
      "\n",
      "**Scene 9:** (35-40 min) Unveiling Pettigrew.   The reveal of Peter Pettigrew's identity as Scabbers is accelerated, leveraging Bond's skills.  A close-up on the rat, its missing toe highlighted, points to this twist in the story. Bond is involved in the confrontation with Pettigrew – action choreography emphasizing his agility and skills. \n",
      "\n",
      "\n",
      "\n",
      "**Act III: Resolution and Escape (40-60 minutes)**\n",
      "\n",
      "**Scene 10:** (40-45 min)  The Escape from Shrieking Shack. Night. Bond's plan is used to lead the escape of Sirius, the rescue of Ron and an alternative route is planned for this scene compared to the original movie.\n",
      "\n",
      "**Scene 11:** (45-50 min)  Confrontation with Dementors. Bond uses tactical strategies and special gadgets against the dementors. The focus is shifted; it's no longer solely Harry who manages the situation; bond utilizes different techniques and tools to counter them. The climax here is different to the original narrative, which focuses more on emotional resonance rather than the tactical or strategical aspect. \n",
      "\n",
      "**Scene 12:** (50-55 min) The Revelation.  A montage of revelations reveals that it wasn't Harry's father that conjured the powerful Patronus but rather Bond. Through a flashback and visual aids, the audience can see Bond conjuring a powerful stag Patronus. This would be crucial in building audience interest, and intrigue in the film. The explanation shows that the stag-Patronus from Harry's father, used as a decoy for emotional impact; only an extremely powerful wizard, James Bond, had conjured a stag Patronus in this alternate universe, this highlights the character's importance, ability, and power within the alternate magical world of Harry Potter.\n",
      "\n",
      "**Scene 13:** (55-60 min)  Resolution.  A conclusive scene showing Bond leaving the wizarding world, emphasizing the unexpected and temporary nature of his involvement, and leaving the audience to anticipate the lasting impact of Bond's involvement. The final moments showcase that Harry Potter is on the path of growing to becoming the legendary hero while Bond's presence provides guidance, assistance and training.\n",
      "\n",
      "\n",
      "**Note:**  The script needs further expansion to fill the 60-minute runtime with specific dialogue and detailed action descriptions.  The pacing should be fast-paced, typical of a Bond film, integrating action sequences seamlessly with the unfolding mystery. The visual storytelling should be strong, emphasizing the contrast between the magical world and Bond's methods, which brings a blend of two worlds together. The adaptation must make sure the core theme and essence of the narrative are delivered effectively in a shorter span of time.\n",
      "\n"
     ]
    }
   ],
   "source": [
    "# Prompt 3\n",
    "\n",
    "prompt_prizoner_of_azkaban_3 = story_alteration_prizoner_of_azkaban + \"\\n\" +change_extents[1]['description'] + \"\\n\" + output_required[2]\n",
    "response_prizoner_of_azkaban_3 = model_1.generate_content(prompt_prizoner_of_azkaban_3)\n",
    "print(response_prizoner_of_azkaban_3.text)"
   ]
  },
  {
   "cell_type": "code",
   "execution_count": 15,
   "id": "a122698f",
   "metadata": {
    "execution": {
     "iopub.execute_input": "2024-11-30T13:30:32.824041Z",
     "iopub.status.busy": "2024-11-30T13:30:32.823544Z",
     "iopub.status.idle": "2024-11-30T13:31:01.149835Z",
     "shell.execute_reply": "2024-11-30T13:31:01.148171Z"
    },
    "papermill": {
     "duration": 28.340021,
     "end_time": "2024-11-30T13:31:01.152989",
     "exception": false,
     "start_time": "2024-11-30T13:30:32.812968",
     "status": "completed"
    },
    "tags": []
   },
   "outputs": [
    {
     "name": "stdout",
     "output_type": "stream",
     "text": [
      "## Harry Potter and the Prisoner of Azkaban: A 007 Intervention\n",
      "\n",
      "This revised version of *Harry Potter and the Prisoner of Azkaban* integrates James Bond into the narrative, significantly impacting the investigation into Sirius Black's escape and Harry's personal journey.  The core mystery remains – Sirius Black, wrongfully accused of murdering twelve people and betraying the Potters, escapes from Azkaban and targets Harry – but Bond’s unique skills and experience reshape key events.\n",
      "\n",
      "**The Plot:**\n",
      "\n",
      "The story begins similarly, with Harry enduring a miserable summer at the Dursleys'. However, the infamous phone call from Ron Weasley is intercepted by 007, who, alerted by a seemingly innocuous tip-off regarding unusual magical activity near Privet Drive, is already discreetly observing the Dursleys.  Bond's sophisticated surveillance tech reveals evidence of magical activity emanating from the cupboard under the stairs, solidifying his suspicions. He immediately contacts M (in a discreetly staged phone call disguised as an innocent chat with a contact), informing them of his involvement in a potentially significant magical situation. MI6, always wary of unknown threats, grants him unusual operational flexibility.\n",
      "\n",
      "Bond's involvement is crucial in investigating Black's escape. Utilizing his network of informants, technological prowess (think miniature cameras and GPS trackers magically concealed within ordinary items), and interrogation skills, he gathers intel far beyond the Ministry's reach. This intelligence provides crucial leads about Black's methods, such as identifying a rarely used Portkey hidden within Azkaban itself and suggesting his use of unregistered Animagus transformations (something Bond has encountered in his past espionage cases).\n",
      "\n",
      "During the confrontation with the dementors on the Hogwarts Express, Bond uses his gadgets to provide a diversion, minimizing the duration of their devastating presence upon Harry and allowing the boy more time to resist the soul-crushing magic. His specialized tranquilizer darts (modified to neutralize magical attacks), for instance, helps neutralize a dementor long enough for Professor Lupin to use a counter-curse.\n",
      "\n",
      "Later, during the investigation, Bond's tactical mind proves instrumental. He assists in uncovering Pettigrew's true identity far earlier.  Instead of relying on happenstance at the Magical Menagerie, Bond's research into Animagus transformations points to Peter Pettigrew much earlier using facial recognition technology with magical images and then utilizes a modified polyjuice potion (again via a carefully orchestrated encounter in Diagon Alley that only a top secret agent could accomplish) to extract the information from him.\n",
      "\n",
      "The climax remains similar but augmented by Bond's expertise. Instead of a spontaneous confrontation,  Bond’s intel allows for a strategic intervention during the showdown at the Shrieking Shack, resulting in a carefully executed infiltration that avoids Lupin’s accidental transformation into a werewolf. Bond expertly disables the werewolf and employs a quick, stealthy takedown of Peter Pettigrew without resort to deadly violence, demonstrating proficiency in unarmed combat that complements Lupin’s magical prowess.\n",
      "\n",
      "**Bond's Influence:**\n",
      "\n",
      "Bond's presence elevates the stakes and intrigue, adding layers of real-world espionage techniques within the fantastical wizarding world.  His involvement turns the story into a high-stakes game of cat-and-mouse between the secret agent and a powerful, dark wizard, running parallel to the magical mysteries and adventures faced by Harry. His contributions make the plot faster-paced and more action-packed.\n",
      "\n",
      "**Key Differences & Significance:**\n",
      "\n",
      "* **Faster-Paced Investigation:**  Bond's efficiency speeds up the unraveling of Black’s plan.\n",
      "* **Technological Advancements:**  The introduction of sophisticated, high-tech gadgets from Bond’s arsenal adds layers of realism and sophistication.\n",
      "* **Strategic Combat:** Bond's fighting skills and strategic mind play a pivotal role in critical scenes.\n",
      "* **Expanded Intel Network:** Bond's global network offers Harry and his friends resources the Ministry cannot readily provide.\n",
      "* **Shifted Focus:**  The balance shifts slightly away from a primarily student-centric investigation to one involving both Harry and a highly skilled adult protagonist.\n",
      "\n",
      "Overall, Bond's presence changes the flavor of the story.  It becomes a blend of magical mystery and thrilling espionage, keeping the magical world's charm while adding an adrenaline-pumping element of modern spy-thriller action. This collaboration significantly enhances the narrative and enriches the character dynamics, creating a unique and captivating read.\n",
      "\n"
     ]
    }
   ],
   "source": [
    "# Prompt 4\n",
    "\n",
    "prompt_prizoner_of_azkaban_4 = story_alteration_prizoner_of_azkaban + \"\\n\" +change_extents[1]['description'] + \"\\n\" + output_required[3]\n",
    "response_prizoner_of_azkaban_4 = model_1.generate_content(prompt_prizoner_of_azkaban_4)\n",
    "print(response_prizoner_of_azkaban_4.text)"
   ]
  },
  {
   "cell_type": "code",
   "execution_count": 16,
   "id": "1bc620c3",
   "metadata": {
    "execution": {
     "iopub.execute_input": "2024-11-30T13:31:01.177413Z",
     "iopub.status.busy": "2024-11-30T13:31:01.176374Z",
     "iopub.status.idle": "2024-11-30T13:31:01.382374Z",
     "shell.execute_reply": "2024-11-30T13:31:01.380952Z"
    },
    "papermill": {
     "duration": 0.221943,
     "end_time": "2024-11-30T13:31:01.384936",
     "exception": false,
     "start_time": "2024-11-30T13:31:01.162993",
     "status": "completed"
    },
    "tags": []
   },
   "outputs": [
    {
     "name": "stdout",
     "output_type": "stream",
     "text": [
      "CachedContent(\n",
      "    name='cachedContents/5pos81m8sly1',\n",
      "    model='models/gemini-1.5-flash-002',\n",
      "    display_name='Prizoner of Azkaban',\n",
      "    usage_metadata={\n",
      "        'total_token_count': 150524,\n",
      "    },\n",
      "    create_time=2024-11-30 13:29:45.419711+00:00,\n",
      "    update_time=2024-11-30 13:29:45.419711+00:00,\n",
      "    expire_time=2024-11-30 13:49:45.079727+00:00\n",
      ")\n"
     ]
    }
   ],
   "source": [
    "# Display Cached Contents\n",
    "for c in caching.CachedContent.list():\n",
    "  print(c)"
   ]
  },
  {
   "cell_type": "markdown",
   "id": "33f3c0f9",
   "metadata": {
    "papermill": {
     "duration": 0.010182,
     "end_time": "2024-11-30T13:31:01.404605",
     "exception": false,
     "start_time": "2024-11-30T13:31:01.394423",
     "status": "completed"
    },
    "tags": []
   },
   "source": [
    "<div style=\"font-family:Verdana\" id=\"delete-cache-1\">\n",
    "    <h3>Delete cached stored for prizoner of azkaban</h3>\n",
    "    <p style=\"font-size:  16px\"> We do not require cached stored for prizoner of azkaban now so we can delete it and then will create new cache for Order of Phoenix. This is required because, for gemini-1.5-flash model we have 1 million context caching limit, if we not delete this then unnecessary will occupy the space in conext cache and also will take cache storage cost</p>\n",
    "</div>"
   ]
  },
  {
   "cell_type": "code",
   "execution_count": 17,
   "id": "9eeba6ca",
   "metadata": {
    "execution": {
     "iopub.execute_input": "2024-11-30T13:31:01.430362Z",
     "iopub.status.busy": "2024-11-30T13:31:01.429873Z",
     "iopub.status.idle": "2024-11-30T13:31:01.714063Z",
     "shell.execute_reply": "2024-11-30T13:31:01.712663Z"
    },
    "papermill": {
     "duration": 0.298657,
     "end_time": "2024-11-30T13:31:01.717304",
     "exception": false,
     "start_time": "2024-11-30T13:31:01.418647",
     "status": "completed"
    },
    "tags": []
   },
   "outputs": [],
   "source": [
    "# Delete cached content craeted for Prizoner of Azkaban to use it for Order of Phoenix\n",
    "cached_content_1.delete()"
   ]
  },
  {
   "cell_type": "markdown",
   "id": "05f837d0",
   "metadata": {
    "papermill": {
     "duration": 0.01031,
     "end_time": "2024-11-30T13:31:01.737654",
     "exception": false,
     "start_time": "2024-11-30T13:31:01.727344",
     "status": "completed"
    },
    "tags": []
   },
   "source": [
    "<div style=\"font-family:Verdana\" id=\"bond-return\">\n",
    "    <h2>James Bond returns in Order of Phoenix</h2>\n",
    "    <p style=\"font-size:16px\">Now we have summary of altered story in Harry Potter and Prizoner of Azkaban. We will give it as a input conext tokens to the model along with the complete  Order of phoenix book to make it consistent in the series. Also we want responses to get consistent from the past and not generate much random and different things.</p>\n",
    "</div>"
   ]
  },
  {
   "cell_type": "code",
   "execution_count": 18,
   "id": "8e300f98",
   "metadata": {
    "execution": {
     "iopub.execute_input": "2024-11-30T13:31:01.759831Z",
     "iopub.status.busy": "2024-11-30T13:31:01.759354Z",
     "iopub.status.idle": "2024-11-30T13:31:01.765348Z",
     "shell.execute_reply": "2024-11-30T13:31:01.764140Z"
    },
    "papermill": {
     "duration": 0.020709,
     "end_time": "2024-11-30T13:31:01.767997",
     "exception": false,
     "start_time": "2024-11-30T13:31:01.747288",
     "status": "completed"
    },
    "tags": []
   },
   "outputs": [],
   "source": [
    "summary_of_prizoner_of_azkaban = \"\"\" I am giving you the summary of the altered story of Harry Potter and Prizoner of Azkaban\n",
    "by incoporating James Bond character. This is as follows - \n",
    "\"\"\" + prompt_prizoner_of_azkaban_4"
   ]
  },
  {
   "cell_type": "markdown",
   "id": "c0ea19b5",
   "metadata": {
    "papermill": {
     "duration": 0.008765,
     "end_time": "2024-11-30T13:31:01.786375",
     "exception": false,
     "start_time": "2024-11-30T13:31:01.777610",
     "status": "completed"
    },
    "tags": []
   },
   "source": [
    "### Context cache for Order of Phoenix"
   ]
  },
  {
   "cell_type": "code",
   "execution_count": 19,
   "id": "66028e5e",
   "metadata": {
    "execution": {
     "iopub.execute_input": "2024-11-30T13:31:01.807599Z",
     "iopub.status.busy": "2024-11-30T13:31:01.807061Z",
     "iopub.status.idle": "2024-11-30T13:31:06.327938Z",
     "shell.execute_reply": "2024-11-30T13:31:06.326495Z"
    },
    "papermill": {
     "duration": 4.535424,
     "end_time": "2024-11-30T13:31:06.331062",
     "exception": false,
     "start_time": "2024-11-30T13:31:01.795638",
     "status": "completed"
    },
    "tags": []
   },
   "outputs": [],
   "source": [
    "cached_content_2 = caching_the_content(model, \"Order of Phoenix\", system_instruction, order_of_phoenix_book_text)"
   ]
  },
  {
   "cell_type": "code",
   "execution_count": 20,
   "id": "6f54bbd7",
   "metadata": {
    "execution": {
     "iopub.execute_input": "2024-11-30T13:31:06.354297Z",
     "iopub.status.busy": "2024-11-30T13:31:06.353665Z",
     "iopub.status.idle": "2024-11-30T13:31:06.360059Z",
     "shell.execute_reply": "2024-11-30T13:31:06.358743Z"
    },
    "papermill": {
     "duration": 0.021311,
     "end_time": "2024-11-30T13:31:06.362626",
     "exception": false,
     "start_time": "2024-11-30T13:31:06.341315",
     "status": "completed"
    },
    "tags": []
   },
   "outputs": [],
   "source": [
    "model_2 = genai.GenerativeModel.from_cached_content(cached_content=cached_content_2,generation_config=generation_config)"
   ]
  },
  {
   "cell_type": "markdown",
   "id": "6a70e1cd",
   "metadata": {
    "papermill": {
     "duration": 0.010239,
     "end_time": "2024-11-30T13:31:06.382875",
     "exception": false,
     "start_time": "2024-11-30T13:31:06.372636",
     "status": "completed"
    },
    "tags": []
   },
   "source": [
    "### Prompts on Order of Phoenix"
   ]
  },
  {
   "cell_type": "code",
   "execution_count": 21,
   "id": "327be2ed",
   "metadata": {
    "execution": {
     "iopub.execute_input": "2024-11-30T13:31:06.404224Z",
     "iopub.status.busy": "2024-11-30T13:31:06.403726Z",
     "iopub.status.idle": "2024-11-30T13:31:26.677120Z",
     "shell.execute_reply": "2024-11-30T13:31:26.675845Z"
    },
    "papermill": {
     "duration": 20.2878,
     "end_time": "2024-11-30T13:31:26.680216",
     "exception": false,
     "start_time": "2024-11-30T13:31:06.392416",
     "status": "completed"
    },
    "tags": []
   },
   "outputs": [
    {
     "name": "stdout",
     "output_type": "stream",
     "text": [
      "Here's a summary of how the *Harry Potter and the Order of the Phoenix* story could be altered to incorporate James Bond, focusing on the scenarios of change and their impact on the storyline:\n",
      "\n",
      "**Scenarios of Change and Storyline Impact:**\n",
      "\n",
      "1. **The Ministry Leak & Bond's Infiltration:**  The opening chapters detailing Harry's miserable summer at the Dursleys remain largely unchanged. However, instead of relying solely on the unreliable Daily Prophet for news,  Bond is introduced as a secret agent assigned to investigate a suspected leak within the Ministry of Magic concerning Voldemort's return.  He uses his sophisticated surveillance technology (think miniature tracking devices, listening bugs, etc.) to monitor Ministry communications, providing Harry with early and more accurate information about Voldemort's activities and the Order of the Phoenix. This significantly reduces Harry's frustration and isolation at Privet Drive, altering his initial mood and potentially his actions.  He might be proactively involved in smaller missions under Bond's direction, providing more active engagement early on.\n",
      "\n",
      "2. **Enhanced Dementor Confrontation:** The alleyway scene where Harry confronts the Dementors is amplified. Bond, alerted by his monitoring devices or Harry's own urgent communication (perhaps a magically enhanced mobile phone), intervenes. His superior combat skills and potentially a gadget providing a powerful counter-spell or temporary defensive barrier assist Harry in defeating the Dementors quickly and efficiently, minimizing the danger. The dramatic confrontation remains, but Bond's skills ensure a cleaner victory and avoid serious consequences for Harry.\n",
      "\n",
      "3. **Order Headquarters Security Upgrade:** Bond assesses the security of 12 Grimmauld Place. He would identify and mitigate vulnerabilities, providing insights into anti-apparition measures, surveillance countermeasures, and potentially helping upgrade defenses—maybe installing technological safeguards alongside magical ones. This alters the sense of the house as a dangerous, run-down place; Bond makes it more secure.  This reduces the suspense tied to the precarious situation in the house, perhaps shifting some of that to new threats brought on by Bond's presence.\n",
      "\n",
      "4. **The Ministry Hearing:** The Ministry hearing's proceedings might remain largely similar; however, Bond’s presence provides Harry with access to advanced, hidden techniques (perhaps hidden compartments, communications devices) that further bolster his defense. This alters the power dynamic in the hearing – Harry's situation may appear stronger, possibly impacting the Ministry's response.\n",
      "\n",
      "5. **Undercover Mission & Capture:** To obtain crucial information about Voldemort’s plans, Bond goes undercover. This might involve infiltrating a Death Eater meeting, stealing crucial documents, or disabling Voldemort’s spy network inside the Ministry. However, this high-stakes operation goes wrong.  Bond's cover is blown and his connection to the Muggle world is revealed—leading to his capture and a sentence to Azkaban.\n",
      "\n",
      "6. **The Rescue:**  Instead of focusing on internal Order struggles, the narrative shifts to a tense rescue mission. Harry and Dumbledore use a combination of magical and Muggle resources to rescue Bond from Azkaban. This could include sophisticated techniques and subterfuge combined with classic Harry Potter magic; It alters the conflict, making it bigger and shifting the focus to the rescue operation in parallel with events already in the original plot.  The final confrontation with Voldemort or his Death Eaters would be bigger and more significant.\n",
      "\n",
      "**Major Differences from the Original:**\n",
      "\n",
      "* **Proactive Harry:** Bond's involvement makes Harry more proactive, less of a reactive character. He is an active participant in gathering intelligence from the very start. \n",
      "* **Shift in Suspense:**  The suspense shifts from the inherent dangers at Grimmauld Place to Bond's dangerous mission and subsequent rescue.\n",
      "* **Altered Conflict:** The major conflict involves not just confronting Voldemort's return, but also the tension of Bond's involvement, revealing the wizarding world to the Muggle world, and dealing with the aftermath of his betrayal.\n",
      "* **Bond's Capture and Rescue:** A significant new plot point involves Bond's capture and rescue, creating a new action-oriented subplot.  \n",
      "\n",
      "\n",
      "In essence, this altered *Order of the Phoenix* integrates Bond’s expertise seamlessly.  The overall plot concerning Voldemort’s return, the Order's activities, and Harry's growth are retained, but the presence of 007 adds a layer of action, espionage, and intrigue, enhancing the conflict and character dynamics without fundamentally changing the original narrative’s core.\n",
      "\n"
     ]
    }
   ],
   "source": [
    "# Prompt 1\n",
    "\n",
    "prompt_order_of_phoenix_1 = summary_of_prizoner_of_azkaban + \"   \\n\" + story_alteration_for_order_of_phoenix  + \"\\n\" + output_required[0]\n",
    "response_order_of_phoenix_1= model_2.generate_content(prompt_order_of_phoenix_1)\n",
    "print(response_order_of_phoenix_1.text)"
   ]
  },
  {
   "cell_type": "code",
   "execution_count": 22,
   "id": "288a0306",
   "metadata": {
    "execution": {
     "iopub.execute_input": "2024-11-30T13:31:26.702991Z",
     "iopub.status.busy": "2024-11-30T13:31:26.701998Z",
     "iopub.status.idle": "2024-11-30T13:31:49.720543Z",
     "shell.execute_reply": "2024-11-30T13:31:49.719150Z"
    },
    "papermill": {
     "duration": 23.03384,
     "end_time": "2024-11-30T13:31:49.723780",
     "exception": false,
     "start_time": "2024-11-30T13:31:26.689940",
     "status": "completed"
    },
    "tags": []
   },
   "outputs": [
    {
     "name": "stdout",
     "output_type": "stream",
     "text": [
      "Given the extensive length of *Harry Potter and the Order of the Phoenix*, providing *all* dialogues between James Bond and other characters in a rewritten version incorporating Bond would be exceptionally long.  Instead, I'll provide key dialogues from pivotal scenes demonstrating Bond's integration and impact.  The summary will focus on his influence on the plot rather than a complete chapter-by-chapter rewrite.\n",
      "\n",
      "\n",
      "**Summary of Altered *Harry Potter and the Order of the Phoenix***\n",
      "\n",
      "The core narrative remains largely the same: Harry is dealing with the Dursleys, discovering Voldemort's return is widely denied by the Ministry, and joins Dumbledore's Army.  However, James Bond's presence introduces significant changes to the tone and certain plot points.\n",
      "\n",
      "**Bond's Integration:**\n",
      "\n",
      "* **Initial Arrival:** Bond, contacted by Dumbledore via a secure magical communication device, arrives at Privet Drive disguised as a mundane electrician working on a faulty Dursley appliance. His initial interactions with the Dursleys are tense, with Uncle Vernon suspicious of Bond's sophisticated equipment and casual demeanor.  A brief, tense dialogue occurs where Bond subtly assesses the Dursleys’ obliviousness to the magical world, while keeping up his mundane guise.  This encounter provides an early display of Bond's assessment skills and tactical thinking, unlike the rather simplistic nature of Harry’s interactions with the Dursleys in the original story.\n",
      "\n",
      "* **The Ministry of Magic Investigation:**  Following the Dementor attack, Bond joins Harry’s clandestine pursuit of information regarding Voldemort's activities. Using advanced tracking devices, hidden cameras, and specialized listening devices, Bond quickly pinpoints a crucial clue the Ministry and the Order overlook: a suspicious magical energy signature emanating from the Ministry itself.   This leads to a crucial scene where Bond confronts a high-ranking Ministry official suspected of collaborating with Voldemort.\n",
      "\n",
      "\n",
      "**Dialogue Example:** (Ministry of Magic corridor, clandestine meeting)\n",
      "\n",
      "**Bond:** \"Your Ministry's security leaves a great deal to be desired, Mr. Weasley. I picked up this energy signature a few blocks away—quite blatant, for such a supposedly secure institution.\"\n",
      "\n",
      "**Arthur Weasley:** (Whispering): \"That's... impossible.  No unauthorized magical activity has been reported.\"\n",
      "\n",
      "**Bond:**  \"There are always gaps in intelligence, Mr. Weasley. Especially when someone is trying very hard to conceal something.  You wouldn’t happen to know who recently had unauthorized access to a particularly sensitive file on Dark Arts activities, would you?\"\n",
      "\n",
      "**Weasley:** (Nervously): \"This is rather above my pay grade.  It's extremely dangerous—.\"\n",
      "\n",
      "**Bond:** \"Dangerous, certainly.  My business usually involves global threats, you know.  But a few small enchantments will put our conversation above the prying ears of the Ministry. What you need to consider here is what Voldemort might need.\"\n",
      "\n",
      "\n",
      "* **Dumbledore's Army:** Bond, operating in a secondary role, provides equipment and training for the Dumbledore’s Army.  He teaches Harry and the students advanced defensive techniques and provides specialized gadgets, including enhanced night-vision devices, high-speed transportation charms, and protective counter-spells.  Bond’s involvement strengthens the group and equips them to confront greater threats than what's seen in the original narrative.\n",
      "\n",
      "* **The Capture:** In a climactic confrontation during a Dumbledore’s Army session at Headquarters, Voldemort attacks and Bond takes direct action, leading to a close-quarters battle with several Death Eaters before getting captured by the Ministry.\n",
      "\n",
      "\n",
      "\n",
      "**Dialogue Example:** (Grimmauld Place, Dumbledore’s Army HQ)\n",
      "\n",
      "**Harry:** \"The Ministry's denying Voldemort's return again.  They’re burying everything. It's infuriating.\"\n",
      "\n",
      "**Bond:** (Calmly): \"Governments have a peculiar fondness for suppressing inconvenient truths, Mr. Potter. Believe me, I know.\"\n",
      "\n",
      "\n",
      "**Dialogue Example:** (Grimmauld Place, after capture)\n",
      "\n",
      "**Bond:** \"I seem to be in rather a tight spot, Mr. Potter.\"\n",
      "**Harry:** (Firmly): \"We're getting you out of here.\"\n",
      "**Dumbledore:** (Calmly): \"It has become even more important now than usual, Arthur, to make certain the Ministry cannot discover that the Boy Who Lived has had access to intelligence not only derived from this country, but quite beyond it, too.\"\n",
      "\n",
      "\n",
      "**Key Differences and Significance:**\n",
      "\n",
      "* **Technological Infusion:** Bond introduces advanced technology that amplifies the magical world with practical non-magical elements. This significantly alters the power balance and introduces new tactical capabilities.\n",
      "\n",
      "* **Plot Pace and Tension:**  Bond's active involvement accelerates the investigation and elevates the action sequences, creating a heightened sense of suspense. The infiltration of the Ministry feels far more daring and tense with Bond’s expertise.\n",
      "\n",
      "* **Character Dynamics:** The interactions between Bond, Dumbledore, Harry, and the Weasleys show the differences in their approach and introduce an element of cross-cultural exchange (magical vs. non-magical spycraft).  Bond provides insights not readily available within the confines of the magical world. The plot, therefore, builds in suspense as we see both sides struggling.\n",
      "\n",
      "\n",
      "* **Bond's Capture and Rescue:**  Bond's imprisonment represents a serious risk for Dumbledore and Harry, with serious consequences in the magical world.  The narrative takes a thrilling turn as Harry takes action to save him, not merely through magic but through careful planning.\n",
      "\n",
      "The overall outcome remains true to the original storyline, though several key points—Ministry corruption, Voldemort's rising threat, the formation of Dumbledore’s Army, and the importance of  Harry's character are shaped through Bond’s intervention and espionage skills.  The tone shifts in a way that makes the entire story quite intriguing.\n",
      "\n"
     ]
    }
   ],
   "source": [
    "#Prompt 2\n",
    "\n",
    "prompt_order_of_phoenix_2 = summary_of_prizoner_of_azkaban + \"   \\n\" + story_alteration_for_order_of_phoenix  + \"\\n\" + output_required[1]\n",
    "response_order_of_phoenix_2= model_2.generate_content(prompt_order_of_phoenix_2)\n",
    "print(response_order_of_phoenix_2.text)"
   ]
  },
  {
   "cell_type": "code",
   "execution_count": 23,
   "id": "07be30a4",
   "metadata": {
    "execution": {
     "iopub.execute_input": "2024-11-30T13:31:49.745835Z",
     "iopub.status.busy": "2024-11-30T13:31:49.745346Z",
     "iopub.status.idle": "2024-11-30T13:32:17.432776Z",
     "shell.execute_reply": "2024-11-30T13:32:17.431625Z"
    },
    "papermill": {
     "duration": 27.703128,
     "end_time": "2024-11-30T13:32:17.437039",
     "exception": false,
     "start_time": "2024-11-30T13:31:49.733911",
     "status": "completed"
    },
    "tags": []
   },
   "outputs": [
    {
     "name": "stdout",
     "output_type": "stream",
     "text": [
      "## Harry Potter and the Order of the Phoenix: A Bond Interlude - 1-Hour Movie Script\n",
      "\n",
      "**Logline:**  When Harry's summer is plagued by Voldemort's renewed power and the Ministry's denial, James Bond, unexpectedly thrust into the wizarding world, lends his unique skills to the Order of the Phoenix, altering the course of the fight against the Dark Lord, but at a considerable cost.\n",
      "\n",
      "**Characters:**\n",
      "\n",
      "* Harry Potter:  The Boy Who Lived\n",
      "* Ron Weasley: Harry's best friend\n",
      "* Hermione Granger: Harry's brilliant friend\n",
      "* James Bond:  British Secret Agent, 007\n",
      "* Albus Dumbledore: Headmaster of Hogwarts\n",
      "* Cornelius Fudge: Minister of Magic\n",
      "* Dolores Umbridge: Senior Undersecretary (and later High Inquisitor)\n",
      "* Sirius Black: Harry's godfather\n",
      "* Ministry Aurors:  Wizarding Law Enforcement\n",
      "\n",
      "**Act I:  A Troubled Summer (15 minutes)**\n",
      "\n",
      "**(Scene 1: Privet Drive, Summer Evening)**\n",
      "\n",
      "* **Setting:** The typically dreary Dursleys' home.  Harry sits hidden behind a bush, listening to a Muggle news report, his face etched with worry.\n",
      "* **Action:** The camera focuses on Harry’s frustrated expression. The scene cuts between his hidden observation and snippets of the Dursleys' oblivious conversation, emphasizing the contrast between Harry's anxieties and their mundanity.\n",
      "* **Dialogue:**\n",
      "    * **Aunt Petunia:** (to Uncle Vernon)  \"...he's always been a delinquent! Those owls…\"\n",
      "    * **Harry (V.O.):** Another day, another agonizing wait.  Voldemort is back, but no one believes me.\n",
      "\n",
      "**(Scene 2:  Unexpected Arrival)**\n",
      "\n",
      "* **Setting:** The Dursleys' garden, night.\n",
      "* **Action:** A sleek black car, unlike any seen on Privet Drive before, pulls up quietly. James Bond steps out, looking sharp in a dark suit.  He moves with a practiced grace, his eyes scanning the area. He uses a small, high-tech device to listen to the Dursleys' conversation.\n",
      "* **Dialogue:**\n",
      "    * **Bond (V.O.):**  My contact informed me of unusual magical activity in the area… \n",
      "    * **Bond:** (To himself, after listening to the Dursleys) …interesting.\n",
      "\n",
      "\n",
      "**(Scene 3:  A Secret Meeting)**\n",
      "\n",
      "* **Setting:**  A dimly lit room at Grimmauld Place. Dumbledore, Sirius, and a small group of Order members are gathered. Bond sits observing them from a discreet corner.\n",
      "* **Action:** Dumbledore explains the urgent situation: Voldemort's return and the Ministry's denial.  The Order members discuss their strategies, revealing their concern over Voldemort's increasing power.\n",
      "* **Dialogue:**\n",
      "    * **Dumbledore:** Voldemort's power is growing…  We need all the help we can get.\n",
      "    * **Sirius:** The Ministry is blind. They’re actively working against us.\n",
      "    * **Bond (V.O.):** The Ministry… another corrupt organization, not so different from MI6’s foes.\n",
      "\n",
      "\n",
      "\n",
      "**Act II:  The Gathering Storm (25 minutes)**\n",
      "\n",
      "**(Scene 4: Technological Advantage)**\n",
      "\n",
      "* **Setting:** Grimmauld Place, daytime. Harry, Ron, and Hermione are struggling to investigate Voldemort's activities. Bond offers assistance using his technological expertise.\n",
      "* **Action:**  Bond demonstrates his gadgetry: miniaturized cameras, listening devices, and advanced tracking technology.  The scene should emphasize Bond's sophisticated resources, which sharply contrast with the wizarding world's reliance on magic alone.\n",
      "* **Dialogue:**\n",
      "    * **Bond:** These should help you monitor suspicious activity. They’re much more discreet than your owls.\n",
      "    * **Hermione:**  (impressed) This is incredible!\n",
      "\n",
      "\n",
      "**(Scene 5: Confronting the Ministry)**\n",
      "\n",
      "* **Setting:** The Ministry of Magic.\n",
      "* **Action:** Using his MI6 contacts and keen observation, Bond uncovers evidence of Ministry corruption. The scene would show a tense confrontation as Bond confronts a corrupt Ministry official in an action sequence – showcasing both his combat and his quick thinking, drawing parallels to scenes from his past movies.\n",
      "* **Dialogue:**\n",
      "    * **Bond:**  I’ve gathered information pointing to high-level collusion with the Dark Lord.\n",
      "    * **Corrupt Official:** You’re out of your depth, agent. This is far beyond you.\n",
      "    *(Fight ensues)*\n",
      "\n",
      "\n",
      "**(Scene 6:  The Dementors)**\n",
      "\n",
      "* **Setting:** Little Whinging.  A dark alley.\n",
      "* **Action:** Harry, facing Dementors, begins to falter. Bond intervenes quickly – displaying his sharp shooting skills and tactical prowess, repelling the Dementors in an action-packed scene that highlights his specialized skills.\n",
      "* **Dialogue:**\n",
      "    * **Harry:** (Gasping)  They…they’re sucking my soul…\n",
      "    * **Bond:** (Shooting with precision)  Stay calm.\n",
      "\n",
      "\n",
      "**Act III:  Revelation and Betrayal (20 minutes)**\n",
      "\n",
      "**(Scene 7:  Umbridge’s Deceit)**\n",
      "\n",
      "* **Setting:**  Hogwarts. Umbridge’s office.\n",
      "* **Action:** Bond discovers secret communications between Umbridge and Voldemort, confirming the Ministry's complicity in Voldemort's activities.\n",
      "* **Dialogue:**\n",
      "    * **Bond (V.O.):** Umbridge… this treacherous toad is at the very heart of the conspiracy.\n",
      "\n",
      "**(Scene 8:  Bond’s Capture)**\n",
      "\n",
      "* **Setting:** The Ministry of Magic. A hidden office.\n",
      "* **Action:** Bond uses his tech to acquire crucial evidence and transmits the information. But in an unexpected twist, he is captured by Voldemort and Ministry officials (Fudge) , revealing Bond as a Muggle agent. The scene should emphasize the high stakes, drawing parallels to *Skyfall*, Bond being captured despite his impressive abilities.\n",
      "* **Dialogue:**\n",
      "    * **Fudge:** A Muggle spy! This changes everything.\n",
      "    * **Bond:** (Calmly defiant) I exposed the truth, even if it cost me.\n",
      "\n",
      "\n",
      "**(Scene 9:  Rescue Mission)**\n",
      "\n",
      "* **Setting:**  Azkaban,  dark and ominous. A daring breakout by Harry and Dumbledore.\n",
      "* **Action:** Harry and Dumbledore make a dramatic appearance, breaking into Azkaban. Bond’s distinctive technological touch, hidden and modified, is incorporated into the tools that enable the prison breakout.\n",
      "* **Dialogue:**\n",
      "    * **Dumbledore:** Voldemort underestimates the power of those who have loved and lost.  And I will not fail my students.\n",
      "    * **Harry:**  We’re not leaving Bond behind.\n",
      "\n",
      "\n",
      "**(Scene 10:  Resolution)**\n",
      "\n",
      "* **Setting:** Grimmauld Place, morning.\n",
      "* **Action:**  Bond, safe, meets the Order again. He expresses his admiration for their courage and acknowledges the resilience of the wizarding world, while simultaneously understanding that his own world shares parallels with the darkness he helped confront within the magical one.  The Order shares their strategies moving forward.\n",
      "* **Dialogue:**\n",
      "    * **Bond:** I've underestimated the power of magic. This is a fight worth fighting for.\n",
      "    * **Dumbledore:** And the Ministry will pay for its denial and betrayal. The second war has begun.\n",
      "\n",
      "\n",
      "**(Final shot: Harry, looking determined, gazing towards Hogwarts.)**\n",
      "\n",
      "\n",
      "This script focuses on Bond's actions and interactions, portraying him as a skilled but also slightly out-of-place agent.  His presence adds a layer of espionage and action to the magical world, creating a compelling blend of genres.  The climax is Bond’s capture and dramatic rescue, a twist on traditional Bond narratives that shows his vulnerability in the face of magical forces while highlighting the extraordinary courage and abilities of the wizarding world. The resolution reinforces the impending war, leaving Harry with the knowledge that Bond has shown that alliances transcend worlds and that the magical community may need to reach further than themselves to prevail.\n",
      "\n"
     ]
    }
   ],
   "source": [
    "#Prompt 3\n",
    "\n",
    "prompt_order_of_phoenix_3 = summary_of_prizoner_of_azkaban + \"   \\n\" + story_alteration_for_order_of_phoenix  + \"\\n\" + output_required[2]\n",
    "response_order_of_phoenix_3= model_2.generate_content(prompt_order_of_phoenix_3)\n",
    "print(response_order_of_phoenix_3.text)"
   ]
  },
  {
   "cell_type": "code",
   "execution_count": 24,
   "id": "1d455f52",
   "metadata": {
    "execution": {
     "iopub.execute_input": "2024-11-30T13:32:17.460941Z",
     "iopub.status.busy": "2024-11-30T13:32:17.459904Z",
     "iopub.status.idle": "2024-11-30T13:32:17.873570Z",
     "shell.execute_reply": "2024-11-30T13:32:17.872082Z"
    },
    "papermill": {
     "duration": 0.428408,
     "end_time": "2024-11-30T13:32:17.876828",
     "exception": false,
     "start_time": "2024-11-30T13:32:17.448420",
     "status": "completed"
    },
    "tags": []
   },
   "outputs": [
    {
     "name": "stdout",
     "output_type": "stream",
     "text": [
      "CachedContent(\n",
      "    name='cachedContents/u4ao03xbqeuu',\n",
      "    model='models/gemini-1.5-flash-002',\n",
      "    display_name='Order of Phoenix',\n",
      "    usage_metadata={\n",
      "        'total_token_count': 398220,\n",
      "    },\n",
      "    create_time=2024-11-30 13:31:06.218111+00:00,\n",
      "    update_time=2024-11-30 13:31:06.218111+00:00,\n",
      "    expire_time=2024-11-30 13:51:05.841892+00:00\n",
      ")\n"
     ]
    }
   ],
   "source": [
    "for c in caching.CachedContent.list():\n",
    "  print(c)"
   ]
  },
  {
   "cell_type": "markdown",
   "id": "782da0e0",
   "metadata": {
    "papermill": {
     "duration": 0.010473,
     "end_time": "2024-11-30T13:32:17.900345",
     "exception": false,
     "start_time": "2024-11-30T13:32:17.889872",
     "status": "completed"
    },
    "tags": []
   },
   "source": [
    "<div style=\"font-family:Verdana\" id=\"delete-cache-2\">\n",
    "    <h3>Delete cached stored for order of phoenix</h3>\n",
    "</div>"
   ]
  },
  {
   "cell_type": "code",
   "execution_count": 25,
   "id": "b3969c32",
   "metadata": {
    "execution": {
     "iopub.execute_input": "2024-11-30T13:32:17.931081Z",
     "iopub.status.busy": "2024-11-30T13:32:17.930360Z",
     "iopub.status.idle": "2024-11-30T13:32:18.215962Z",
     "shell.execute_reply": "2024-11-30T13:32:18.214593Z"
    },
    "papermill": {
     "duration": 0.304205,
     "end_time": "2024-11-30T13:32:18.218872",
     "exception": false,
     "start_time": "2024-11-30T13:32:17.914667",
     "status": "completed"
    },
    "tags": []
   },
   "outputs": [],
   "source": [
    "cached_content_2.delete()"
   ]
  },
  {
   "cell_type": "markdown",
   "id": "8e184f8a",
   "metadata": {
    "papermill": {
     "duration": 0.009563,
     "end_time": "2024-11-30T13:32:18.238790",
     "exception": false,
     "start_time": "2024-11-30T13:32:18.229227",
     "status": "completed"
    },
    "tags": []
   },
   "source": [
    "<div style=\"font-family: Verdana\" id=\"conclusion\">\n",
    "    <h2>Conclusion</h2>\n",
    "    <p style=\"font-size:16px\">\n",
    "        In above use case we have demonstarted the beneficial use of Gemini 1.5 flash model long context window and optimization using context caching. We processed more than 150k input tokens in 3rd book and more than 350k input tokens in 5th book We also used better prompt engineering techniques to give quality prompts to models to \n",
    "get high quality outputs. We also showed how context caching is benefitting us in the use case as we have to give multiple prompts on the same input context tokens.    </p>\n",
    "      <p style=\"font-size:16px\">\n",
    "          We also showed how we can get character continuity in the use case by adding previous book's summary to the next book, so the storyline we get is not ambiguous. We deleted cached after our use to minimize the cost.\n",
    "      </p>\n",
    "</div>"
   ]
  },
  {
   "cell_type": "code",
   "execution_count": null,
   "id": "5ee21219",
   "metadata": {
    "papermill": {
     "duration": 0.009497,
     "end_time": "2024-11-30T13:32:18.258313",
     "exception": false,
     "start_time": "2024-11-30T13:32:18.248816",
     "status": "completed"
    },
    "tags": []
   },
   "outputs": [],
   "source": []
  }
 ],
 "metadata": {
  "kaggle": {
   "accelerator": "none",
   "dataSources": [
    {
     "databundleVersionId": 9881586,
     "sourceId": 83735,
     "sourceType": "competition"
    },
    {
     "datasetId": 6179293,
     "sourceId": 10032717,
     "sourceType": "datasetVersion"
    }
   ],
   "isGpuEnabled": false,
   "isInternetEnabled": true,
   "language": "python",
   "sourceType": "notebook"
  },
  "kernelspec": {
   "display_name": "Python 3",
   "language": "python",
   "name": "python3"
  },
  "language_info": {
   "codemirror_mode": {
    "name": "ipython",
    "version": 3
   },
   "file_extension": ".py",
   "mimetype": "text/x-python",
   "name": "python",
   "nbconvert_exporter": "python",
   "pygments_lexer": "ipython3",
   "version": "3.10.14"
  },
  "papermill": {
   "default_parameters": {},
   "duration": 187.3104,
   "end_time": "2024-11-30T13:32:19.196697",
   "environment_variables": {},
   "exception": null,
   "input_path": "__notebook__.ipynb",
   "output_path": "__notebook__.ipynb",
   "parameters": {},
   "start_time": "2024-11-30T13:29:11.886297",
   "version": "2.6.0"
  }
 },
 "nbformat": 4,
 "nbformat_minor": 5
}
