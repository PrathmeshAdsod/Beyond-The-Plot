{
 "cells": [
  {
   "cell_type": "markdown",
   "id": "0008f92d",
   "metadata": {
    "papermill": {
     "duration": 0.007998,
     "end_time": "2024-11-30T13:04:03.740637",
     "exception": false,
     "start_time": "2024-11-30T13:04:03.732639",
     "status": "completed"
    },
    "tags": []
   },
   "source": [
    "<div style=\"font-family:verdana\">\n",
    "<h2>Table of Content</h2>\n",
    "<ol style=\"font-size:16px;list-style-type:none\">\n",
    "    <li><a href=\"#plot\">Beyond the Plot Use Case</a></li>\n",
    "    <li><a href=\"#why-gemini\">Why Gemini 1.5</a></li>\n",
    "    <li><a href=\"#context-caching\">Context Caching</a></li>\n",
    "    <li><a href=\"#install-libraries\">Install and Import Libraries</a></li>\n",
    "    <li><a href=\"#configure-gemini\">Configure gemini API</a></li>\n",
    "    <li><a href=\"#extract-text\">Extract text from books</a></li>\n",
    "    <li><a href=\"#write-prompts\">Write required prompts</a></li>\n",
    "    <li><a href=\"#create-context-caching\">Creating context cache</a></li>\n",
    "    <li><a href=\"#prizoner-of-azkaban\">Harry Potter and Prizoner of Azkaban</a></li>\n",
    "    <li><a href=\"#delete-cache-1\">Delete Cache of Prizoner of Azkaban</a></li>\n",
    "    <li><a href=\"#bond-return\">Bond return in Order of Phoenix</a></li>\n",
    "    <li><a href=\"#delete-cache-2\">Delete Cache of Order of Phoenix</a></li>\n",
    "     <li><a href=\"#conclusion\">Conclusion</a></li>\n",
    "    \n",
    "</ol>\n",
    "</div>"
   ]
  },
  {
   "cell_type": "markdown",
   "id": "c9245436",
   "metadata": {
    "papermill": {
     "duration": 0.006863,
     "end_time": "2024-11-30T13:04:03.754798",
     "exception": false,
     "start_time": "2024-11-30T13:04:03.747935",
     "status": "completed"
    },
    "tags": []
   },
   "source": [
    "<div style=\"font-family:verdana\"  id=\"plot\">\n",
    "<h1 >Beyond the Plot Use Case</h1>\n",
    "<p style=\"font-size:16px\">This use case aims to creatively alter the storyline of Harry Potter books by introducing James Bond, the iconic British spy, into the magical universe. Using Google Gemini-1.5-flash model, we can generates rewritten content, new character dialogues, and alternate story arcs and much more creative things. It showcases how <b style=\"color:blue\"> long context window </b> capability of Gemini 1.5 models can enhance literary creativity and provide a fresh perspective on classic stories/novels. </p>\n",
    "\n",
    "<p style=\"font-size: 16px\">We are going to introduce James Bond in the 3rd and 5th edition of Harry Potter series. 3rd edition contains more than 150K tokens and 5th edition contains more than 350K tokens. In use case there will be multiple prompts on same input so we are using <b style=\"color:blue\"> context caching </b> to demonstrate how much efficiently and cost effectively we can use gemini 1.5 models long context window</p>\n",
    "\n",
    "<p style=\"font-size: 16px\">Specially in this use case where we can do many creating things on large document. To process such a large token size at once we need powerfull models like gemini-1.5-flash, gemini-1.5-pro to hold the context of complete document and get more contextual understanding.</p>\n",
    "\n",
    "<p style=\"font-size: 16px\">We will see more details of the use case as we move further</p>\n",
    "</div>"
   ]
  },
  {
   "cell_type": "markdown",
   "id": "a610366b",
   "metadata": {
    "papermill": {
     "duration": 0.006824,
     "end_time": "2024-11-30T13:04:03.768847",
     "exception": false,
     "start_time": "2024-11-30T13:04:03.762023",
     "status": "completed"
    },
    "tags": []
   },
   "source": [
    "<div style=\"font-family:verdana\" id=\"why-gemini\">\n",
    "    <h2 >Why Gemini-1.5 models (we are using gemini-1.5-flash-002) over other models</h2>\n",
    "    <p style=\"size:16px\">Let's take a look at certain prominent models context window : gemini 1.0 has 32k, gpt 4 turbo has 128k, claude 2.1 has 200k, gemini-1.5-flash has 1 million and gemini-1.5-pro has 2 million\n",
    "    </p>\n",
    "    <p style=\"size:16px\">In our use case we are firstly working on Harry Potter and Prizoner of Azkaban book and giving some \n",
    "    interesting prompts to make model think in more creative way. We will ask model the dialogues of new character, summary of \n",
    "    the book after incoporating the new character and more. This book has more than 150k tokens. Then after taking summary of this 3rd edition book then we will feed 5th edition Harry Potter and Order of Phoenix which has more than 350k tokens and adding summary of altered version of 3rd edition. So currently only gemini 1.5 models can give best results to our use case, mainly because of its long context ability</p>\n",
    "</div>"
   ]
  },
  {
   "cell_type": "markdown",
   "id": "0fdc92ef",
   "metadata": {
    "papermill": {
     "duration": 0.006898,
     "end_time": "2024-11-30T13:04:03.783993",
     "exception": false,
     "start_time": "2024-11-30T13:04:03.777095",
     "status": "completed"
    },
    "tags": []
   },
   "source": [
    "<div style=\"font-family:verdana\" id=\"context-caching\">\n",
    "    <h2>Context Caching</h2>\n",
    "    <p style=\"size:16px\">In our use case, we are giving prompts multiple times to the same input tokens, so to work with them efficiently and cost effectively we are using context caching. If we work without caching then if we have 3 quueries(prompts) then at all 3 requests the input tokens will get loaded by the model. This will generate more costs and will take more time to execute as each time we are ingesting input to the model. With the context cache, we cache the input tokens (context window) first and then give all the required prompts which we need to do perfom on the input. The number of input tokens cached, billed at a reduced rate when included in subsequent prompts. The amount of time cached tokens are stored at specific time which we mention in TTL and cache is billed hourly.</p>\n",
    "    <p style=\"size:16px\">We are using gemini-1.5-flash model for our use case which can store 1 million context cache</p>\n",
    "</div>"
   ]
  },
  {
   "cell_type": "markdown",
   "id": "e160121b",
   "metadata": {
    "papermill": {
     "duration": 0.006947,
     "end_time": "2024-11-30T13:04:03.798251",
     "exception": false,
     "start_time": "2024-11-30T13:04:03.791304",
     "status": "completed"
    },
    "tags": []
   },
   "source": [
    "<div style=\"font-family:verdana\" id=\"install-libraries\">\n",
    "<h2>Install and Import Required Libraries</h2>\n",
    "    <p style=\"font-size: 16px\">Installing PyPDF2 to extract text from the books</p>\n",
    "</div>"
   ]
  },
  {
   "cell_type": "code",
   "execution_count": 1,
   "id": "44273719",
   "metadata": {
    "execution": {
     "iopub.execute_input": "2024-11-30T13:04:03.815729Z",
     "iopub.status.busy": "2024-11-30T13:04:03.815306Z",
     "iopub.status.idle": "2024-11-30T13:04:15.774415Z",
     "shell.execute_reply": "2024-11-30T13:04:15.772973Z"
    },
    "papermill": {
     "duration": 11.970739,
     "end_time": "2024-11-30T13:04:15.776843",
     "exception": false,
     "start_time": "2024-11-30T13:04:03.806104",
     "status": "completed"
    },
    "tags": []
   },
   "outputs": [
    {
     "name": "stdout",
     "output_type": "stream",
     "text": [
      "Collecting PyPDF2\r\n",
      "  Downloading pypdf2-3.0.1-py3-none-any.whl.metadata (6.8 kB)\r\n",
      "Downloading pypdf2-3.0.1-py3-none-any.whl (232 kB)\r\n",
      "\u001b[2K   \u001b[90m━━━━━━━━━━━━━━━━━━━━━━━━━━━━━━━━━━━━━━━━\u001b[0m \u001b[32m232.6/232.6 kB\u001b[0m \u001b[31m6.2 MB/s\u001b[0m eta \u001b[36m0:00:00\u001b[0m\r\n",
      "\u001b[?25hInstalling collected packages: PyPDF2\r\n",
      "Successfully installed PyPDF2-3.0.1\r\n"
     ]
    }
   ],
   "source": [
    "!pip install PyPDF2"
   ]
  },
  {
   "cell_type": "code",
   "execution_count": 2,
   "id": "9efd6e1b",
   "metadata": {
    "execution": {
     "iopub.execute_input": "2024-11-30T13:04:15.794010Z",
     "iopub.status.busy": "2024-11-30T13:04:15.793574Z",
     "iopub.status.idle": "2024-11-30T13:04:17.118245Z",
     "shell.execute_reply": "2024-11-30T13:04:17.117295Z"
    },
    "papermill": {
     "duration": 1.336285,
     "end_time": "2024-11-30T13:04:17.120854",
     "exception": false,
     "start_time": "2024-11-30T13:04:15.784569",
     "status": "completed"
    },
    "tags": []
   },
   "outputs": [],
   "source": [
    "import PyPDF2\n",
    "from kaggle_secrets import UserSecretsClient\n",
    "import datetime\n",
    "import time\n",
    "import google.generativeai as genai\n",
    "from google.generativeai import caching"
   ]
  },
  {
   "cell_type": "markdown",
   "id": "fb8b7148",
   "metadata": {
    "papermill": {
     "duration": 0.007223,
     "end_time": "2024-11-30T13:04:17.135790",
     "exception": false,
     "start_time": "2024-11-30T13:04:17.128567",
     "status": "completed"
    },
    "tags": []
   },
   "source": [
    "<div style=\"font-family:verdana\" id=\"configure-gemini\">\n",
    "<h2>Configure the gemini api key</h2>\n",
    "    <p style=\"font-size:16px\">Get free api key from \n",
    "        <a href=\"https://aistudio.google.com/apikey\"> Google AI Studio</a>  \n",
    "    </p>\n",
    "\n",
    "<p style=\"font-size:16px\">To Configure api key in kaggle environment by clicking on Add-Ons on top bar then go to secrets and give it in key value pair. Ex. GEMINI_API_KEY = \"API-KEY\"</p>\n",
    "</div>"
   ]
  },
  {
   "cell_type": "code",
   "execution_count": 3,
   "id": "bba842da",
   "metadata": {
    "execution": {
     "iopub.execute_input": "2024-11-30T13:04:17.152866Z",
     "iopub.status.busy": "2024-11-30T13:04:17.152318Z",
     "iopub.status.idle": "2024-11-30T13:04:17.323490Z",
     "shell.execute_reply": "2024-11-30T13:04:17.322204Z"
    },
    "papermill": {
     "duration": 0.182638,
     "end_time": "2024-11-30T13:04:17.326072",
     "exception": false,
     "start_time": "2024-11-30T13:04:17.143434",
     "status": "completed"
    },
    "tags": []
   },
   "outputs": [],
   "source": [
    "from kaggle_secrets import UserSecretsClient\n",
    "user_secrets = UserSecretsClient()\n",
    "\n",
    "GEMINI_API_KEY = user_secrets.get_secret(\"GEMINI_API_KEY\")\n",
    "genai.configure(api_key=GEMINI_API_KEY)"
   ]
  },
  {
   "cell_type": "markdown",
   "id": "429a3e9e",
   "metadata": {
    "papermill": {
     "duration": 0.007865,
     "end_time": "2024-11-30T13:04:17.341860",
     "exception": false,
     "start_time": "2024-11-30T13:04:17.333995",
     "status": "completed"
    },
    "tags": []
   },
   "source": [
    "<div style=\"font-family:verdana\" id=\"extract-text\">\n",
    "    <h2>Extracting text from the books</h2>\n",
    "    <p style=\"font-size:15px\"></p>\n",
    "</div>"
   ]
  },
  {
   "cell_type": "code",
   "execution_count": 4,
   "id": "d1697941",
   "metadata": {
    "execution": {
     "iopub.execute_input": "2024-11-30T13:04:17.358913Z",
     "iopub.status.busy": "2024-11-30T13:04:17.358501Z",
     "iopub.status.idle": "2024-11-30T13:04:30.473795Z",
     "shell.execute_reply": "2024-11-30T13:04:30.472391Z"
    },
    "papermill": {
     "duration": 13.12685,
     "end_time": "2024-11-30T13:04:30.476433",
     "exception": false,
     "start_time": "2024-11-30T13:04:17.349583",
     "status": "completed"
    },
    "tags": []
   },
   "outputs": [],
   "source": [
    "\n",
    "# File paths for the books\n",
    "book_files = {\n",
    "    \"prisoner_of_azkaban\": \"/kaggle/input/bookspdf/Harry Potter And The Prisoner Of Azkaban.pdf\",\n",
    "    \"order_of_phoenix\": \"/kaggle/input/bookspdf/Harry-Potter-and-the-Order-of-Phoenix.pdf\"\n",
    "}\n",
    "\n",
    "def extract_from_pdf(book) :\n",
    "    with open(book, \"rb\") as file:\n",
    "        reader = PyPDF2.PdfReader(file)\n",
    "        book_text = \"\"\n",
    "        for page in reader.pages:\n",
    "            book_text += page.extract_text()\n",
    "    return book_text\n",
    "\n",
    "prizoner_of_azkaban_book_text = extract_from_pdf(book_files['prisoner_of_azkaban'])\n",
    "order_of_phoenix_book_text    = extract_from_pdf(book_files['order_of_phoenix'])"
   ]
  },
  {
   "cell_type": "markdown",
   "id": "1febed18",
   "metadata": {
    "papermill": {
     "duration": 0.007246,
     "end_time": "2024-11-30T13:04:30.491310",
     "exception": false,
     "start_time": "2024-11-30T13:04:30.484064",
     "status": "completed"
    },
    "tags": []
   },
   "source": [
    "<div style=\"font-family:verdana\" id=\"write-prompts\">\n",
    "    <h2>Writing required prompts</h2>\n",
    "     <p style=\"font-size:16px\">To get more control on the response we will get, we need to write detailed prompts. We are splitting this prompts into <b style=\"color:blue\">subparts of changes, story and response</b>. Later on we will merge it to give to model.</p>\n",
    "    <p style=\"font-size:16px\"> <b style=\"color:blue\">change_extents --- </b>. In this we will keep the level of alteration we want in the story by adding the James Bond Character. It can be small extent, medium extent, drastic extent. We will have description for that to feed in the model so model can understand how much alteration is required and will produce output according to that.</p>\n",
    "     <p style=\"font-size:16px\"> <b style=\"color:blue\">story_alteration_prizoner_of_azkaban ---</b> In this we will introduce James Bond first time in series and also give Bond's attributes, attitude, acheivements, success and other details about him, like how we want him to be in the story of Harry Potter and Prizoner of Azkaban. We are also defining few plots like what we want from James Bond in the story</b></p>\n",
    "\n",
    "   <p style=\"font-size:16px\"> <b style=\"color:blue\">story_alteration_for_order_of_phoenix --- </b> In this we are reintroducing James Bond and similarly giving details about him and also definign some plots, like what we want from Bond in the story of Harry Potter and Order of Phoenix.</p> \n",
    "    <p style=\"font-size:16px\"> <b style=\"color:blue\">output_required --- </b> This is the list which is holding the final responses which we want. Like, we want dialogues between James Bond and other character after story alteration, we want summary after story alteration, we want script for 1 hour long movie and much more it can hold.</p>\n",
    "</div>"
   ]
  },
  {
   "cell_type": "code",
   "execution_count": 5,
   "id": "6d520582",
   "metadata": {
    "execution": {
     "iopub.execute_input": "2024-11-30T13:04:30.507998Z",
     "iopub.status.busy": "2024-11-30T13:04:30.507603Z",
     "iopub.status.idle": "2024-11-30T13:04:30.514665Z",
     "shell.execute_reply": "2024-11-30T13:04:30.513625Z"
    },
    "papermill": {
     "duration": 0.017961,
     "end_time": "2024-11-30T13:04:30.516647",
     "exception": false,
     "start_time": "2024-11-30T13:04:30.498686",
     "status": "completed"
    },
    "tags": []
   },
   "outputs": [],
   "source": [
    "change_extents = [\n",
    "    {\n",
    "        \"extent\": \"Small Extent\",\n",
    "        \"description\": \"\"\"\n",
    "        In this case, the changes are very subtle and minimally impact the overall story. The core narrative of the book remains largely unchanged, but small adjustments are made to certain events or details. \n",
    "        These changes might include adding a minor character who appears only in a few scenes, altering the background or environment slightly, or introducing a piece of dialogue that doesn’t significantly shift the plot. \n",
    "        For instance, a character might make a brief appearance in a scene but have no major impact on the direction of the plot. Another example could be changing a minor decision made by a character, like a different choice for a meal or a location, without affecting the larger story arc. \n",
    "        The changes should not affect the primary goals or the structure of the narrative. The focus is on adding depth or nuance without altering the fundamental flow or emotional impact of the story.\n",
    "        \"\"\"\n",
    "    },\n",
    "    {\n",
    "        \"extent\": \"Medium Extent\",\n",
    "        \"description\": \"\"\"\n",
    "        Here, the changes are more noticeable and start to affect the progression of the story, but they do not completely rewrite the plot. Major events still unfold, and the overall storyline remains the same, but there are moderate alterations to how things occur or which characters are central to specific moments. \n",
    "        For example, a character who had a smaller role in the original narrative might now play a more significant part, like Hermione taking on a leadership role during a pivotal scene. \n",
    "        Alternatively, a scene or event might be altered so that the outcome is different, like a character choosing a different path or strategy in an important situation (e.g., Harry making a different choice during the Triwizard Tournament). \n",
    "        While the larger events and themes are maintained, the reader would notice the subtle but impactful difference in how the story unfolds due to the changes. These changes might affect character motivations or the dynamics between characters but do not drastically alter the central theme or outcome of the story.\n",
    "        \"\"\"\n",
    "    },\n",
    "    {\n",
    "        \"extent\": \"Drastic Extent\",\n",
    "        \"description\": \"\"\"\n",
    "        These changes are transformative and can significantly alter the course of the entire story. The plot may remain loosely familiar, but the events and character arcs could be reshaped in fundamental ways. \n",
    "        A new character, such as Sherlock Holmes, might be introduced and could have a major influence on key events in the narrative, shifting the balance of power or creating entirely new dynamics between characters. \n",
    "        For example, if Sherlock Holmes were inserted into the Harry Potter universe, he might help Harry solve mysteries or uncover clues about the Horcruxes in ways that completely change the original flow of the story. \n",
    "        The introduction of this new character could lead to completely different strategies or decisions in the plot, making the story unfold differently, but with a clear connection to the original themes and arcs. \n",
    "        These changes might also involve altering key events, such as replacing a character's role or deciding that a significant event happens in a different way (e.g., Voldemort's defeat occurring differently). \n",
    "        The core of the story could still be recognizable, but the transformation would be substantial, leading to a novel retelling that deviates from the original yet retains its essence.\n",
    "        \"\"\"\n",
    "    }\n",
    "]"
   ]
  },
  {
   "cell_type": "code",
   "execution_count": 6,
   "id": "38180123",
   "metadata": {
    "execution": {
     "iopub.execute_input": "2024-11-30T13:04:30.533834Z",
     "iopub.status.busy": "2024-11-30T13:04:30.533439Z",
     "iopub.status.idle": "2024-11-30T13:04:30.540597Z",
     "shell.execute_reply": "2024-11-30T13:04:30.539320Z"
    },
    "papermill": {
     "duration": 0.018504,
     "end_time": "2024-11-30T13:04:30.542864",
     "exception": false,
     "start_time": "2024-11-30T13:04:30.524360",
     "status": "completed"
    },
    "tags": []
   },
   "outputs": [],
   "source": [
    "story_alteration_prizoner_of_azkaban =  \"\"\" You are tasked with making changes to the story of *Harry Potter and the Prisoner of Azkaban*. In this version, James Bond, a British secret agent, plays a crucial role in the investigation surrounding Sirius Black’s escape from Azkaban. His presence significantly alters certain aspects of the plot while still maintaining the essence of the original story.\n",
    "James Bond has the following characteristics and background:\n",
    "- **Skills**: A master of espionage, expert in combat, skilled in using firearms, and highly tactical.\n",
    "- **Achievements**: Known for defeating dangerous adversaries, such as the villain Le Chiffre in *Casino Royale* and stopping a terror plot in *Skyfall*.\n",
    "- **Best Cases**: \n",
    "  - He infiltrated a dangerous terrorist organization in *Casino Royale*.\n",
    "  - In *Skyfall*, he stopped an ex-agent from exposing MI6 secrets and launched a successful mission against a global threat.\n",
    "  - In *Goldfinger*, he thwarted a villain’s plan to contaminate the U.S. gold reserves.\n",
    "\n",
    "His involvement in the story should reshape key moments. For example:\n",
    "- James Bond may assist Harry in tracking Sirius Black, using his advanced surveillance equipment to uncover crucial clues about Sirius’ escape.\n",
    "- Bond could be directly involved in the investigation, offering insight into the operations of the Ministry of Magic or assisting Harry during moments of danger, such as when he faces the Dementors.\n",
    "- In an important scene, Bond might confront a dark wizard or assist in an action-packed sequence, further shifting the storyline and giving Harry and his friends access to resources they wouldn't normally have.\n",
    "\n",
    "The core narrative should still focus on Harry's journey and the mystery of Sirius Black, but James Bond’s influence should become more pronounced. He should provide actionable intelligence, use his espionage skills to uncover hidden truths, and even engage in combat situations to help Harry and his friend \n",
    "\"\"\" \n",
    "\n",
    "\n",
    "story_alteration_for_order_of_phoenix =  \"\"\"\n",
    "Now james bond is back in Harry Potter and Order of Phoenix. Now change the story of Harry Potter and \n",
    "Order of Phoenix Book to incoporate Bond. \n",
    "- **Skills**: A master of espionage, expert in combat, skilled in using firearms, and highly tactical.\n",
    "- **Achievements**: Known for defeating dangerous adversaries, such as the villain Le Chiffre in *Casino Royale* and stopping a terror plot in *Skyfall*.\n",
    "- **Best Cases**: \n",
    "  - He infiltrated a dangerous terrorist organization in *Casino Royale*.\n",
    "  - In *Skyfall*, he stopped an ex-agent from exposing MI6 secrets and launched a successful mission against a global threat.\n",
    "  - In *Goldfinger*, he thwarted a villain’s plan to contaminate the U.S. gold reserves.\n",
    "\n",
    "His involvement in the story should reshape key moments. For example:\n",
    "- James Bond may assist Harry in tracking Sirius Black, using his advanced surveillance equipment to uncover crucial clues about Sirius’ escape.\n",
    "- Bond could be directly involved in the investigation, offering insight into the operations of the Ministry of Magic or assisting Harry during moments of danger, such as when he faces the Dementors.\n",
    "- In an important scene, Bond might confront a dark wizard or assist in an action-packed sequence, further shifting the storyline and giving Harry and his friends access to resources they wouldn't normally have.\n",
    "- But in the end James Bond get caught and ministry got to know that he is a spy of Muggles and sentence to \n",
    "  imprisonment in Azkaban but Dumbelodore and Harry save him\n",
    "\"\"\""
   ]
  },
  {
   "cell_type": "code",
   "execution_count": 7,
   "id": "b97b9a13",
   "metadata": {
    "execution": {
     "iopub.execute_input": "2024-11-30T13:04:30.559434Z",
     "iopub.status.busy": "2024-11-30T13:04:30.559049Z",
     "iopub.status.idle": "2024-11-30T13:04:30.565160Z",
     "shell.execute_reply": "2024-11-30T13:04:30.564085Z"
    },
    "papermill": {
     "duration": 0.016971,
     "end_time": "2024-11-30T13:04:30.567371",
     "exception": false,
     "start_time": "2024-11-30T13:04:30.550400",
     "status": "completed"
    },
    "tags": []
   },
   "outputs": [],
   "source": [
    "output_required = [\n",
    "    \"\"\"\n",
    "    ### Output Required ----- Give the scenarios in which you made the changes in book to accomodate James Bond and\n",
    "    how the storyline got affected\n",
    "    \"\"\",\n",
    "    \"\"\"\n",
    "    ### Output required ----- Give all the dialogues between James Bond and other characters with including short description\n",
    "    of where those dialogues happening\n",
    "    \"\"\",\n",
    "    \"\"\"\n",
    "    ### Output Required ----- \n",
    "    Create a detailed script for a 1-hour movie adaptation of the rewritten book with James Bond as a central character. Outline the key scenes \n",
    "    and plot points that will be featured in the film, making sure that the script retains the essence of the original story while adapting it for the screen. Break the script into acts, ensuring there is a clear beginning, middle, and climax. Include both the dialogues and actions in detail for each scene, providing descriptions of the setting, character emotions, and key visual elements. Pay special attention to pacing, dramatic moments, and how Bond’s character is portrayed through his actions and interactions with others. The script should be structured in a way that aligns with the conventions of a 1-hour action movie, including a compelling opening, rising tension, and a satisfying resolution.\n",
    "    \"\"\",\n",
    "  \n",
    "    \"\"\"\n",
    "    ### Output Required:\n",
    "    Provide a detailed summary of the altered version of *Harry Potter and the Prisoner of Azkaban*, focusing on:\n",
    "    - The main plot and character developments.\n",
    "    - How James Bond’s integration reshaped the narrative.\n",
    "    - Key differences from the original story and their significance.\n",
    "\n",
    "    \"\"\"\n",
    "]"
   ]
  },
  {
   "cell_type": "markdown",
   "id": "8e037986",
   "metadata": {
    "papermill": {
     "duration": 0.00768,
     "end_time": "2024-11-30T13:04:30.582634",
     "exception": false,
     "start_time": "2024-11-30T13:04:30.574954",
     "status": "completed"
    },
    "tags": []
   },
   "source": [
    "<div style=\"font-family:Verdana\" id=\"create-context-caching\">\n",
    "    <h2>Creating Context Caching</h2>\n",
    "</div>"
   ]
  },
  {
   "cell_type": "code",
   "execution_count": 8,
   "id": "1812326d",
   "metadata": {
    "execution": {
     "iopub.execute_input": "2024-11-30T13:04:30.599305Z",
     "iopub.status.busy": "2024-11-30T13:04:30.598876Z",
     "iopub.status.idle": "2024-11-30T13:04:30.604659Z",
     "shell.execute_reply": "2024-11-30T13:04:30.603715Z"
    },
    "papermill": {
     "duration": 0.016708,
     "end_time": "2024-11-30T13:04:30.606886",
     "exception": false,
     "start_time": "2024-11-30T13:04:30.590178",
     "status": "completed"
    },
    "tags": []
   },
   "outputs": [],
   "source": [
    "\n",
    "\n",
    "# Our use case is creative and need diverse output\n",
    "# so we need to increase temperature as default is 1\n",
    "# which will help us for getting creative and diverse output\n",
    "generation_config = {\n",
    "    \"temperature\": 1.5\n",
    "}\n",
    "\n",
    "# Model which we are using to leverage Long Context Window and Context Caching benefits\n",
    "model = 'models/gemini-1.5-flash-002'\n",
    "\n",
    "# System Instruction to the Model\n",
    "# We are defining what specifically we want from the model\n",
    "system_instruction = \"\"\"\n",
    "    You are great in understanding stories in the books and capturing all the information, relations and much more \n",
    "    from the book. You are great in alteration of the story by adding different characters or giving different roles to different characters where needed\n",
    "    and changing the   enario an changing the story in book by the extent to which the user provide in the prompt. You also write text of book \n",
    "    in be fromat. Understand what user wants, whether to rewrte complete book after alterations or give summaries of new created book \n",
    "    or generate dialogues for 1 hour movie. Please provide output in proper and readable format. Do not be ambiguous and be to the point\n",
    "    and give what is required\n",
    "    \"\"\"\n"
   ]
  },
  {
   "cell_type": "code",
   "execution_count": 9,
   "id": "29c72dd6",
   "metadata": {
    "execution": {
     "iopub.execute_input": "2024-11-30T13:04:30.623475Z",
     "iopub.status.busy": "2024-11-30T13:04:30.623078Z",
     "iopub.status.idle": "2024-11-30T13:04:30.628580Z",
     "shell.execute_reply": "2024-11-30T13:04:30.627487Z"
    },
    "papermill": {
     "duration": 0.016354,
     "end_time": "2024-11-30T13:04:30.630807",
     "exception": false,
     "start_time": "2024-11-30T13:04:30.614453",
     "status": "completed"
    },
    "tags": []
   },
   "outputs": [],
   "source": [
    "# Create function for context caching\n",
    "\n",
    "def caching_the_content(model, display_name, system_instruction, text_content) :\n",
    "     \n",
    "    cached_content = caching.CachedContent.create(\n",
    "    model=model,\n",
    "    display_name= display_name, \n",
    "    system_instruction= system_instruction,\n",
    "    contents=[text_content],\n",
    "    ttl=datetime.timedelta(minutes=20),\n",
    "    )\n",
    "    return cached_content"
   ]
  },
  {
   "cell_type": "markdown",
   "id": "c05a3e84",
   "metadata": {
    "papermill": {
     "duration": 0.007117,
     "end_time": "2024-11-30T13:04:30.645699",
     "exception": false,
     "start_time": "2024-11-30T13:04:30.638582",
     "status": "completed"
    },
    "tags": []
   },
   "source": [
    "<div style=\"font-family:Verdana\" id=\"prizoner-of-azkaban\">\n",
    "    <h2>Creativity on Harry Potter and Prizoner of Azkaban</h2>\n",
    "</div>"
   ]
  },
  {
   "cell_type": "code",
   "execution_count": 10,
   "id": "3e7e2b6d",
   "metadata": {
    "execution": {
     "iopub.execute_input": "2024-11-30T13:04:30.662083Z",
     "iopub.status.busy": "2024-11-30T13:04:30.661679Z",
     "iopub.status.idle": "2024-11-30T13:04:33.641572Z",
     "shell.execute_reply": "2024-11-30T13:04:33.640664Z"
    },
    "papermill": {
     "duration": 2.991135,
     "end_time": "2024-11-30T13:04:33.644177",
     "exception": false,
     "start_time": "2024-11-30T13:04:30.653042",
     "status": "completed"
    },
    "tags": []
   },
   "outputs": [],
   "source": [
    "cached_content_1 = caching_the_content(model, \"Prizoner of Azkaban\", system_instruction, prizoner_of_azkaban_book_text)"
   ]
  },
  {
   "cell_type": "code",
   "execution_count": 11,
   "id": "b780c671",
   "metadata": {
    "execution": {
     "iopub.execute_input": "2024-11-30T13:04:33.662327Z",
     "iopub.status.busy": "2024-11-30T13:04:33.661307Z",
     "iopub.status.idle": "2024-11-30T13:04:33.666893Z",
     "shell.execute_reply": "2024-11-30T13:04:33.665473Z"
    },
    "papermill": {
     "duration": 0.016938,
     "end_time": "2024-11-30T13:04:33.669327",
     "exception": false,
     "start_time": "2024-11-30T13:04:33.652389",
     "status": "completed"
    },
    "tags": []
   },
   "outputs": [],
   "source": [
    "model_1 = genai.GenerativeModel.from_cached_content(cached_content=cached_content_1, generation_config=generation_config)"
   ]
  },
  {
   "cell_type": "code",
   "execution_count": 12,
   "id": "112ed959",
   "metadata": {
    "execution": {
     "iopub.execute_input": "2024-11-30T13:04:33.686130Z",
     "iopub.status.busy": "2024-11-30T13:04:33.685695Z",
     "iopub.status.idle": "2024-11-30T13:04:46.971772Z",
     "shell.execute_reply": "2024-11-30T13:04:46.970624Z"
    },
    "papermill": {
     "duration": 13.297584,
     "end_time": "2024-11-30T13:04:46.974487",
     "exception": false,
     "start_time": "2024-11-30T13:04:33.676903",
     "status": "completed"
    },
    "tags": []
   },
   "outputs": [
    {
     "name": "stdout",
     "output_type": "stream",
     "text": [
      "To incorporate James Bond into *Harry Potter and the Prisoner of Azkaban* without completely rewriting the plot, we can strategically insert him into existing scenarios, altering their dynamics and outcomes subtly but significantly.  Here are some scenarios and how Bond's involvement affects the storyline:\n",
      "\n",
      "**1. Sirius Black's Escape and Initial Investigation:**\n",
      "\n",
      "* **Original:** The Ministry's investigation into Black's escape is portrayed as somewhat haphazard and bureaucratic.\n",
      "* **Change:**  The Ministry, realizing the gravity of the situation, secretly enlists 007's expertise.  Bond, using his advanced technological skills (miniature surveillance devices, satellite imagery, etc.), helps uncover overlooked clues regarding the escape – perhaps discovering a hidden passageway or a compromised guard. This speeds up the investigation and provides Harry with more immediate and accurate information about Black, potentially preventing some of the early misunderstandings and threats.  The storyline is affected by being less reliant on coincidence and more on concrete intelligence, enhancing the realism of the magical world's security vulnerabilities.\n",
      "\n",
      "\n",
      "**2. The Knight Bus Encounter:**\n",
      "\n",
      "* **Original:** Harry's encounter with the Knight Bus is largely coincidental.\n",
      "* **Change:** Bond, having tracked Black's movements, anticipates Harry's likely escape from Privet Drive and secretly arranges for the Knight Bus to intercept him. This transforms the chance encounter into a planned operation, highlighting Bond's proactive role in protecting Harry. The storyline shifts slightly to emphasize the coordinated effort to keep Harry safe.\n",
      "\n",
      "\n",
      "**3. Facing the Dementors on the Hogwarts Express:**\n",
      "\n",
      "* **Original:** Harry’s experience with the Dementors is a personal and isolated one. His friends' responses highlight their inability to fully understand his ordeal.\n",
      "* **Change:** Bond is secretly traveling on the Hogwarts Express, alerted by the Ministry or his own intelligence network of a likely dementor attack. His presence changes this solely personal trauma into a situation involving active protection, perhaps utilizing gadgets or his own quick thinking to shield Harry from the dementors' effects before Lupin arrives to combat them.  This adds an action-oriented sequence, showcases Bond's unique skillset in a fantastical setting and deepens Harry’s understanding of the external threat (Black, but also possibly Voldemort’s returning influence).\n",
      "\n",
      "\n",
      "**4. Confrontation with a Dark Wizard:**\n",
      "\n",
      "* **Original:** The narrative lacks a direct confrontation between Harry and a significant dark wizard aside from fleeting encounters with Death Eaters.\n",
      "* **Change:** Bond’s intelligence network reveals a clandestine meeting of Voldemort’s remaining Death Eaters planning an attack related to Black’s objectives (perhaps acquiring an ancient artifact or weakening Hogwarts’ defenses). Bond orchestrates a rescue/interception scenario near Hogsmeade, creating an action-packed sequence involving his weaponry and tactical expertise, possibly enabling Harry and his friends to gain valuable insights, resources or items connected to Voldemort's circle which impact later events. This could introduce a more intense conflict and expands the scope of the magical world beyond Hogwarts.\n",
      "\n",
      "\n",
      "\n",
      "**5. The Hogsmeade Trip and Black's Infiltration:**\n",
      "\n",
      "* **Original:** Black's methods for infiltrating the castle remain a mystery until the climax.\n",
      "* **Change:**  Bond, using his expertise and possibly working alongside a Ministry informant (perhaps Madam Rosmerta), secretly follows clues leading to the secret Hogsmeade passage, thereby adding another layer to the suspense, emphasizing Bond's investigation into how Black got into Hogwarts, and changing how Black manages to remain in the grounds for so long undetected. This heightens the mystery and intrigue in the plot.\n",
      "\n",
      "**Overall Storyline Effect:**\n",
      "\n",
      "By strategically placing Bond in these scenes, the storyline of *Prisoner of Azkaban* retains its original structure but becomes a blend of magical mystery and espionage thriller. The inclusion of Bond significantly enhances the narrative by providing more realistic means of gathering intelligence, escalating action sequences, increasing tension by having more layers of deception, and accelerating the storyline with efficient solutions to previously complex issues.  Harry's personal journey and his confrontation with his past remain central, but are interwoven with a modern espionage element, creating a richer and more dynamic storytelling experience.\n",
      "\n"
     ]
    }
   ],
   "source": [
    "# Prompt 1\n",
    "\n",
    "prompt_prizoner_of_azkaban_1 = story_alteration_prizoner_of_azkaban + \"\\n\" +change_extents[1]['description'] + \"\\n\" + output_required[0]\n",
    "response_prizoner_of_azkaban_1 = model_1.generate_content(prompt_prizoner_of_azkaban_1)\n",
    "print(response_prizoner_of_azkaban_1.text)"
   ]
  },
  {
   "cell_type": "code",
   "execution_count": 13,
   "id": "b70ced6a",
   "metadata": {
    "execution": {
     "iopub.execute_input": "2024-11-30T13:04:46.991824Z",
     "iopub.status.busy": "2024-11-30T13:04:46.991399Z",
     "iopub.status.idle": "2024-11-30T13:05:02.254562Z",
     "shell.execute_reply": "2024-11-30T13:05:02.253317Z"
    },
    "papermill": {
     "duration": 15.274698,
     "end_time": "2024-11-30T13:05:02.257084",
     "exception": false,
     "start_time": "2024-11-30T13:04:46.982386",
     "status": "completed"
    },
    "tags": []
   },
   "outputs": [
    {
     "name": "stdout",
     "output_type": "stream",
     "text": [
      "Here are some key dialogues between James Bond and other characters in an altered *Harry Potter and the Prisoner of Azkaban* storyline, incorporating Bond's espionage expertise:\n",
      "\n",
      "\n",
      "**Dialogue 1:**\n",
      "\n",
      "* **Setting:** The Leaky Cauldron, immediately after Harry is unexpectedly rescued by the Knight Bus and brought to the attention of Minister Fudge. Bond, having been discreetly briefed by M (who has connections within the wizarding world), is already there.\n",
      "\n",
      "\n",
      "* **Characters:** James Bond, Harry Potter, Cornelius Fudge.\n",
      "\n",
      "\n",
      "* **Dialogue:**\n",
      "\n",
      "> **Fudge:** (Staring at Harry) This is Harry Potter.\n",
      ">\n",
      "> **Bond:** (Calmly, assessing Harry) A pleasure, Mr. Potter. Minister Fudge, I understand Sirius Black's escape is causing some… *disruption*.  MI6 has some resources that might prove useful in this matter.  Perhaps a discreet conversation?\n",
      "\n",
      "> **Fudge:** (Suspicious but intrigued)  MI6?  Very well, Mr. Bond. Let's talk inside.  \n",
      "\n",
      "\n",
      "**Dialogue 2:**\n",
      "\n",
      "* **Setting:** A private room above the Leaky Cauldron. Bond unveils his advanced technological gadgets.\n",
      "\n",
      "\n",
      "* **Characters:** James Bond, Harry Potter\n",
      "\n",
      "\n",
      "* **Dialogue:**\n",
      "\n",
      "> **Bond:** (Showing a small, sophisticated device) This is a modified sonic locator.  It can track almost any sound wave, even magical ones, within a mile radius. We'll use it to pinpoint any magical traces left by Black.\n",
      ">\n",
      "> **Harry:** (A bit awestruck)  Wow… That's...amazing.  Is it really that sophisticated? \n",
      ">\n",
      "> **Bond:** (Slightly smirking)  Let's just say, Black won't be leaving a whisper undetected.\n",
      "\n",
      "\n",
      "**Dialogue 3:**\n",
      "\n",
      "* **Setting:** Hogwarts grounds, late at night. Bond has intercepted a clandestine communication between Death Eaters, revealing their plans and suggesting a potential ally.\n",
      "\n",
      "\n",
      "* **Characters:** James Bond, Ron Weasley, Hermione Granger, Harry Potter\n",
      "\n",
      "\n",
      "* **Dialogue:**\n",
      "\n",
      "> **Bond:** (Whispering) I’ve intercepted communications. A disgruntled Death Eater might be willing to offer information. They believe Black is seeking a powerful artifact hidden on the Hogwarts grounds, hoping to use it to power a dark ritual. I can get it back if you help me find the Death Eater first.  \n",
      ">\n",
      "> **Ron:** An artifact? What sort of thing?\n",
      ">\n",
      "> **Hermione:** (Excitedly) This changes everything! This suggests Black’s motive is not simply revenge.\n",
      ">\n",
      "> **Harry:** (Determined)  What do we do?\n",
      ">\n",
      "> **Bond:** We find this Death Eater. I’ll handle the extraction, if we can coordinate the timing and route in this enormous space.\n",
      "\n",
      "\n",
      "\n",
      "**Dialogue 4:**\n",
      "\n",
      "* **Setting:** A confrontation at the Whomping Willow.  Bond uses his combat skills to protect Harry from Dementors while Hermione and Ron hold back a vengeful Sirius Black (still initially believed to be guilty).\n",
      "\n",
      "\n",
      "* **Characters:** James Bond, Harry Potter, Ron Weasley, Hermione Granger, Sirius Black (as the dog Animagus).\n",
      "\n",
      "\n",
      "* **Dialogue:**\n",
      "\n",
      "> **Bond:** (Firing a customized dart gun, emitting a sonic frequency)  This will temporarily disorient the dementors.  Use the opportunity wisely, Potter. You handle this! This creature needs to tell us some truths.  \n",
      ">\n",
      "> **Harry:** (Calling out the Patronus charm) Expecto Patronum!\n",
      ">\n",
      "> **Ron:** (Struggling with Black) He's too strong! Hermione help me!\n",
      ">\n",
      "> **Hermione:** (Using a counter spell)  Stupefy!   \n",
      "\n",
      "\n",
      "**(Note: The fight with Black here doesn't involve killing or serious injury.  The objective is capture, and Bond's intervention disrupts the confrontation, helping Harry to figure out the truth about Sirius.)**\n",
      "\n",
      "\n",
      "**Dialogue 5:**\n",
      "\n",
      "* **Setting:**  The Shrieking Shack, after the confrontation with Black and the revelation of Peter Pettigrew's true identity.\n",
      "\n",
      "\n",
      "* **Characters:** James Bond, Harry Potter, Hermione Granger, Ron Weasley, Remus Lupin, Sirius Black, Peter Pettigrew (in human form).\n",
      "\n",
      "\n",
      "* **Dialogue:**\n",
      "\n",
      "> **Bond:** (Observing the scene calmly)  An Animagus... Fascinating. The Ministry clearly missed something. Their magical forensics must be severely lacking in attention to detail.  MI6 will certainly benefit from having better knowledge of these practices and counter-methods to combat magical threats.\n",
      ">\n",
      "> **Lupin:** (Relieved)  Yes, this all explains a great deal. Thanks to you, Mr. Bond, the truth is finally at hand.\n",
      ">\n",
      "> **Harry:** (Still somewhat dazed but feeling some relief) This changes everything...\n",
      ">\n",
      "> **Hermione:** I told you I did all my homework.  Who knew rat identification was this essential?\n",
      ">\n",
      "> **Ron:** I’m just glad Scabbers is gone!\n",
      "\n",
      "\n",
      "\n",
      "\n",
      "These dialogues illustrate how James Bond's skills and experience would enhance the storyline, adding layers of espionage and action to the magical world of Harry Potter, while still allowing the core narrative to unfold.  His intelligence and intervention are crucial in several key scenes, helping to speed the uncovering of crucial information and providing crucial intervention when needed.\n",
      "\n"
     ]
    }
   ],
   "source": [
    "# Prompt 2\n",
    "\n",
    "prompt_prizoner_of_azkaban_2 = story_alteration_prizoner_of_azkaban + \"\\n\" +change_extents[1]['description'] + \"\\n\" + output_required[1]\n",
    "response_prizoner_of_azkaban_2 = model_1.generate_content(prompt_prizoner_of_azkaban_2)\n",
    "print(response_prizoner_of_azkaban_2.text)"
   ]
  },
  {
   "cell_type": "code",
   "execution_count": 14,
   "id": "b68a6c7a",
   "metadata": {
    "execution": {
     "iopub.execute_input": "2024-11-30T13:05:02.275172Z",
     "iopub.status.busy": "2024-11-30T13:05:02.274772Z",
     "iopub.status.idle": "2024-11-30T13:05:16.583269Z",
     "shell.execute_reply": "2024-11-30T13:05:16.582040Z"
    },
    "papermill": {
     "duration": 14.320256,
     "end_time": "2024-11-30T13:05:16.585852",
     "exception": false,
     "start_time": "2024-11-30T13:05:02.265596",
     "status": "completed"
    },
    "tags": []
   },
   "outputs": [
    {
     "name": "stdout",
     "output_type": "stream",
     "text": [
      "## Harry Potter and the Prisoner of Azkaban: 007 Intervention\n",
      "\n",
      "**Logline:** When Sirius Black escapes Azkaban, Harry Potter isn't alone.  MI6's James Bond, alerted to a magical threat, joins the investigation, bringing his unique skills and resources to bear on a mystery that intertwines the wizarding and mundane worlds.\n",
      "\n",
      "\n",
      "**Running Time:** 60 minutes\n",
      "\n",
      "\n",
      "**Act I: The Escape (0-15 minutes)**\n",
      "\n",
      "**Scene 1:** Opens with a thrilling montage of Sirius Black’s escape from Azkaban, intercut with news reports highlighting the escaped convict.  The tone is dark and ominous. We see glimpses of Azkaban’s chilling atmosphere, punctuated by Black’s determined movements.\n",
      "\n",
      "**Scene 2:**  M16 Headquarters, London. James Bond (in a tailored suit, naturally) reviews intelligence reports on the escape, highlighting unusual magical disturbances detected near Azkaban.  M (Bond’s superior) explains the involvement of a powerful, ancient dark magic, prompting Bond's interest.  He receives a discreet encrypted message about a 'high-priority asset' (Harry Potter) needing protection.\n",
      "\n",
      "**Scene 3:** Privet Drive.  A tense, darkly lit scene of Harry Potter secretly working on his homework.  The Dursleys are shown as even more monstrous than usual.  Bond, disguised as a gardener, observes the Dursley house from a distance, using sophisticated surveillance equipment to monitor Harry's safety and secretly record conversations.  He picks up on Ron's disastrous phone call and the resulting conflict.\n",
      "\n",
      "\n",
      "**Act II: The Investigation (15-40 minutes)**\n",
      "\n",
      "**Scene 4:** The Leaky Cauldron. Bond, still disguised, meets Harry after his escape from Privet Drive. The initial interaction is tense, Harry suspicious, Bond professional yet empathetic.  Bond discreetly provides Harry with a miniaturized communications device and a high-tech tracking device concealed as a Galleon. He also showcases a few gadgets: a small device that can jam detection spells and an upgraded, sleek Invisibility Cloak.\n",
      "\n",
      "**Scene 5:**  A fast-paced chase sequence through London. Bond, Harry, Ron, and Hermione are being pursued by dementors in a Muggle city environment. Bond utilizes his fighting skills and gadgets to create a diversion allowing the children to use Bond's enchanted transportation. This blends magic and technology.\n",
      "\n",
      "**Scene 6:** Hogwarts. Bond, meeting Dumbledore and Professor McGonagall, utilizes MI6 resources to analyze clues regarding Sirius Black’s escape. He introduces concepts of covert operations to improve security around Hogwarts, installing state-of-the-art surveillance technology, seemingly mundane to Harry but awe-inspiringly effective, enhancing the school’s security systems without disrupting its magical essence.\n",
      "\n",
      "**Scene 7:**  A pivotal scene where Bond's expertise in analyzing magical artifacts shines through,  He examines Black's effects and finds subtle magical traces leading to clues about a potential secret passage or inside man at Hogwarts. The visual focus would be on his intricate examination techniques.\n",
      "\n",
      "\n",
      "**Act III: Confrontation and Resolution (40-60 minutes)**\n",
      "\n",
      "**Scene 8:** The Shrieking Shack.  A climactic action sequence.  Bond utilizes his skills alongside Harry and Ron, providing tactical support during the confrontation with Sirius Black and Peter Pettigrew, revealed as the true traitor and Scabbers' identity. Bond’s combat skills and familiarity with various forms of self-defense enhances this classic encounter. The scene features intense close-quarters combat utilizing Bond's special techniques and Harry's magic in a complementary fashion.\n",
      "\n",
      "\n",
      "**Scene 9:**  A shorter sequence showing Bond discreetly apprehending Pettigrew, with minimal collateral damage thanks to his masterful tactical thinking.  The focus remains on the confrontation rather than lengthy struggle.\n",
      "\n",
      "**Scene 10:**  Bond discreetly leaves Hogwarts; he has fulfilled his mission, leaving behind only a subtle reminder of his existence to Dumbledore.\n",
      "\n",
      "**Scene 11:** Final scene: Shows Harry reconciled with Ron and Hermione, reflecting on the adventure. A fleeting shot shows a seemingly inconspicuous piece of evidence—a partially burned cigarette— left at the Shrieking Shack, subtle hinting to Bond’s secret agent past and intervention.  The closing scene leaves a hopeful tone, underlining the core message that friendship, courage and determination can overcome immense darkness, even aided by some timely spy craft.\n",
      "\n",
      "**Note:** This script aims for a brisk pace, emphasizing action and suspense to fit the 60-minute timeframe.  Character motivations and emotional depth would need to be conveyed concisely through action and dialogue.  The core mystery would remain central, but Bond's presence significantly impacts its investigation and resolution.\n",
      "\n"
     ]
    }
   ],
   "source": [
    "# Prompt 3\n",
    "\n",
    "prompt_prizoner_of_azkaban_3 = story_alteration_prizoner_of_azkaban + \"\\n\" +change_extents[1]['description'] + \"\\n\" + output_required[2]\n",
    "response_prizoner_of_azkaban_3 = model_1.generate_content(prompt_prizoner_of_azkaban_3)\n",
    "print(response_prizoner_of_azkaban_3.text)"
   ]
  },
  {
   "cell_type": "code",
   "execution_count": 15,
   "id": "4326dfb8",
   "metadata": {
    "execution": {
     "iopub.execute_input": "2024-11-30T13:05:16.603569Z",
     "iopub.status.busy": "2024-11-30T13:05:16.603169Z",
     "iopub.status.idle": "2024-11-30T13:05:30.635210Z",
     "shell.execute_reply": "2024-11-30T13:05:30.633837Z"
    },
    "papermill": {
     "duration": 14.043911,
     "end_time": "2024-11-30T13:05:30.637896",
     "exception": false,
     "start_time": "2024-11-30T13:05:16.593985",
     "status": "completed"
    },
    "tags": []
   },
   "outputs": [
    {
     "name": "stdout",
     "output_type": "stream",
     "text": [
      "## Harry Potter and the Prisoner of Azkaban: 007's Intervention\n",
      "\n",
      "This revised version of *Harry Potter and the Prisoner of Azkaban* introduces James Bond as a key player in the investigation surrounding Sirius Black’s escape and subsequent pursuit of Harry.  The core mystery remains, but Bond's espionage expertise significantly alters the pace and methods of the investigation.\n",
      "\n",
      "**Main Plot and Character Developments:**\n",
      "\n",
      "The story begins similarly, with Harry discovering Black's escape from the news. However, unbeknownst to Harry,  M16, alerted by a tip-off regarding unusual magical activity near Azkaban, sends James Bond to investigate.  Bond, disguised as a Ministry of Magic consultant, discreetly observes the initial investigation, recognizing the unconventional nature of the escape and Black’s magical abilities.  He quietly assesses the Ministry's methods, identifying weaknesses and potential leads they've overlooked.\n",
      "\n",
      "Bond’s high-tech surveillance equipment becomes crucial in the search for Black. He provides Harry (unbeknownst to the Dursleys or the Ministry) with a modified version of a Sneakoscope, far more advanced than Ron’s. This upgraded device relays encrypted messages and provides real-time location data on magical beings and activity within a certain radius.  This early support gives Harry a crucial advantage, aiding in his eventual escape from the Dursleys.  Bond's advanced tracking devices pinpoint Sirius's movements more accurately than the Ministry’s efforts.\n",
      "\n",
      "On the Knight Bus, Bond secretly accompanies Harry (as another seemingly ordinary passenger), silently intervening to protect Harry from a larger, unseen threat - an attempt on Harry's life by Death Eaters disguised as Muggles.  Bond, with his mastery of martial arts and firearms, easily dispatches them, saving Harry, showcasing his superior abilities.\n",
      "\n",
      "The Hogwarts Express incident is largely unchanged, with the dementors’ encounter. However, Bond observes Harry's extreme reaction, realizing the deeper psychological impact the Dementors have on the boy compared to ordinary wizards. This fuels his desire to support Harry further. \n",
      "\n",
      "The subplot regarding Hagrid and Buckbeak unfolds similarly, but Bond's involvement results in quicker, more decisive actions taken by Harry in Buckbeak's defense.  Through his connections and influence, Bond obtains legal expertise and witnesses, strengthening Hagrid’s case despite Malfoy’s maneuvering. \n",
      "\n",
      "Bond's direct intervention occurs when the dementors attack Harry during a Quidditch match.  Using his advanced technology, he disrupts the dementors momentarily, giving Harry a strategic edge in obtaining the Golden Snitch.  \n",
      "\n",
      "Bond's tactical expertise helps in the Shrieking Shack confrontation. His skills greatly augment Lupin’s and Black's strategies in controlling Pettigrew. Using carefully placed listening devices and quick thinking, Bond contributes to unveiling Pettigrew’s true identity.\n",
      "\n",
      "Finally, Bond uses his knowledge of international espionage to safely relocate Sirius and Buckbeak, securing their escape from certain death, leaving only a trace that the Ministry believes will lead them to a dead end. \n",
      "\n",
      "**How James Bond Reshaped the Narrative:**\n",
      "\n",
      "Bond's presence dramatically accelerates the investigation and shifts the balance of power.  He fills the gaps in the Ministry’s methods through technical and tactical expertise. Instead of a meandering investigation hampered by bureaucratic obstacles, the story moves at a quicker pace with more direct confrontations. Harry is consistently supported by sophisticated technological and tactical aid.\n",
      "\n",
      "**Key Differences and their Significance:**\n",
      "\n",
      "* **Enhanced pacing and efficiency**:  The usually drawn-out search for Sirius becomes streamlined through Bond's technology and strategy.\n",
      "* **Character empowerment**: Harry benefits from access to resources and skills unavailable to him in the original story.\n",
      "* **Plot twists**:  Bond's covert intervention creates suspense and action that enhances the climax, especially the scenes at the Quidditch match and Shrieking Shack. The escape of Sirius becomes more efficient and relies less on happenstance.\n",
      "* **Shift in threat perception**: The unseen Death Eater attack enhances the dangerous nature of the situation.\n",
      "* **Altered power dynamics**: Bond’s interventions create shifts in power between characters, highlighting both Harry's resilience and Bond’s influence on the larger magical world.\n",
      "\n",
      "\n",
      "The essence of the original story—the mystery surrounding Sirius, Harry's coming-of-age, and his confrontation with fear—remains.  Bond's integration enriches it, adding elements of action, intrigue, and enhanced tension without sacrificing the heart of the narrative. The magical and the mundane worlds blend in ways not possible in the original.\n",
      "\n"
     ]
    }
   ],
   "source": [
    "# Prompt 4\n",
    "\n",
    "prompt_prizoner_of_azkaban_4 = story_alteration_prizoner_of_azkaban + \"\\n\" +change_extents[1]['description'] + \"\\n\" + output_required[3]\n",
    "response_prizoner_of_azkaban_4 = model_1.generate_content(prompt_prizoner_of_azkaban_4)\n",
    "print(response_prizoner_of_azkaban_4.text)"
   ]
  },
  {
   "cell_type": "code",
   "execution_count": 16,
   "id": "9565c846",
   "metadata": {
    "execution": {
     "iopub.execute_input": "2024-11-30T13:05:30.656335Z",
     "iopub.status.busy": "2024-11-30T13:05:30.655947Z",
     "iopub.status.idle": "2024-11-30T13:05:30.872760Z",
     "shell.execute_reply": "2024-11-30T13:05:30.871552Z"
    },
    "papermill": {
     "duration": 0.228666,
     "end_time": "2024-11-30T13:05:30.874984",
     "exception": false,
     "start_time": "2024-11-30T13:05:30.646318",
     "status": "completed"
    },
    "tags": []
   },
   "outputs": [
    {
     "name": "stdout",
     "output_type": "stream",
     "text": [
      "CachedContent(\n",
      "    name='cachedContents/kwym5rgnr9ui',\n",
      "    model='models/gemini-1.5-flash-002',\n",
      "    display_name='Prizoner of Azkaban',\n",
      "    usage_metadata={\n",
      "        'total_token_count': 150524,\n",
      "    },\n",
      "    create_time=2024-11-30 13:04:33.500015+00:00,\n",
      "    update_time=2024-11-30 13:04:33.500015+00:00,\n",
      "    expire_time=2024-11-30 13:24:33.120340+00:00\n",
      ")\n"
     ]
    }
   ],
   "source": [
    "# Display Cached Contents\n",
    "for c in caching.CachedContent.list():\n",
    "  print(c)"
   ]
  },
  {
   "cell_type": "markdown",
   "id": "340896f0",
   "metadata": {
    "papermill": {
     "duration": 0.008016,
     "end_time": "2024-11-30T13:05:30.891789",
     "exception": false,
     "start_time": "2024-11-30T13:05:30.883773",
     "status": "completed"
    },
    "tags": []
   },
   "source": [
    "<div style=\"font-family:Verdana\" id=\"delete-cache-1\">\n",
    "    <h3>Delete cached stored for prizoner of azkaban</h3>\n",
    "    <p style=\"font-size:  16px\"> We do not require cached stored for prizoner of azkaban now so we can delete it and then will create new cache for Order of Phoenix. This is required because, for gemini-1.5-flash model we have 1 million context caching limit, if we not delete this then unnecessary will occupy the space in conext cache and also will take cache storage cost</p>\n",
    "</div>"
   ]
  },
  {
   "cell_type": "code",
   "execution_count": 17,
   "id": "dd2d007d",
   "metadata": {
    "execution": {
     "iopub.execute_input": "2024-11-30T13:05:30.910145Z",
     "iopub.status.busy": "2024-11-30T13:05:30.909731Z",
     "iopub.status.idle": "2024-11-30T13:05:31.223933Z",
     "shell.execute_reply": "2024-11-30T13:05:31.222851Z"
    },
    "papermill": {
     "duration": 0.326615,
     "end_time": "2024-11-30T13:05:31.226756",
     "exception": false,
     "start_time": "2024-11-30T13:05:30.900141",
     "status": "completed"
    },
    "tags": []
   },
   "outputs": [],
   "source": [
    "# Delete cached content craeted for Prizoner of Azkaban to use it for Order of Phoenix\n",
    "cached_content_1.delete()"
   ]
  },
  {
   "cell_type": "markdown",
   "id": "bc5497c1",
   "metadata": {
    "papermill": {
     "duration": 0.00797,
     "end_time": "2024-11-30T13:05:31.243118",
     "exception": false,
     "start_time": "2024-11-30T13:05:31.235148",
     "status": "completed"
    },
    "tags": []
   },
   "source": [
    "<div style=\"font-family:Verdana\" id=\"bond-return\">\n",
    "    <h2>James Bond return in Order of Phoenix</h2>\n",
    "    <p style=\"font-size:16px\">Now we have summary of altered story in Harry Potter and Prizoner of Azkaban. We will give it as a input conext tokens to the model along with the complete  Order of phoenix book to make it consistent in the series. Also we want responses to get consistent from the past and not generate much random and different things.</p>\n",
    "</div>"
   ]
  },
  {
   "cell_type": "code",
   "execution_count": 18,
   "id": "c7775af5",
   "metadata": {
    "execution": {
     "iopub.execute_input": "2024-11-30T13:05:31.261432Z",
     "iopub.status.busy": "2024-11-30T13:05:31.260977Z",
     "iopub.status.idle": "2024-11-30T13:05:31.265854Z",
     "shell.execute_reply": "2024-11-30T13:05:31.264897Z"
    },
    "papermill": {
     "duration": 0.016715,
     "end_time": "2024-11-30T13:05:31.268119",
     "exception": false,
     "start_time": "2024-11-30T13:05:31.251404",
     "status": "completed"
    },
    "tags": []
   },
   "outputs": [],
   "source": [
    "summary_of_prizoner_of_azkaban = \"\"\" I am giving you the summary of the altered story of Harry Potter and Prizoner of Azkaban\n",
    "by incoporating James Bond character. This is as follows - \n",
    "\"\"\" + prompt_prizoner_of_azkaban_4"
   ]
  },
  {
   "cell_type": "code",
   "execution_count": 19,
   "id": "aee9e401",
   "metadata": {
    "execution": {
     "iopub.execute_input": "2024-11-30T13:05:31.286661Z",
     "iopub.status.busy": "2024-11-30T13:05:31.286256Z",
     "iopub.status.idle": "2024-11-30T13:05:35.767264Z",
     "shell.execute_reply": "2024-11-30T13:05:35.766111Z"
    },
    "papermill": {
     "duration": 4.49313,
     "end_time": "2024-11-30T13:05:35.769836",
     "exception": false,
     "start_time": "2024-11-30T13:05:31.276706",
     "status": "completed"
    },
    "tags": []
   },
   "outputs": [],
   "source": [
    "cached_content_2 = caching_the_content(model, \"Order of Phoenix\", system_instruction, order_of_phoenix_book_text)"
   ]
  },
  {
   "cell_type": "code",
   "execution_count": 20,
   "id": "259d37aa",
   "metadata": {
    "execution": {
     "iopub.execute_input": "2024-11-30T13:05:35.789311Z",
     "iopub.status.busy": "2024-11-30T13:05:35.788351Z",
     "iopub.status.idle": "2024-11-30T13:05:35.793550Z",
     "shell.execute_reply": "2024-11-30T13:05:35.792540Z"
    },
    "papermill": {
     "duration": 0.016576,
     "end_time": "2024-11-30T13:05:35.795639",
     "exception": false,
     "start_time": "2024-11-30T13:05:35.779063",
     "status": "completed"
    },
    "tags": []
   },
   "outputs": [],
   "source": [
    "model_2 = genai.GenerativeModel.from_cached_content(cached_content=cached_content_2,generation_config=generation_config)"
   ]
  },
  {
   "cell_type": "code",
   "execution_count": 21,
   "id": "fb921bbc",
   "metadata": {
    "execution": {
     "iopub.execute_input": "2024-11-30T13:05:35.813932Z",
     "iopub.status.busy": "2024-11-30T13:05:35.813552Z",
     "iopub.status.idle": "2024-11-30T13:05:57.570245Z",
     "shell.execute_reply": "2024-11-30T13:05:57.568815Z"
    },
    "papermill": {
     "duration": 21.768615,
     "end_time": "2024-11-30T13:05:57.572708",
     "exception": false,
     "start_time": "2024-11-30T13:05:35.804093",
     "status": "completed"
    },
    "tags": []
   },
   "outputs": [
    {
     "name": "stdout",
     "output_type": "stream",
     "text": [
      "Here's how the storyline of *Harry Potter and the Order of the Phoenix* could be altered to incorporate James Bond, focusing on the scenarios of change and their impact on the plot:\n",
      "\n",
      "**Scenarios of Change and Storyline Impacts:**\n",
      "\n",
      "1. **The Ministry Leak:** The book opens with Harry brooding at Privet Drive.  Instead of relying solely on overheard news snippets and vague letters, Bond, secretly tasked by Dumbledore (perhaps through a discreet contact within MI6), provides Harry with encrypted information about the Ministry's internal struggles and Voldemort's activities.  This information comes via a sophisticated communication device disguised as a seemingly ordinary item (a lighter, a pen, etc.) that Bond secretly plants on Harry during an unseen, nighttime encounter at Privet Drive.  The intel gives Harry a more proactive role early on, and introduces a level of suspense surrounding Bond’s involvement and the risk of exposure.\n",
      "\n",
      "\n",
      "2. **Tracking Voldemort's Network:** Bond’s expertise in surveillance and his access to technological gadgets would significantly enhance the Order's ability to monitor Voldemort's movements. He provides the Order with highly advanced tracking devices – small, undetectable charms— that allow them to follow key Death Eaters and gain insights into Voldemort's plans before the Order otherwise would. This speeds up the plot and gives Harry and the Order a more active role in combating the growing threat.\n",
      "\n",
      "\n",
      "3. **The Department of Mysteries Ambush:** Instead of the relatively straightforward encounter at the Ministry of Magic, Bond's tactical expertise would be crucial in planning and executing Harry's mission to save Sirius (as in the original book). Bond equips Harry and the DA with sophisticated non-magical tools, and even personally joins the fight to save Sirius (This part must change significantly). The initial attack remains, however, because they didn't know which shelf housed the actual Prophecy and Sirius. However, Bond's advanced knowledge of fighting tactics would come into play, assisting the group in more deft and organized maneuvers than shown in the original story. This leads to a more complex and action-filled sequence, emphasizing Bond's unique capabilities in combat and espionage, compared to what Harry can usually achieve.\n",
      "\n",
      "\n",
      "4. **The Capture and Rescue:** This is where Bond's narrative arc comes to a head (The end of the book needs a complete rewrite to fit James Bond into the storyline). During the struggle within the Department of Mysteries, Bond gets captured. His MI6 identification, a unique, small piece of Muggle technology embedded in his wristwatch, is inadvertently discovered by the Death Eaters, revealing his \"Muggle spy\" status.  Voldemort's forces might even find an encrypted message Bond exchanged with Dumbledore as proof.  This changes the game, and a pivotal scene ensues:  the Ministry learns about Bond's espionage, further highlighting the clash between the Muggle and magical worlds and complicating the situation even more for Dumbledore.  The ensuing chaos throws into stark relief the Order of the Phoenix’s desperation. A dramatic climax is achieved as Dumbledore, with Harry's aid, pulls off a daring raid into Azkaban to free Bond, strengthening Dumbledore's image.\n",
      "\n",
      "\n",
      "5. **The Aftermath:**  News of Bond's involvement creates a serious diplomatic rift between the Ministry of Magic and MI6. Dumbledore and Harry carefully manage the information, playing down the implications for Harry. This alters the post-climax tension considerably. Dumbledore now has to act tactfully in his negotiations with both the British Government and the Ministry of Magic to manage the diplomatic disaster (Bond’s role would need to be played down and justified so as not to create problems for the narrative) created by Bond’s exposure and rescue, maintaining a balance between two completely different power systems (the British Government and the Ministry of Magic).\n",
      "\n",
      "\n",
      "**Key Differences and Significance:**\n",
      "\n",
      "* **Proactive Harry:** Bond's input allows Harry to be more proactive rather than passively waiting for things to happen.  This showcases Harry's resourcefulness and intelligence in using \"real-world\" tools alongside his magical abilities.\n",
      "\n",
      "* **Elevated Stakes:**  The addition of a real-world spy raises the stakes considerably, adding a layer of tension that highlights the tension between the Muggle and Wizarding worlds. This conflict directly affects the narrative progression.\n",
      "\n",
      "* **Faster Plot:**  Bond's resources accelerate the pace at which the Order operates, highlighting its shortcomings without advanced tools and information.\n",
      "\n",
      "* **Altered Character Dynamics:**  The introduction of Bond modifies existing dynamics. Bond's strength might inadvertently lead Harry to rely on him more and cause problems with the rest of his friends or other members of the Order (For instance, Lupin might become a bit annoyed by Bond's efficiency and Bond’s interference in the Order’s functioning).\n",
      "\n",
      "* **Increased Action:**  Bond's presence and combat skills bring additional excitement and danger to the narrative. \n",
      "\n",
      "This restructured storyline would make *Order of the Phoenix* considerably faster, more active and exciting, introducing aspects of international relations and espionage that add a whole new layer of conflict to the wizarding world and changing both its dangers and its potential solutions.\n",
      "\n"
     ]
    }
   ],
   "source": [
    "# Prompt 1\n",
    "\n",
    "prompt_order_of_phoenix_1 = summary_of_prizoner_of_azkaban + \"   \\n\" + story_alteration_for_order_of_phoenix  + \"\\n\" + output_required[0]\n",
    "response_order_of_phoenix_1= model_2.generate_content(prompt_order_of_phoenix_1)\n",
    "print(response_order_of_phoenix_1.text)"
   ]
  },
  {
   "cell_type": "code",
   "execution_count": 22,
   "id": "fdf009bb",
   "metadata": {
    "execution": {
     "iopub.execute_input": "2024-11-30T13:05:57.592029Z",
     "iopub.status.busy": "2024-11-30T13:05:57.591084Z",
     "iopub.status.idle": "2024-11-30T13:06:18.662169Z",
     "shell.execute_reply": "2024-11-30T13:06:18.660756Z"
    },
    "papermill": {
     "duration": 21.083418,
     "end_time": "2024-11-30T13:06:18.664593",
     "exception": false,
     "start_time": "2024-11-30T13:05:57.581175",
     "status": "completed"
    },
    "tags": []
   },
   "outputs": [
    {
     "name": "stdout",
     "output_type": "stream",
     "text": [
      "I cannot provide a complete rewrite of the *Harry Potter and the Order of the Phoenix* incorporating James Bond and focusing solely on their dialogues.  The task is excessively long and complex.  Generating a realistic and consistent narrative that blends two vastly different fictional universes, while maintaining the integrity of both source materials and incorporating detailed dialogue for every scene, is beyond the current capabilities of large language models.\n",
      "\n",
      "However, I can offer a *sample* of potential dialogues to illustrate how such an integration *might* be done.  Remember this is a *fragment* and not a full story summary.\n",
      "\n",
      "\n",
      "**Scene:**  The Burrow.  Harry, Ron, and Hermione are discussing the increasing attacks and Voldemort's resurgence.  James Bond, having been secretly contacted by Dumbledore, arrives discreetly.\n",
      "\n",
      "**(Dialogue 1)**\n",
      "\n",
      "**Hermione:**  ...and the Ministry still refuses to believe Voldemort's back!  It's infuriating!\n",
      "\n",
      "**Ron:**  They're blind as bats!  Don't they see what's happening?\n",
      "\n",
      "**Harry:**  I told them about the Dementors, the graveyard... they just think I'm attention-seeking.\n",
      "\n",
      "**(Bond enters, unnoticed, blends into the background)**\n",
      "\n",
      "**Bond (to himself):**  Predictable Ministry incompetence. Dumbledore's right to seek outside help.\n",
      "\n",
      "\n",
      "**(Dialogue 2)**\n",
      "\n",
      "**(Later, Bond has discreetly revealed his identity and offered his assistance. He's showing Harry a miniature surveillance device.)**\n",
      "\n",
      "**Bond:** This should pick up any unusual magical activity near Grimmauld Place.  I’ll even throw in the contact numbers for my sources. I suggest this meeting goes strictly off the books.\n",
      "\n",
      "**Harry:** (Eyes wide)  A gadget? This isn't a joke is it? How does it--?\n",
      "\n",
      "**Bond:**  (Interrupting) Later, Potter. This thing operates quite discreetly using various frequencies for various signals. It needs a discreet approach too. Less noise, less suspicion.  \n",
      "\n",
      "\n",
      "**(Dialogue 3)**\n",
      "\n",
      "**(A tense scene in Grimmauld Place.  The Order is meeting, and the atmosphere is heavy with tension. Death Eaters are attacking the place. Bond uses his tactical skills, engaging with some Death Eaters in close combat using firearms (highly modified and magical suppressants). The noise must stay down and hidden.)**\n",
      "\n",
      "**Sirius:** (Fighting alongside others) They're breaking in from every side!  It’s happening again, it’s happening too fast.\n",
      "\n",
      "**Bond (quickly, taking a shot at a death eater):** They're using a calculated tactical approach.   Cover each other. They don’t know what they are up against yet. This won’t be a fair fight, Potter.\n",
      "\n",
      "**Harry:**  (Returning fire): The Imperius Curse is strong, too strong – this could—\n",
      "\n",
      "**Bond:** (Covering Harry): I have a couple more of these little things and a backup plan or two that I doubt that lot would ever have faced. I need Dumbledore to trust me, too. But so far, these few will have to suffice.\n",
      "\n",
      "**(Dialogue 4)**\n",
      "\n",
      "**(Bond, after a fierce gunbattle, is cornered, captured by Ministry Aurors.)**\n",
      "\n",
      "**Auror 1:**  You're under arrest. This is outrageous –\n",
      "\n",
      "**Bond:**  (Cool, collected):  My apologies. This is more my usual hunting ground, but I’ve never yet worked alongside flying centaurs. I’ll see you later.  Let’s just make this a clean arrest, all right.\n",
      "\n",
      "\n",
      "**(Dialogue 5)**\n",
      "\n",
      "**(In Azkaban, Bond is in a cell. Dumbledore and Harry appear.)**\n",
      "\n",
      "**Dumbledore:**   Your skills are unparalleled, Bond, but meddling in the magical world has severe consequences.\n",
      "\n",
      "**Bond:**  I know, Headmaster. The risks were clear. There are times in this world, too, that certain loyalties must supersede others. We're done with the polite talk now, aren’t we? \n",
      "\n",
      "**Harry:** Sir—Mr. Bond, We don’t get a fair shake in this world, you know that?\n",
      "\n",
      "**Bond:**  Indeed.  Let's get you out of here.  This prison should have been empty years ago.\n",
      "\n",
      "\n",
      "\n",
      "This example demonstrates how Bond's actions change the narrative. The dialogue is concise and action-oriented, reflective of Bond’s character.  The inclusion of the modified weapons and technology adds a new element of intrigue and capability.  The climactic capture and rescue highlight the contrast between Bond's world and the wizarding world, leading to further conflict.  Further scenarios and dialogues would expand this interaction throughout the book, potentially changing character development (maybe Hermione takes on more of a tactical role guided by Bond), narrative events, or strategic responses.  Remember that a successful blend requires careful consideration of consistency within both universes.\n",
      "\n"
     ]
    }
   ],
   "source": [
    "#Prompt 2\n",
    "\n",
    "prompt_order_of_phoenix_2 = summary_of_prizoner_of_azkaban + \"   \\n\" + story_alteration_for_order_of_phoenix  + \"\\n\" + output_required[1]\n",
    "response_order_of_phoenix_2= model_2.generate_content(prompt_order_of_phoenix_2)\n",
    "print(response_order_of_phoenix_2.text)"
   ]
  },
  {
   "cell_type": "code",
   "execution_count": 23,
   "id": "fd879bc5",
   "metadata": {
    "execution": {
     "iopub.execute_input": "2024-11-30T13:06:18.683373Z",
     "iopub.status.busy": "2024-11-30T13:06:18.682945Z",
     "iopub.status.idle": "2024-11-30T13:06:47.751879Z",
     "shell.execute_reply": "2024-11-30T13:06:47.750778Z"
    },
    "papermill": {
     "duration": 29.081524,
     "end_time": "2024-11-30T13:06:47.754880",
     "exception": false,
     "start_time": "2024-11-30T13:06:18.673356",
     "status": "completed"
    },
    "tags": []
   },
   "outputs": [
    {
     "name": "stdout",
     "output_type": "stream",
     "text": [
      "## Harry Potter and the Order of the Phoenix: 007 Intervenes (1-Hour Movie Script)\n",
      "\n",
      "**Logline:**  When Voldemort's resurgence throws the wizarding world into chaos, Harry Potter receives unexpected aid from James Bond, a secret agent with unique skills and resources, but their alliance puts them both in grave danger.\n",
      "\n",
      "**Characters:**\n",
      "\n",
      "* Harry Potter\n",
      "* Hermione Granger\n",
      "* Ron Weasley\n",
      "* James Bond\n",
      "* Albus Dumbledore\n",
      "* Dolores Umbridge\n",
      "* Cornelius Fudge\n",
      "* Voldemort\n",
      "* Sirius Black (appears in flashbacks/visions)\n",
      "\n",
      "\n",
      "**Act I: A Troubled Summer (approx. 15 minutes)**\n",
      "\n",
      "**Scene 1:**  Privet Drive, Number Four. EXT. DAY.  Hot summer day. Harry is despondent, hidden behind a bush, listening to Muggle news, hoping for any sign of magical activity.  He's gaunt and tired.\n",
      "\n",
      "**(Dialogue)**\n",
      "\n",
      "* **Harry (V.O.):** Another day, another dead end.  Voldemort’s back, and I’m stuck here, listening to Muggle drivel...\n",
      "\n",
      "**Scene 2:** Privet Drive, Number Four. INT. LIVING ROOM. NIGHT. The Dursleys are watching TV; Uncle Vernon sneers at the news. Harry tries to watch, but Dudley bullies him.\n",
      "\n",
      "**(Dialogue)**\n",
      "\n",
      "* **Dudley:** Get out of my way, Potter!\n",
      "* **Uncle Vernon:**  (Grumbling) That boy... always causing trouble…\n",
      "\n",
      "**Scene 3:** EXT. PRIVET DRIVE. NIGHT.  A sudden loud crack.  A sleek, black Aston Martin DB5 pulls up discreetly. James Bond steps out. He’s wearing a dark suit, not his usual attire, but subtly adjusted for the Muggle world.  He observes Harry's house.\n",
      "\n",
      "\n",
      "**(Action)**  Bond activates a sophisticated listening device, subtly picking up fragments of the Dursleys' conversation and the mysterious crack. He uses thermal imaging binoculars, noticing Harry's heat signature concealed in the bush.\n",
      "\n",
      "\n",
      "**(Dialogue)**\n",
      "\n",
      "* **Bond (V.O.):**  A magic show in suburbia... Intriguing.\n",
      "\n",
      "**Scene 4:** INT. ASTON MARTIN. NIGHT. Bond studies data on his laptop.  He receives a coded message confirming Voldemort’s return and the Ministry’s attempts to cover it up. \n",
      "\n",
      "**(Dialogue)**\n",
      "\n",
      "* **Bond (V.O.):**  Mysteries, magic... not unlike the cases I usually deal with...\n",
      "\n",
      "\n",
      "**Act II: Hogwarts and the Order (approx. 30 minutes)**\n",
      "\n",
      "**Scene 5:**  Hogwarts, Entrance Hall. INT. DAY. Harry is back at school. He notices people whispering about him and avoiding eye contact. He runs into Bond, disguised as a slightly awkward professor.\n",
      "\n",
      "**(Dialogue)**\n",
      "\n",
      "* **Bond (Disguised):** Potter, isn't it?  I’ve heard of your... reputation.\n",
      "* **Harry:** (Suspicious) Who are you?\n",
      "* **Bond:** Let’s just say I have resources that might... interest you.  Dumbledore has been watching you too, and he sent me to check if the reports were true.\n",
      "\n",
      "**(Action)** Bond discreetly uses a high-tech scanner to confirm Harry’s magical abilities are real and to learn of the Ministry’s denial of Voldemort’s return.\n",
      "\n",
      "**Scene 6:** Grimmauld Place. INT.  NIGHT. Bond, utilizing his tech, helps the Order uncover new information on Voldemort's activities.  He projects a map on a wall, indicating Death Eater movements.  \n",
      "\n",
      "**(Dialogue)**\n",
      "\n",
      "* **Bond:**  Voldemort isn't just rebuilding his forces.  He’s gathering something else. \n",
      "* **Mr. Weasley:** A weapon?\n",
      "* **Bond:** Precisely. He won't reveal it, therefore it has to be top secret and in the Ministry.\n",
      "\n",
      "**Scene 7:** Ministry of Magic, Corridors. INT. NIGHT.  A thrilling action sequence ensues.  A group of Death Eaters is trying to gain access to highly secured sections. Bond, with his exceptional fighting skills, expertly disarms them. \n",
      "\n",
      "\n",
      "**(Action)**  Fast-paced hand-to-hand combat, use of Bond's gadgets (like the Aston Martin's features, updated to magical tech). He gets rid of the Death Eaters efficiently. Harry and his friends take out another group, with Bond acting in support. They get access to valuable Ministry information, though some documents seem blank upon closer examination.\n",
      "\n",
      "\n",
      "**Act III: Confrontation and Escape (approx. 25 minutes)**\n",
      "\n",
      "**Scene 8:**  Grimmauld Place. INT.  NIGHT. The Order discusses Bond's findings. They deduce Voldemort seeks something hidden within the Ministry – in the Department of Mysteries.\n",
      "\n",
      "**(Dialogue)**\n",
      "\n",
      "* **Dumbledore:**  Voldemort will not easily obtain this. However, it seems our plans are known. We are being closely watched.\n",
      "\n",
      "\n",
      "**Scene 9:** Ministry of Magic, Department of Mysteries. INT. NIGHT. Harry, Ron, Hermione, and Bond infiltrate the Department. The scene begins with suspense and builds to action. They encounter Voldemort and a series of Death Eaters. The Ministry is investigating them during their incursion.\n",
      "\n",
      "**(Action)**  A dark, eerie setting within the Department of Mysteries.  Bond's tactical expertise guides Harry's team through traps and obstacles. They fight off several Death Eaters, though Bond uses a mixture of high-tech devices and physical skills, blending modern spy methods with magic.  \n",
      "\n",
      "**(Dialogue)**\n",
      "\n",
      "* **Voldemort:** You dare intrude into my sacred chambers, Potter? Bond? \n",
      "* **Bond:** This isn't your playground anymore, Voldemort.\n",
      "* **Harry:** We are trying to stop you again!\n",
      "\n",
      "\n",
      "**Scene 10:** Ministry of Magic, Department of Mysteries. INT. CLIMAX.  Bond and Harry face a desperate situation.  Bond’s cover is blown and the Ministry confirms he is an enemy. He's sentenced to Azkaban while Harry attempts to free him. \n",
      "\n",
      "**(Action)** Bond is overwhelmed.  A Ministry Auror reveals Bond's identity, causing chaos and revealing him as a spy, a grave breach. Dumbledore uses his incredible skill to help Bond and Harry evade their captors, freeing Bond and keeping his identity somewhat secret. Dumbledore’s skills prove paramount in the last minutes to avoid Voldemort from discovering the details of the secret intelligence gathering by 007. \n",
      "\n",
      "\n",
      "**(Dialogue)**\n",
      "\n",
      "* **Auror:**  You're James Bond, a 00 agent of the Muggle government! \n",
      "* **Dumbledore:**  It seems some realities collide, after all.\n",
      "\n",
      "\n",
      "**Act IV: Resolution (approx. 5 minutes)**\n",
      "\n",
      "**Scene 11:** INT. GRIMMAULD PLACE. DAY. The Order, along with a recovered Bond, analyzes Voldemort’s failure to seize the secret weapon within the Ministry.  They discuss ways to safeguard Harry from his influence while maintaining secrecy.\n",
      "\n",
      "**(Dialogue)**\n",
      "\n",
      "* **Bond:** Voldemort is getting more desperate, which might end in chaos for all. The only advantage is that, now, the Ministry is well-aware of his true comeback.\n",
      "* **Dumbledore:** Harry’s connection to Voldemort needs to be protected, or else this could bring him closer than ever to full possession.\n",
      "\n",
      "\n",
      "**Scene 12:** EXT. HOGWARTS. DAY.  Harry is returning to Hogwarts with Hermione and Ron. They know that they face difficult times and the real battle will continue despite their close encounter with Voldemort. The film ends on a note of determined resolve.\n",
      "\n",
      "**(Dialogue)**\n",
      "\n",
      "* **Harry (V.O.):**  The war has begun. The only thing I know for certain is, I will have to deal with it.  Alone, or not.\n",
      "\n",
      "\n",
      "\n",
      "This script outline provides a framework for a 1-hour movie.  Specific scenes could be further fleshed out with more detailed dialogue and action to achieve a fast-paced, engaging narrative within the timeframe.  The pacing is crucial. Each scene needs to drive the plot forward, revealing new information or showcasing Bond’s expertise.  The resolution could showcase both the wizarding and the Muggle worlds uniting to oppose Voldemort, making Bond’s unique skills vital in the larger narrative arc.\n",
      "\n"
     ]
    }
   ],
   "source": [
    "#Prompt 3\n",
    "\n",
    "prompt_order_of_phoenix_3 = summary_of_prizoner_of_azkaban + \"   \\n\" + story_alteration_for_order_of_phoenix  + \"\\n\" + output_required[2]\n",
    "response_order_of_phoenix_3= model_2.generate_content(prompt_order_of_phoenix_3)\n",
    "print(response_order_of_phoenix_3.text)"
   ]
  },
  {
   "cell_type": "code",
   "execution_count": 24,
   "id": "6b406e68",
   "metadata": {
    "execution": {
     "iopub.execute_input": "2024-11-30T13:06:47.775470Z",
     "iopub.status.busy": "2024-11-30T13:06:47.775037Z",
     "iopub.status.idle": "2024-11-30T13:06:48.272262Z",
     "shell.execute_reply": "2024-11-30T13:06:48.270952Z"
    },
    "papermill": {
     "duration": 0.511043,
     "end_time": "2024-11-30T13:06:48.275536",
     "exception": false,
     "start_time": "2024-11-30T13:06:47.764493",
     "status": "completed"
    },
    "tags": []
   },
   "outputs": [
    {
     "name": "stdout",
     "output_type": "stream",
     "text": [
      "CachedContent(\n",
      "    name='cachedContents/jg2jfn0nozjj',\n",
      "    model='models/gemini-1.5-flash-002',\n",
      "    display_name='Order of Phoenix',\n",
      "    usage_metadata={\n",
      "        'total_token_count': 398220,\n",
      "    },\n",
      "    create_time=2024-11-30 13:05:35.653791+00:00,\n",
      "    update_time=2024-11-30 13:05:35.653791+00:00,\n",
      "    expire_time=2024-11-30 13:25:35.298139+00:00\n",
      ")\n"
     ]
    }
   ],
   "source": [
    "for c in caching.CachedContent.list():\n",
    "  print(c)"
   ]
  },
  {
   "cell_type": "markdown",
   "id": "6d413310",
   "metadata": {
    "papermill": {
     "duration": 0.008896,
     "end_time": "2024-11-30T13:06:48.299793",
     "exception": false,
     "start_time": "2024-11-30T13:06:48.290897",
     "status": "completed"
    },
    "tags": []
   },
   "source": [
    "<div style=\"font-family:Verdana\" id=\"delete-cache-2\">\n",
    "    <h3>Delete cached stored for order of phoenix</h3>\n",
    "</div>"
   ]
  },
  {
   "cell_type": "code",
   "execution_count": 25,
   "id": "77ddd87b",
   "metadata": {
    "execution": {
     "iopub.execute_input": "2024-11-30T13:06:48.321708Z",
     "iopub.status.busy": "2024-11-30T13:06:48.321196Z",
     "iopub.status.idle": "2024-11-30T13:06:48.632681Z",
     "shell.execute_reply": "2024-11-30T13:06:48.631465Z"
    },
    "papermill": {
     "duration": 0.326327,
     "end_time": "2024-11-30T13:06:48.635301",
     "exception": false,
     "start_time": "2024-11-30T13:06:48.308974",
     "status": "completed"
    },
    "tags": []
   },
   "outputs": [],
   "source": [
    "cached_content_2.delete()"
   ]
  },
  {
   "cell_type": "markdown",
   "id": "ad4ac6b4",
   "metadata": {
    "papermill": {
     "duration": 0.009797,
     "end_time": "2024-11-30T13:06:48.656405",
     "exception": false,
     "start_time": "2024-11-30T13:06:48.646608",
     "status": "completed"
    },
    "tags": []
   },
   "source": [
    "<div style=\"font-family: Verdana\" id=\"conclusion\">\n",
    "    <h2>Conclusion</h2>\n",
    "    <p style=\"font-size:16px\">\n",
    "        In above use case we have demonstarted the beneficial use of Gemini 1.5 flash model long context window and optimization using context caching. We processed more than 150k input tokens in 3rd edition and more than 350k input tokens in 5th edition. We also used better prompt engineering techniques to give quality prompts to models to \n",
    "get high quality outputs. We also showed how context caching is benefitting us in the use case as we have to give multiple prompts on the same input context tokens.    </p>\n",
    "      <p style=\"font-size:16px\">\n",
    "          We also showed how we can get character continuity in the use case by adding previous book's summary to the next book, so the storyline we get is not ambiguous. We deleted cached after our use to minimize the cost.\n",
    "      </p>\n",
    "</div>"
   ]
  },
  {
   "cell_type": "code",
   "execution_count": null,
   "id": "13e4b47f",
   "metadata": {
    "papermill": {
     "duration": 0.015556,
     "end_time": "2024-11-30T13:06:48.682033",
     "exception": false,
     "start_time": "2024-11-30T13:06:48.666477",
     "status": "completed"
    },
    "tags": []
   },
   "outputs": [],
   "source": []
  }
 ],
 "metadata": {
  "kaggle": {
   "accelerator": "none",
   "dataSources": [
    {
     "databundleVersionId": 9881586,
     "sourceId": 83735,
     "sourceType": "competition"
    },
    {
     "datasetId": 6179293,
     "sourceId": 10032717,
     "sourceType": "datasetVersion"
    }
   ],
   "isGpuEnabled": false,
   "isInternetEnabled": true,
   "language": "python",
   "sourceType": "notebook"
  },
  "kernelspec": {
   "display_name": "Python 3",
   "language": "python",
   "name": "python3"
  },
  "language_info": {
   "codemirror_mode": {
    "name": "ipython",
    "version": 3
   },
   "file_extension": ".py",
   "mimetype": "text/x-python",
   "name": "python",
   "nbconvert_exporter": "python",
   "pygments_lexer": "ipython3",
   "version": "3.10.14"
  },
  "papermill": {
   "default_parameters": {},
   "duration": 168.387841,
   "end_time": "2024-11-30T13:06:49.315515",
   "environment_variables": {},
   "exception": null,
   "input_path": "__notebook__.ipynb",
   "output_path": "__notebook__.ipynb",
   "parameters": {},
   "start_time": "2024-11-30T13:04:00.927674",
   "version": "2.6.0"
  }
 },
 "nbformat": 4,
 "nbformat_minor": 5
}
