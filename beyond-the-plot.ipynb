{
 "cells": [
  {
   "cell_type": "markdown",
   "id": "43ba071a",
   "metadata": {
    "papermill": {
     "duration": 0.008463,
     "end_time": "2024-11-29T15:16:55.654600",
     "exception": false,
     "start_time": "2024-11-29T15:16:55.646137",
     "status": "completed"
    },
    "tags": []
   },
   "source": [
    "<div style=\"font-family:verdana\">\n",
    "<h1>Beyond the Plot Use Case</h1>\n",
    "<p style=\"font-size:15px\">This use case aims to creatively alter the storyline of Harry Potter books by introducing James Bond, the iconic British spy, into the magical universe. Using Google Gemini-1.5-flash model, we can generates rewritten content, new character dialogues, and alternate story arcs and much more creative things. It showcases how <b style=\"color:blue\"> long context window </b> capability of Gemini 1.5 models can enhance literary creativity and provide a fresh perspective on classic stories/novels. </p>\n",
    "\n",
    "<p style=\"font-size: 15px\">We are going to introduce James Bond in the 3rd and 5th edition of Harry Potter series. 3rd edition contains more than 150K tokens and 5th edition contains more than 350K tokens. In use case there will be multiple prompts on same input so we are using <b style=\"color:blue\"> context caching </b> to demonstrate how much efficiently and cost effectively we can use gemini 1.5 models long context window</p>\n",
    "\n",
    "<p style=\"font-size: 15px\">Specially in this use case where we can do many creating things on large document. To process such a large token size at once we need powerfull models like gemini-1.5-flash, gemini-1.5-pro to hold the context of complete document and get more contextual understanding.</p>\n",
    "\n",
    "<p style=\"font-size: 15px\">We will see more details of the use case as we move further</p>\n",
    "</div>"
   ]
  },
  {
   "cell_type": "markdown",
   "id": "9aff58e8",
   "metadata": {
    "papermill": {
     "duration": 0.006909,
     "end_time": "2024-11-29T15:16:55.669053",
     "exception": false,
     "start_time": "2024-11-29T15:16:55.662144",
     "status": "completed"
    },
    "tags": []
   },
   "source": [
    "<div style=\"font-family:verdana\">\n",
    "    <h2>Why Gemini-1.5 models (we are using gemini-1.5-flash-002) over other models</h2>\n",
    "    <p style=\"size:15px\">Let's take a look at certain prominent models context window : gemini 1.0 has 32k, gpt 4 turbo has 128k, claude 2.1 has 200k, gemini-1.5-flash has 1 million and gemini-1.5-pro has 2 million\n",
    "    </p>\n",
    "    <p style=\"size:15px\">In our use case we are firstly working on Harry Potter and Prizoner of Azkaban book and giving some \n",
    "    interesting prompts to make model think in more creative way. We will ask model the dialogues of new character, summary of \n",
    "    the book after incoporating the new character and more. This book has more than 150k tokens. Then after taking summary of this 3rd edition book then we will feed 5th edition Harry Potter and Order of Phoenix which has more than 350k tokens and adding summary of altered version of 3rd edition. So currently only gemini 1.5 models can give best results to our use case, mainly because of its long context ability</p>\n",
    "</div>"
   ]
  },
  {
   "cell_type": "markdown",
   "id": "e24ab1c2",
   "metadata": {
    "papermill": {
     "duration": 0.007549,
     "end_time": "2024-11-29T15:16:55.684586",
     "exception": false,
     "start_time": "2024-11-29T15:16:55.677037",
     "status": "completed"
    },
    "tags": []
   },
   "source": [
    "<div style=\"font-family:verdana\">\n",
    "    <h2>Context Caching</h2>\n",
    "    <p style=\"size:15px\">In our use case, we are giving prompts multiple times to the same input tokens, so to work with them efficiently and cost effectively we are using context caching. If we work without caching then if we have 3 quueries(prompts) then at all 3 requests the input tokens will get loaded by the model. This will generate more costs and will take more time to execute as each time we are ingesting input to the model. With the context cache, we cache the input tokens (context window) first and then give all the required prompts which we need to do perfom on the input. The number of input tokens cached, billed at a reduced rate when included in subsequent prompts. The amount of time cached tokens are stored at specific time which we mention in TTL and cache is billed hourly.</p>\n",
    "    <p style=\"size:15px\">We are using gemini-1.5-flash model for our use case which can store 1 million context cache</p>\n",
    "</div>"
   ]
  },
  {
   "cell_type": "markdown",
   "id": "6ad5cd82",
   "metadata": {
    "papermill": {
     "duration": 0.007147,
     "end_time": "2024-11-29T15:16:55.698999",
     "exception": false,
     "start_time": "2024-11-29T15:16:55.691852",
     "status": "completed"
    },
    "tags": []
   },
   "source": [
    "<div style=\"font-family:verdana\">\n",
    "<h2>Install Required Libraries</h2>\n",
    "    <p style=\"font-size: 15px\">Installing PyPDF2 to extract text from the books</p>\n",
    "</div>"
   ]
  },
  {
   "cell_type": "code",
   "execution_count": 1,
   "id": "ce74622e",
   "metadata": {
    "execution": {
     "iopub.execute_input": "2024-11-29T15:16:55.716170Z",
     "iopub.status.busy": "2024-11-29T15:16:55.715646Z",
     "iopub.status.idle": "2024-11-29T15:17:09.031608Z",
     "shell.execute_reply": "2024-11-29T15:17:09.030359Z"
    },
    "papermill": {
     "duration": 13.327007,
     "end_time": "2024-11-29T15:17:09.034132",
     "exception": false,
     "start_time": "2024-11-29T15:16:55.707125",
     "status": "completed"
    },
    "tags": []
   },
   "outputs": [
    {
     "name": "stdout",
     "output_type": "stream",
     "text": [
      "Collecting PyPDF2\r\n",
      "  Downloading pypdf2-3.0.1-py3-none-any.whl.metadata (6.8 kB)\r\n",
      "Downloading pypdf2-3.0.1-py3-none-any.whl (232 kB)\r\n",
      "\u001b[2K   \u001b[90m━━━━━━━━━━━━━━━━━━━━━━━━━━━━━━━━━━━━━━━━\u001b[0m \u001b[32m232.6/232.6 kB\u001b[0m \u001b[31m4.5 MB/s\u001b[0m eta \u001b[36m0:00:00\u001b[0m\r\n",
      "\u001b[?25hInstalling collected packages: PyPDF2\r\n",
      "Successfully installed PyPDF2-3.0.1\r\n"
     ]
    }
   ],
   "source": [
    "!pip install PyPDF2"
   ]
  },
  {
   "cell_type": "markdown",
   "id": "5eaeeb07",
   "metadata": {
    "papermill": {
     "duration": 0.007023,
     "end_time": "2024-11-29T15:17:09.048852",
     "exception": false,
     "start_time": "2024-11-29T15:17:09.041829",
     "status": "completed"
    },
    "tags": []
   },
   "source": [
    "<div style=\"font-family:verdana\">\n",
    "    <h2>Import Required Libraries</h2>\n",
    "</div>"
   ]
  },
  {
   "cell_type": "code",
   "execution_count": 2,
   "id": "c2857b26",
   "metadata": {
    "execution": {
     "iopub.execute_input": "2024-11-29T15:17:09.066195Z",
     "iopub.status.busy": "2024-11-29T15:17:09.065725Z",
     "iopub.status.idle": "2024-11-29T15:17:10.810645Z",
     "shell.execute_reply": "2024-11-29T15:17:10.809474Z"
    },
    "papermill": {
     "duration": 1.75754,
     "end_time": "2024-11-29T15:17:10.814265",
     "exception": false,
     "start_time": "2024-11-29T15:17:09.056725",
     "status": "completed"
    },
    "tags": []
   },
   "outputs": [],
   "source": [
    "import PyPDF2\n",
    "from kaggle_secrets import UserSecretsClient\n",
    "import datetime\n",
    "import time\n",
    "import google.generativeai as genai\n",
    "from google.generativeai import caching"
   ]
  },
  {
   "cell_type": "markdown",
   "id": "53c6f1ba",
   "metadata": {
    "papermill": {
     "duration": 0.007838,
     "end_time": "2024-11-29T15:17:10.830763",
     "exception": false,
     "start_time": "2024-11-29T15:17:10.822925",
     "status": "completed"
    },
    "tags": []
   },
   "source": [
    "<div style=\"font-family:verdana\">\n",
    "<h2>Configure the gemini api key</h2>\n",
    "    <p style=\"font-size=15px\">Get free api key from \n",
    "        <a href=\"https://aistudio.google.com/apikey\"> Google AI Studio</a>  \n",
    "    </p>\n",
    "\n",
    "<p style=\"font-size=15px\">To Configure api key in kaggle environment by clicking on Add-Ons on top bar then go to secrets and give it in key value pair. Ex. GEMINI_API_KEY = \"API-KEY\"</p>\n",
    "</div>"
   ]
  },
  {
   "cell_type": "code",
   "execution_count": 3,
   "id": "192716c5",
   "metadata": {
    "execution": {
     "iopub.execute_input": "2024-11-29T15:17:10.848668Z",
     "iopub.status.busy": "2024-11-29T15:17:10.848058Z",
     "iopub.status.idle": "2024-11-29T15:17:10.997863Z",
     "shell.execute_reply": "2024-11-29T15:17:10.996789Z"
    },
    "papermill": {
     "duration": 0.161811,
     "end_time": "2024-11-29T15:17:11.000287",
     "exception": false,
     "start_time": "2024-11-29T15:17:10.838476",
     "status": "completed"
    },
    "tags": []
   },
   "outputs": [],
   "source": [
    "from kaggle_secrets import UserSecretsClient\n",
    "user_secrets = UserSecretsClient()\n",
    "\n",
    "GEMINI_API_KEY = user_secrets.get_secret(\"GEMINI_API_KEY\")\n",
    "genai.configure(api_key=GEMINI_API_KEY)"
   ]
  },
  {
   "cell_type": "markdown",
   "id": "f1b63540",
   "metadata": {
    "papermill": {
     "duration": 0.007127,
     "end_time": "2024-11-29T15:17:11.015038",
     "exception": false,
     "start_time": "2024-11-29T15:17:11.007911",
     "status": "completed"
    },
    "tags": []
   },
   "source": [
    "<div style=\"font-family:verdana\">\n",
    "    <h2>Extracting text from the books</h2>\n",
    "    <p style=\"font-size:15px\"></p>\n",
    "</div>"
   ]
  },
  {
   "cell_type": "code",
   "execution_count": 4,
   "id": "07d77b4b",
   "metadata": {
    "execution": {
     "iopub.execute_input": "2024-11-29T15:17:11.031861Z",
     "iopub.status.busy": "2024-11-29T15:17:11.031460Z",
     "iopub.status.idle": "2024-11-29T15:17:24.210016Z",
     "shell.execute_reply": "2024-11-29T15:17:24.209006Z"
    },
    "papermill": {
     "duration": 13.190042,
     "end_time": "2024-11-29T15:17:24.212493",
     "exception": false,
     "start_time": "2024-11-29T15:17:11.022451",
     "status": "completed"
    },
    "tags": []
   },
   "outputs": [],
   "source": [
    "\n",
    "# File paths for the books\n",
    "book_files = {\n",
    "    \"prisoner_of_azkaban\": \"/kaggle/input/bookspdf/Harry Potter And The Prisoner Of Azkaban.pdf\",\n",
    "    \"order_of_phoenix\": \"/kaggle/input/bookspdf/Harry-Potter-and-the-Order-of-Phoenix.pdf\"\n",
    "}\n",
    "\n",
    "def extract_from_pdf(book) :\n",
    "    with open(book, \"rb\") as file:\n",
    "        reader = PyPDF2.PdfReader(file)\n",
    "        book_text = \"\"\n",
    "        for page in reader.pages:\n",
    "            book_text += page.extract_text()\n",
    "    return book_text\n",
    "\n",
    "prizoner_of_azkaban_book_text = extract_from_pdf(book_files['prisoner_of_azkaban'])\n",
    "order_of_phoenix_book_text    = extract_from_pdf(book_files['order_of_phoenix'])"
   ]
  },
  {
   "cell_type": "markdown",
   "id": "39308847",
   "metadata": {
    "papermill": {
     "duration": 0.006997,
     "end_time": "2024-11-29T15:17:24.227207",
     "exception": false,
     "start_time": "2024-11-29T15:17:24.220210",
     "status": "completed"
    },
    "tags": []
   },
   "source": [
    "<div style=\"font-family:verdana\">\n",
    "    <h2>Writing required prompts</h2>\n",
    "     <p style=\"font-size:15px\">To get more control on the response we will get, we need to write detailed prompts. We are splitting this prompts into <b style=\"color:blue\">subparts of changes, story and response</b>. Later on we will merge it to give to model.</p>\n",
    "    <p style=\"font-size:15px\"> <b style=\"color:blue\">change_extents --- </b>. In this we will keep the level of alteration we want in the story by adding the James Bond Character. It can be small extent, medium extent, drastic extent. We will have description for that to feed in the model so model can understand how much alteration is required and will produce output according to that.</p>\n",
    "     <p style=\"font-size:15px\"> <b style=\"color:blue\">story_alteration_prizoner_of_azkaban ---</b> In this we will introduce James Bond first time in series and also give Bond's attributes, attitude, acheivements, success and other details about him, like how we want him to be in the story of Harry Potter and Prizoner of Azkaban. We are also defining few plots like what we want from James Bond in the story</b></p>\n",
    "\n",
    "   <p style=\"font-size:15px\"> <b style=\"color:blue\">story_alteration_for_order_of_phoenix --- </b> In this we are reintroducing James Bond and similarly giving details about him and also definign some plots, like what we want from Bond in the story of Harry Potter and Order of Phoenix.</p> \n",
    "    <p style=\"font-size:15px\"> <b style=\"color:blue\">output_required --- </b> This is the list which is holding the final responses which we want. Like, we want dialogues between James Bond and other character after story alteration, we want summary after story alteration, we want script for 1 hour long movie and much more it can hold.</p>\n",
    "</div>"
   ]
  },
  {
   "cell_type": "code",
   "execution_count": 5,
   "id": "729214db",
   "metadata": {
    "execution": {
     "iopub.execute_input": "2024-11-29T15:17:24.243957Z",
     "iopub.status.busy": "2024-11-29T15:17:24.243510Z",
     "iopub.status.idle": "2024-11-29T15:17:24.251692Z",
     "shell.execute_reply": "2024-11-29T15:17:24.250493Z"
    },
    "papermill": {
     "duration": 0.019246,
     "end_time": "2024-11-29T15:17:24.253922",
     "exception": false,
     "start_time": "2024-11-29T15:17:24.234676",
     "status": "completed"
    },
    "tags": []
   },
   "outputs": [],
   "source": [
    "change_extents = [\n",
    "    {\n",
    "        \"extent\": \"Small Extent\",\n",
    "        \"description\": \"\"\"\n",
    "        In this case, the changes are very subtle and minimally impact the overall story. The core narrative of the book remains largely unchanged, but small adjustments are made to certain events or details. \n",
    "        These changes might include adding a minor character who appears only in a few scenes, altering the background or environment slightly, or introducing a piece of dialogue that doesn’t significantly shift the plot. \n",
    "        For instance, a character might make a brief appearance in a scene but have no major impact on the direction of the plot. Another example could be changing a minor decision made by a character, like a different choice for a meal or a location, without affecting the larger story arc. \n",
    "        The changes should not affect the primary goals or the structure of the narrative. The focus is on adding depth or nuance without altering the fundamental flow or emotional impact of the story.\n",
    "        \"\"\"\n",
    "    },\n",
    "    {\n",
    "        \"extent\": \"Medium Extent\",\n",
    "        \"description\": \"\"\"\n",
    "        Here, the changes are more noticeable and start to affect the progression of the story, but they do not completely rewrite the plot. Major events still unfold, and the overall storyline remains the same, but there are moderate alterations to how things occur or which characters are central to specific moments. \n",
    "        For example, a character who had a smaller role in the original narrative might now play a more significant part, like Hermione taking on a leadership role during a pivotal scene. \n",
    "        Alternatively, a scene or event might be altered so that the outcome is different, like a character choosing a different path or strategy in an important situation (e.g., Harry making a different choice during the Triwizard Tournament). \n",
    "        While the larger events and themes are maintained, the reader would notice the subtle but impactful difference in how the story unfolds due to the changes. These changes might affect character motivations or the dynamics between characters but do not drastically alter the central theme or outcome of the story.\n",
    "        \"\"\"\n",
    "    },\n",
    "    {\n",
    "        \"extent\": \"Drastic Extent\",\n",
    "        \"description\": \"\"\"\n",
    "        These changes are transformative and can significantly alter the course of the entire story. The plot may remain loosely familiar, but the events and character arcs could be reshaped in fundamental ways. \n",
    "        A new character, such as Sherlock Holmes, might be introduced and could have a major influence on key events in the narrative, shifting the balance of power or creating entirely new dynamics between characters. \n",
    "        For example, if Sherlock Holmes were inserted into the Harry Potter universe, he might help Harry solve mysteries or uncover clues about the Horcruxes in ways that completely change the original flow of the story. \n",
    "        The introduction of this new character could lead to completely different strategies or decisions in the plot, making the story unfold differently, but with a clear connection to the original themes and arcs. \n",
    "        These changes might also involve altering key events, such as replacing a character's role or deciding that a significant event happens in a different way (e.g., Voldemort's defeat occurring differently). \n",
    "        The core of the story could still be recognizable, but the transformation would be substantial, leading to a novel retelling that deviates from the original yet retains its essence.\n",
    "        \"\"\"\n",
    "    }\n",
    "]"
   ]
  },
  {
   "cell_type": "code",
   "execution_count": 6,
   "id": "f536da91",
   "metadata": {
    "execution": {
     "iopub.execute_input": "2024-11-29T15:17:24.270873Z",
     "iopub.status.busy": "2024-11-29T15:17:24.270464Z",
     "iopub.status.idle": "2024-11-29T15:17:24.277877Z",
     "shell.execute_reply": "2024-11-29T15:17:24.276874Z"
    },
    "papermill": {
     "duration": 0.018312,
     "end_time": "2024-11-29T15:17:24.280061",
     "exception": false,
     "start_time": "2024-11-29T15:17:24.261749",
     "status": "completed"
    },
    "tags": []
   },
   "outputs": [],
   "source": [
    "story_alteration_prizoner_of_azkaban =  \"\"\" You are tasked with making changes to the story of *Harry Potter and the Prisoner of Azkaban*. In this version, James Bond, a British secret agent, plays a crucial role in the investigation surrounding Sirius Black’s escape from Azkaban. His presence significantly alters certain aspects of the plot while still maintaining the essence of the original story.\n",
    "James Bond has the following characteristics and background:\n",
    "- **Skills**: A master of espionage, expert in combat, skilled in using firearms, and highly tactical.\n",
    "- **Achievements**: Known for defeating dangerous adversaries, such as the villain Le Chiffre in *Casino Royale* and stopping a terror plot in *Skyfall*.\n",
    "- **Best Cases**: \n",
    "  - He infiltrated a dangerous terrorist organization in *Casino Royale*.\n",
    "  - In *Skyfall*, he stopped an ex-agent from exposing MI6 secrets and launched a successful mission against a global threat.\n",
    "  - In *Goldfinger*, he thwarted a villain’s plan to contaminate the U.S. gold reserves.\n",
    "\n",
    "His involvement in the story should reshape key moments. For example:\n",
    "- James Bond may assist Harry in tracking Sirius Black, using his advanced surveillance equipment to uncover crucial clues about Sirius’ escape.\n",
    "- Bond could be directly involved in the investigation, offering insight into the operations of the Ministry of Magic or assisting Harry during moments of danger, such as when he faces the Dementors.\n",
    "- In an important scene, Bond might confront a dark wizard or assist in an action-packed sequence, further shifting the storyline and giving Harry and his friends access to resources they wouldn't normally have.\n",
    "\n",
    "The core narrative should still focus on Harry's journey and the mystery of Sirius Black, but James Bond’s influence should become more pronounced. He should provide actionable intelligence, use his espionage skills to uncover hidden truths, and even engage in combat situations to help Harry and his friend \n",
    "\"\"\" \n",
    "\n",
    "\n",
    "story_alteration_for_order_of_phoenix =  \"\"\"\n",
    "Now james bond is back in Harry Potter and Order of Phoenix. Now change the story of Harry Potter and \n",
    "Order of Phoenix Book to incoporate Bond. \n",
    "- **Skills**: A master of espionage, expert in combat, skilled in using firearms, and highly tactical.\n",
    "- **Achievements**: Known for defeating dangerous adversaries, such as the villain Le Chiffre in *Casino Royale* and stopping a terror plot in *Skyfall*.\n",
    "- **Best Cases**: \n",
    "  - He infiltrated a dangerous terrorist organization in *Casino Royale*.\n",
    "  - In *Skyfall*, he stopped an ex-agent from exposing MI6 secrets and launched a successful mission against a global threat.\n",
    "  - In *Goldfinger*, he thwarted a villain’s plan to contaminate the U.S. gold reserves.\n",
    "\n",
    "His involvement in the story should reshape key moments. For example:\n",
    "- James Bond may assist Harry in tracking Sirius Black, using his advanced surveillance equipment to uncover crucial clues about Sirius’ escape.\n",
    "- Bond could be directly involved in the investigation, offering insight into the operations of the Ministry of Magic or assisting Harry during moments of danger, such as when he faces the Dementors.\n",
    "- In an important scene, Bond might confront a dark wizard or assist in an action-packed sequence, further shifting the storyline and giving Harry and his friends access to resources they wouldn't normally have.\n",
    "- But in the end James Bond get caught and ministry got to know that he is a spy of Muggles and sentence to \n",
    "  imprisonment in Azkaban but Dumbelodore and Harry save him\n",
    "\"\"\""
   ]
  },
  {
   "cell_type": "code",
   "execution_count": 7,
   "id": "8a4a98ca",
   "metadata": {
    "execution": {
     "iopub.execute_input": "2024-11-29T15:17:24.297431Z",
     "iopub.status.busy": "2024-11-29T15:17:24.296902Z",
     "iopub.status.idle": "2024-11-29T15:17:24.305231Z",
     "shell.execute_reply": "2024-11-29T15:17:24.303060Z"
    },
    "papermill": {
     "duration": 0.019915,
     "end_time": "2024-11-29T15:17:24.307834",
     "exception": false,
     "start_time": "2024-11-29T15:17:24.287919",
     "status": "completed"
    },
    "tags": []
   },
   "outputs": [],
   "source": [
    "output_required = [\n",
    "    \"\"\"\n",
    "    ### Output Required ----- Give the scenarios in which you made the changes in book to accomodate James Bond and\n",
    "    how the storyline got affected\n",
    "    \"\"\",\n",
    "    \"\"\"\n",
    "    ### Output required ----- Give all the dialogues between James Bond and other characters with including short description\n",
    "    of where those dialogues happening\n",
    "    \"\"\",\n",
    "    \"\"\"\n",
    "    ### Output Required ----- \n",
    "    Create a detailed script for a 1-hour movie adaptation of the rewritten book with James Bond as a central character. Outline the key scenes \n",
    "    and plot points that will be featured in the film, making sure that the script retains the essence of the original story while adapting it for the screen. Break the script into acts, ensuring there is a clear beginning, middle, and climax. Include both the dialogues and actions in detail for each scene, providing descriptions of the setting, character emotions, and key visual elements. Pay special attention to pacing, dramatic moments, and how Bond’s character is portrayed through his actions and interactions with others. The script should be structured in a way that aligns with the conventions of a 1-hour action movie, including a compelling opening, rising tension, and a satisfying resolution.\n",
    "    \"\"\",\n",
    "  \n",
    "    \"\"\"\n",
    "    ### Output Required:\n",
    "    Provide a detailed summary of the altered version of *Harry Potter and the Prisoner of Azkaban*, focusing on:\n",
    "    - The main plot and character developments.\n",
    "    - How James Bond’s integration reshaped the narrative.\n",
    "    - Key differences from the original story and their significance.\n",
    "\n",
    "    \"\"\"\n",
    "]"
   ]
  },
  {
   "cell_type": "markdown",
   "id": "dab8187e",
   "metadata": {
    "papermill": {
     "duration": 0.007902,
     "end_time": "2024-11-29T15:17:24.329299",
     "exception": false,
     "start_time": "2024-11-29T15:17:24.321397",
     "status": "completed"
    },
    "tags": []
   },
   "source": [
    "<div style=\"font-family:Verdana\">\n",
    "    <h2>Creating Context Caching</h2>\n",
    "</div>"
   ]
  },
  {
   "cell_type": "code",
   "execution_count": 8,
   "id": "32c1cd4d",
   "metadata": {
    "execution": {
     "iopub.execute_input": "2024-11-29T15:17:24.353295Z",
     "iopub.status.busy": "2024-11-29T15:17:24.352793Z",
     "iopub.status.idle": "2024-11-29T15:17:24.360378Z",
     "shell.execute_reply": "2024-11-29T15:17:24.359251Z"
    },
    "papermill": {
     "duration": 0.019422,
     "end_time": "2024-11-29T15:17:24.362733",
     "exception": false,
     "start_time": "2024-11-29T15:17:24.343311",
     "status": "completed"
    },
    "tags": []
   },
   "outputs": [],
   "source": [
    "\n",
    "# Model which we are using to leverage Long Context Window and Context Caching benefits\n",
    "model = 'models/gemini-1.5-flash-002'\n",
    "\n",
    "# System Instruction to the Model\n",
    "# We are defining what specifically we want from the model\n",
    "system_instruction = \"\"\"\n",
    "    You are great in understanding stories in the books and capturing all the information, relations and much more \n",
    "    from the book. You are great in alteration of the story by adding different characters or giving different roles to different characters where needed\n",
    "    and changing the   enario an changing the story in book by the extent to which the user provide in the prompt. You also write text of book \n",
    "    in be fromat. Understand what user wants, whether to rewrte complete book after alterations or give summaries of new created book \n",
    "    or generate dialogues for 1 hour movie. Please provide output in proper and readable format. Do not be ambiguous and be to the point\n",
    "    and give what is required\n",
    "    \"\"\"\n"
   ]
  },
  {
   "cell_type": "code",
   "execution_count": 9,
   "id": "3b1b0fd1",
   "metadata": {
    "execution": {
     "iopub.execute_input": "2024-11-29T15:17:24.379877Z",
     "iopub.status.busy": "2024-11-29T15:17:24.379498Z",
     "iopub.status.idle": "2024-11-29T15:17:24.385471Z",
     "shell.execute_reply": "2024-11-29T15:17:24.384172Z"
    },
    "papermill": {
     "duration": 0.017095,
     "end_time": "2024-11-29T15:17:24.387623",
     "exception": false,
     "start_time": "2024-11-29T15:17:24.370528",
     "status": "completed"
    },
    "tags": []
   },
   "outputs": [],
   "source": [
    "# Create function for context caching\n",
    "\n",
    "def caching_the_content(model, display_name, system_instruction, text_content) :\n",
    "     \n",
    "    cached_content = caching.CachedContent.create(\n",
    "    model=model,\n",
    "    display_name= display_name, \n",
    "    system_instruction= system_instruction,\n",
    "    contents=[text_content],\n",
    "    ttl=datetime.timedelta(minutes=20),\n",
    "    )\n",
    "    return cached_content"
   ]
  },
  {
   "cell_type": "markdown",
   "id": "358baafa",
   "metadata": {
    "papermill": {
     "duration": 0.00764,
     "end_time": "2024-11-29T15:17:24.402776",
     "exception": false,
     "start_time": "2024-11-29T15:17:24.395136",
     "status": "completed"
    },
    "tags": []
   },
   "source": [
    "<div style=\"font-family:Verdana\">\n",
    "    <h2>Creativity on Harry Potter and Prizoner of Azkaban</h2>\n",
    "</div>"
   ]
  },
  {
   "cell_type": "code",
   "execution_count": 10,
   "id": "818a2b72",
   "metadata": {
    "execution": {
     "iopub.execute_input": "2024-11-29T15:17:24.420400Z",
     "iopub.status.busy": "2024-11-29T15:17:24.419428Z",
     "iopub.status.idle": "2024-11-29T15:17:49.114766Z",
     "shell.execute_reply": "2024-11-29T15:17:49.113367Z"
    },
    "papermill": {
     "duration": 24.706687,
     "end_time": "2024-11-29T15:17:49.117240",
     "exception": false,
     "start_time": "2024-11-29T15:17:24.410553",
     "status": "completed"
    },
    "tags": []
   },
   "outputs": [],
   "source": [
    "cached_content_1 = caching_the_content(model, \"Prizoner of Azkaban\", system_instruction, prizoner_of_azkaban_book_text)"
   ]
  },
  {
   "cell_type": "code",
   "execution_count": 11,
   "id": "ca96e741",
   "metadata": {
    "execution": {
     "iopub.execute_input": "2024-11-29T15:17:49.133911Z",
     "iopub.status.busy": "2024-11-29T15:17:49.133509Z",
     "iopub.status.idle": "2024-11-29T15:17:49.140256Z",
     "shell.execute_reply": "2024-11-29T15:17:49.138052Z"
    },
    "papermill": {
     "duration": 0.018058,
     "end_time": "2024-11-29T15:17:49.142840",
     "exception": false,
     "start_time": "2024-11-29T15:17:49.124782",
     "status": "completed"
    },
    "tags": []
   },
   "outputs": [],
   "source": [
    "model_1 = genai.GenerativeModel.from_cached_content(cached_content=cached_content_1)"
   ]
  },
  {
   "cell_type": "code",
   "execution_count": 12,
   "id": "a968abd1",
   "metadata": {
    "execution": {
     "iopub.execute_input": "2024-11-29T15:17:49.160959Z",
     "iopub.status.busy": "2024-11-29T15:17:49.160540Z",
     "iopub.status.idle": "2024-11-29T15:18:02.366729Z",
     "shell.execute_reply": "2024-11-29T15:18:02.365406Z"
    },
    "papermill": {
     "duration": 13.219457,
     "end_time": "2024-11-29T15:18:02.370053",
     "exception": false,
     "start_time": "2024-11-29T15:17:49.150596",
     "status": "completed"
    },
    "tags": []
   },
   "outputs": [
    {
     "name": "stdout",
     "output_type": "stream",
     "text": [
      "To integrate James Bond into *Harry Potter and the Prisoner of Azkaban* without completely rewriting the plot, I'd focus on enhancing existing scenes and adding new ones where his unique skills are beneficial.  Here are scenarios illustrating the changes and their impact on the storyline:\n",
      "\n",
      "\n",
      "**Scenario 1:  The Knight Bus Escape and Initial Investigation**\n",
      "\n",
      "* **Original:** Harry flees Privet Drive and is rescued by the Knight Bus. The initial investigation into Black's escape is largely handled by the Ministry.\n",
      "* **Revised:** After the explosive argument with Aunt Marge,  M (the head of MI6, analogous to Dumbledore's role in the magical world) contacts 007, briefing him on the escaped \"high-value target\" Sirius Black—a powerful dark wizard with connections to international criminal networks.  Bond, utilizing sophisticated Muggle technology (undetectable surveillance equipment, advanced tracking devices), arrives in Little Whinging covertly, subtly observing the Dursleys' residence and providing real-time information to the Ministry. He doesn't directly intervene on the Knight Bus, but his intelligence assists the Ministry in narrowing down Black's potential escape routes and hideouts.  This accelerates the Ministry's response time and provides more accurate intelligence to the Aurors, impacting how quickly the Ministry initially reacts.\n",
      "\n",
      "**Scenario 2:  Uncovering Clues – Diagon Alley and Gringotts**\n",
      "\n",
      "* **Original:** Harry investigates clues within the wizarding world, primarily through his own research and interactions with friends.\n",
      "* **Revised:**  Bond's knowledge of clandestine operations and his access to advanced Muggle tech allows him to provide Harry with crucial insights. Bond, using his contacts, might uncover hidden information in Diagon Alley's shops (perhaps a seemingly innocuous item holds a secret code or a forgotten document detailing Black's plans), or he could use technology to remotely analyze artifacts from Gringotts that might hint at Black's escape method.  This speeds Harry’s investigation, focusing his search more effectively and giving him a \"leg up\" in the mystery's complexities. The storyline is affected by the significantly reduced time it takes Harry to solve crucial aspects of the mystery.\n",
      "\n",
      "**Scenario 3:  Confrontation with a Dark Wizard**\n",
      "\n",
      "* **Original:** Harry and his friends face danger from Black's followers, but the confrontations are limited to the wizarding world.\n",
      "* **Revised:** Bond's expertise could be used in a major confrontation with a dark wizard who is actually a contact or underling of Black's organization. This could be a new character—a dark wizard who escaped alongside Black or a rogue member attempting to disrupt the investigation.  Bond would use his tactical skills and weaponry in a thrilling sequence, protecting Harry and his friends while gathering valuable information about the structure and resources of Black's network. This introduces an action-packed scene directly involving Bond, altering the pacing and tone of the original narrative, and providing Harry's group with information they wouldn't have otherwise gained.\n",
      "\n",
      "**Scenario 4:  Dementor Defense**\n",
      "\n",
      "* **Original:** Harry and Lupin work on countering Dementors through the Patronus Charm.\n",
      "* **Revised:** Bond, understanding the Dementors' effect as a type of psychological warfare, uses Muggle psychological countermeasures alongside Lupin's magical approach. He might introduce techniques to bolster Harry's mental resilience, combining the magical world's methods with advanced psychology. This adds a unique layer to the Dementor confrontation and emphasizes the combined effectiveness of Muggle and magical approaches.\n",
      "\n",
      "**Scenario 5: Hogsmeade and the Marauder's Map**\n",
      "\n",
      "* **Original:** Harry obtains the Marauder’s Map.\n",
      "* **Revised:** Bond's knowledge of secret passages and cartography could be used to explain the map's origin and function.  Maybe Bond has encountered similar technology in his missions (ancient secret maps, intricate security systems) making his involvement in interpreting the map's secrets more believable. This adds another level of \"legitimacy\" to the map's discovery in the eyes of the reader.\n",
      "\n",
      "By strategically inserting these scenarios, James Bond can become a significant player in the narrative without undermining the core magical elements. His presence adds action, intrigue, and accelerates the pace of the investigation, while still allowing the original story's magical elements to take center stage.\n",
      "\n"
     ]
    }
   ],
   "source": [
    "# Prompt 1\n",
    "\n",
    "prompt_prizoner_of_azkaban_1 = story_alteration_prizoner_of_azkaban + \"\\n\" +change_extents[1]['description'] + \"\\n\" + output_required[0]\n",
    "response_prizoner_of_azkaban_1 = model_1.generate_content(prompt_prizoner_of_azkaban_1)\n",
    "print(response_prizoner_of_azkaban_1.text)"
   ]
  },
  {
   "cell_type": "code",
   "execution_count": 13,
   "id": "ed253531",
   "metadata": {
    "execution": {
     "iopub.execute_input": "2024-11-29T15:18:02.387486Z",
     "iopub.status.busy": "2024-11-29T15:18:02.387104Z",
     "iopub.status.idle": "2024-11-29T15:18:21.976974Z",
     "shell.execute_reply": "2024-11-29T15:18:21.975712Z"
    },
    "papermill": {
     "duration": 19.601794,
     "end_time": "2024-11-29T15:18:21.979812",
     "exception": false,
     "start_time": "2024-11-29T15:18:02.378018",
     "status": "completed"
    },
    "tags": []
   },
   "outputs": [
    {
     "name": "stdout",
     "output_type": "stream",
     "text": [
      "Here are some potential dialogues between James Bond and other characters in an altered *Harry Potter and the Prisoner of Azkaban* story, incorporating Bond's expertise and altering key moments.  The descriptions are brief for conciseness.\n",
      "\n",
      "\n",
      "**Dialogue 1:**  Leaky Cauldron, Diagon Alley – Immediately after Harry is rescued by the Knight Bus.\n",
      "\n",
      "* **Setting:** A private room in the Leaky Cauldron, shortly after Harry reveals his identity to the stunned Stan Shunpike.  Cornelius Fudge is already present.\n",
      "\n",
      "* **Characters:** Harry Potter, Cornelius Fudge, James Bond (introduced here).\n",
      "\n",
      "* **Dialogue:**\n",
      "\n",
      "    * **Fudge:** (Exasperated) Mr. Potter, this is utterly preposterous! Running away from home... performing magic...\n",
      "    * **Harry:** But I was attacked! There was something... huge... in the alleyway.\n",
      "    * **Fudge:** (Sighs) This is beyond my purview. (Gestures to Bond, who enters silently) This is Agent 007, from Her Majesty's Secret Intelligence Service. He’ll assist in the investigation.\n",
      "    * **Bond:** (Smoothly)  Evening, Minister.  Tell me about this \"something huge.\"  Was it magical in nature?  What kind of threats are we dealing with here?\n",
      "    * **Harry:** I... I don't know. It was dark, I only saw its eyes.\n",
      "    * **Bond:** (To Fudge)  I'll need access to Ministry records, particularly anything concerning recent unusual magical activity, prison breaks…  and perhaps a look at Azkaban's security protocols.\n",
      "    * **Fudge:** (Hesitantly) Very well, Agent 007. But discretion is paramount.\n",
      "\n",
      "\n",
      "**Dialogue 2:** Ministry of Magic –  Bond is examining Azkaban security files.\n",
      "\n",
      "* **Setting:** A secure room within the Ministry, Bond reviewing documents.  A Ministry official is present.\n",
      "\n",
      "* **Characters:** James Bond, Ministry Official (Arthur Weasley is a possibility, but a more anonymous official adds to the intrigue of Bond's outsider status)\n",
      "\n",
      "* **Dialogue:**\n",
      "\n",
      "    * **Bond:** (Examining a document)  Remarkable.  They seem to rely heavily on Dementors, these... guardians... possess no advanced technological security systems.\n",
      "    * **Official:**  Agent 007,  Azkaban's security is considered impenetrable.  Magical security is vastly different from...your methods.\n",
      "    * **Bond:**  Intriguing.  This reliance on a single, seemingly unsophisticated method suggests a vulnerability.  A breach like Black's escape needs an insider or a deeply significant magical loophole. What about the staff? Any recent anomalies in their records or movements? \n",
      "    * **Official:**  All staff are vetted thoroughly.\n",
      "    * **Bond:** (Raises an eyebrow)  Thoroughly is a relative term, wouldn't you say?  Perhaps I could assist in reassessing their loyalty?\n",
      "\n",
      "\n",
      "**Dialogue 3:** Hogwarts –  Bond helps Harry confront the dementors.\n",
      "\n",
      "* **Setting:**  Hogwarts Express, during the attack by the dementors. Bond, who has been secretly traveling with Harry, intervenes.\n",
      "\n",
      "* **Characters:** Harry Potter, Ron Weasley, Hermione Granger, James Bond\n",
      "\n",
      "* **Dialogue:**\n",
      "\n",
      "    * **Ron:** (Panicked)  What is that? I feel... empty...\n",
      "    * **Hermione:** (Gasping)  Dementors!\n",
      "    * **Bond:** (Calmly, drawing his Walther PPK)  Stay close, Potter.  (Fires a few shots – non-lethal, possibly tranquilizer darts - at the dementors, surprising them with his swift and unexpected response). That should buy us time.  This cold... this is unique.  I’ve encountered similar sensations in extreme cold environments, but... this is something else.  This is magical.\n",
      "    * **Harry:** (Recovering slightly) A Patronus Charm! That's the only way to beat them.\n",
      "    * **Bond:**  (To Harry)  Concentrate, Potter.  Focus on your strongest positive memories. You need to fight back.\n",
      "\n",
      "\n",
      "**Dialogue 4:** Hogwarts Grounds – Post-Quidditch Match\n",
      "\n",
      "* **Setting:** The grounds near Hagrid's hut, after the Quidditch match, when Harry's Nimbus 2000 is destroyed and Bond has used his technology to discover who sabotaged it. \n",
      "\n",
      "* **Characters:** Harry Potter, Ron Weasley, James Bond\n",
      "\n",
      "* **Dialogue:**\n",
      "\n",
      "    * **Harry:** (Dejected) My broom... it's gone.\n",
      "    * **Ron:** Malfoy!  I knew it was him!\n",
      "    * **Bond:** (Holding a small device, showing a thermal image of Malfoy near the Whomping Willow)  Malfoy was indeed near the scene of destruction, Potter.  But this doesn't tell the whole story.  (Shows a grainy image of a person using magic to disable the broom). My analysis shows advanced, non-standard magic was used here.  Beyond Malfoy's capabilities.\n",
      "\n",
      "\n",
      "These dialogues illustrate Bond's impact on the story.  His espionage background provides a technological and tactical edge that wouldn't exist in the original narrative.  The interactions are brief but showcase Bond's personality and skills, creating new dynamics within the plot.  The exact placement and details of these scenes can be adjusted to fit seamlessly into the larger *Prisoner of Azkaban* narrative.\n",
      "\n"
     ]
    }
   ],
   "source": [
    "# Prompt 2\n",
    "\n",
    "prompt_prizoner_of_azkaban_2 = story_alteration_prizoner_of_azkaban + \"\\n\" +change_extents[1]['description'] + \"\\n\" + output_required[1]\n",
    "response_prizoner_of_azkaban_2 = model_1.generate_content(prompt_prizoner_of_azkaban_2)\n",
    "print(response_prizoner_of_azkaban_2.text)"
   ]
  },
  {
   "cell_type": "code",
   "execution_count": 14,
   "id": "f9bb65a8",
   "metadata": {
    "execution": {
     "iopub.execute_input": "2024-11-29T15:18:21.997063Z",
     "iopub.status.busy": "2024-11-29T15:18:21.996661Z",
     "iopub.status.idle": "2024-11-29T15:18:35.321526Z",
     "shell.execute_reply": "2024-11-29T15:18:35.320189Z"
    },
    "papermill": {
     "duration": 13.336412,
     "end_time": "2024-11-29T15:18:35.324107",
     "exception": false,
     "start_time": "2024-11-29T15:18:21.987695",
     "status": "completed"
    },
    "tags": []
   },
   "outputs": [
    {
     "name": "stdout",
     "output_type": "stream",
     "text": [
      "## Harry Potter and the Prisoner of Azkaban: 007's Intervention\n",
      "\n",
      "**Logline:** When Sirius Black escapes Azkaban, Harry Potter finds an unlikely ally in James Bond, whose espionage skills and gadgets help unravel the mystery and protect Harry from a greater threat.\n",
      "\n",
      "**Running Time:** 60 minutes\n",
      "\n",
      "**Act I: The Escape (0-15 minutes)**\n",
      "\n",
      "**Scene 1:**  Privet Drive, Summer Holidays.  Opens with a tense, shadowy shot of Azkaban.  Quick cuts showing Black's escape – magical, yet utilizing stealth and cunning (similar to Bond's infiltration tactics).  The scene transitions to Harry secretly studying in his cupboard, interrupted by a news report (on a Muggle TV) about an escaped convict matching Black's description. Uncle Vernon's bluster about the escaped criminal foreshadows the danger.\n",
      "\n",
      "**Scene 2:**  Ministry of Magic.  M (a stylish, older version of Moneypenny) briefs Bond about the escape of Sirius Black, a dark wizard with connections to Lord Voldemort. M highlights the threat and emphasizes the need for discretion.  Bond receives a high-tech wristwatch with various gadgets.\n",
      "\n",
      "**Scene 3:**  Leaky Cauldron. Bond, disguised as a regular patron, subtly observes the Ministry's investigation. He notices inconsistencies in their approach, using his keen observation skills. He overhears snippets of conversations highlighting the threat Black poses to Harry.  He catches a glimpse of Fudge's frustration and lack of effective strategy.\n",
      "\n",
      "**Act II: The Investigation (15-40 minutes)**\n",
      "\n",
      "**Scene 4:**  Hogwarts Express. Bond, having learned of Harry's connection to Black, discreetly boards the Hogwarts Express, using his skills to avoid detection. He encounters Harry and introduces himself as a \"family friend\" – a guardian appointed by Harry's parents.  The Dementor attack occurs; Bond's quick thinking and specialized equipment (a device neutralizing the dementors' cold) allows him to protect Harry and his friends.  This highlights Bond's superior skills in crisis management.\n",
      "\n",
      "**Scene 5:**  Hogwarts. Bond uses his advanced surveillance technology (hidden cameras and microphones) to monitor the castle for suspicious activity, providing Harry with real-time updates.  He discovers a hidden passageway leading to Hogsmeade and installs a small, highly sensitive listening device near it.  He demonstrates his expertise in high-tech surveillance.\n",
      "\n",
      "**Scene 6:**  Hogsmeade. The Hogsmeade trip – Harry, Ron, Hermione, and Bond utilize the hidden passage, Bond ensures their safety, showcasing his tactical prowess. A confrontation with Malfoy ensues, with Bond using a combination of his gadgetry and hand-to-hand combat skills to subdue Malfoy and his cronies.\n",
      "\n",
      "**Act III: Confrontation and Resolution (40-60 minutes)**\n",
      "\n",
      "**Scene 7:**  The Shrieking Shack.  Bond’s listening device picks up Pettigrew’s confession and reveals his identity as the real traitor.  Bond uses his knowledge of Animagus transformations (acquired via research) to help Harry and his friends understand Pettigrew’s identity.\n",
      "\n",
      "**Scene 8:** Climax – The Shrieking Shack confrontation. Bond displays his skills using a combination of martial arts and his gadgetry to fight Black, helping Harry understand Black's innocence while confronting Pettigrew.  A short, intense fight follows, highlighting the differences in magical and non-magical combat. Bond's quick thinking and resourcefulness help save the day.\n",
      "\n",
      "**Scene 9:**  Resolution.  The truth is revealed; Black is cleared of his crimes; Pettigrew is captured; Bond subtly disappears (like he'd always been part of the magic).  A final shot of Harry, Ron, and Hermione at the Quidditch Cup victory celebration. Bond's presence has subtly altered the dynamics, creating a more action-oriented and technologically advanced feel while maintaining the story's emotional core.\n",
      "\n",
      "\n",
      "**Note:**  This script outline focuses on key plot points.  A full script would require more detailed dialogue and scene descriptions, including visual effects and action sequences. The pacing needs to be fast-paced to maintain the action-movie feel within the 60-minute timeframe. Bond's character is shown through his subtle actions, observations, and tactical interventions, rather than being the primary focus of the narrative. The film's tone should balance the magical world with Bond's world of espionage.\n",
      "\n"
     ]
    }
   ],
   "source": [
    "# Prompt 3\n",
    "\n",
    "prompt_prizoner_of_azkaban_3 = story_alteration_prizoner_of_azkaban + \"\\n\" +change_extents[1]['description'] + \"\\n\" + output_required[2]\n",
    "response_prizoner_of_azkaban_3 = model_1.generate_content(prompt_prizoner_of_azkaban_3)\n",
    "print(response_prizoner_of_azkaban_3.text)"
   ]
  },
  {
   "cell_type": "code",
   "execution_count": 15,
   "id": "4f2c87aa",
   "metadata": {
    "execution": {
     "iopub.execute_input": "2024-11-29T15:18:35.341979Z",
     "iopub.status.busy": "2024-11-29T15:18:35.341558Z",
     "iopub.status.idle": "2024-11-29T15:18:49.807521Z",
     "shell.execute_reply": "2024-11-29T15:18:49.805833Z"
    },
    "papermill": {
     "duration": 14.477865,
     "end_time": "2024-11-29T15:18:49.810181",
     "exception": false,
     "start_time": "2024-11-29T15:18:35.332316",
     "status": "completed"
    },
    "tags": []
   },
   "outputs": [
    {
     "name": "stdout",
     "output_type": "stream",
     "text": [
      "## Harry Potter and the Prisoner of Azkaban: 007's Intervention\n",
      "\n",
      "This revised version of *Harry Potter and the Prisoner of Azkaban* incorporates James Bond as a key player in the investigation surrounding Sirius Black's escape and Harry's subsequent challenges.  The core narrative remains largely intact, but Bond's presence significantly alters the pacing, adds action sequences, and provides Harry with crucial resources and intelligence.\n",
      "\n",
      "**Main Plot and Character Developments:**\n",
      "\n",
      "The story begins similarly, with Harry's miserable summer holidays and clandestine homework. However, the pivotal telephone call from Ron Weasley is intercepted by Bond, who, alerted to a potential threat involving magic, uses his technical skills to trace the call and identify Ron.  This early intervention prevents Uncle Vernon from escalating the situation and allows Bond to subtly observe Harry's magical abilities.\n",
      "\n",
      "Bond's advanced surveillance technology plays a crucial role in the investigation of Black's escape.  He provides the Ministry of Magic (who are initially bewildered by the magical aspects of the case) with actionable intelligence, including details about Azkaban's security systems, potentially identifying weaknesses exploited by Black. This intelligence accelerates the official investigation, although Fudge remains skeptical of Bond's methods and insights.\n",
      "\n",
      "The encounter with the dementors on the Hogwarts Express remains a key event. However, Bond, having been briefed by Lupin (who confides in him due to his past association with the Marauders), is present, using a sonic device to temporarily disrupt the dementors' powers and protect Harry and his friends. This highlights Bond’s proactive role in ensuring Harry's safety, something beyond the capacity of the Ministry officials.\n",
      "\n",
      "Bond's expertise also comes into play during the climax.  Instead of relying solely on Lupin’s knowledge of boggarts, Bond contributes advanced countermeasures against the creatures.  This involves sophisticated technology and tactical strategy, enabling the students to confront their fears more effectively.\n",
      "\n",
      "The attack on the Fat Lady is crucial as Bond utilizes his observational skills to identify subtle clues, possibly fingerprints or trace evidence left by Black, which might lead to a faster resolution of the mystery.  His combat training might lead to a more intense confrontation with Black, although the overall narrative of Black's ultimate revelation as innocent and Peter Pettigrew's role remains the same.\n",
      "\n",
      "Finally, Bond assists in the rescue of Buckbeak.  His tactical prowess helps Harry and Hermione plan the escape more efficiently, possibly providing them with disguises or tools that make the mission successful, and he may even act as a diversion while the escape unfolds.  This showcases his adaptability to the magical world and its intricacies.\n",
      "\n",
      "**James Bond's Reshaping of the Narrative:**\n",
      "\n",
      "Bond acts as a bridge between the Muggle and wizarding worlds, translating information and providing a more grounded, action-oriented counterpoint to the magical mystery. He brings a level of technological and tactical sophistication previously absent, accelerating the pace of the investigation and making the confrontations with Black and the dementors more thrilling and intense.  His presence elevates the stakes and introduces a level of suspense reminiscent of his own adventures.\n",
      "\n",
      "**Key Differences and Significance:**\n",
      "\n",
      "* **Faster-Paced Investigation:** Bond's technological and tactical expertise leads to a quicker resolution of the mystery surrounding Black's escape. The Ministry relies heavily on Bond's input, though their initial skepticism highlights the conflict between the technological sophistication of the Muggle world and the more traditional magic of the wizarding world.\n",
      "* **Enhanced Action Sequences:** The introduction of Bond results in several high-octane moments. The dementor encounter, the boggart confrontation, and even the climax involving the rescue of Buckbeak are heightened by Bond's involvement.\n",
      "* **Resources and Intelligence:** Harry and his friends have access to advanced technology and intelligence not typically found in the wizarding world, significantly altering their ability to deal with challenges.\n",
      "* **Shift in Dynamics:** Bond's presence shifts some of the focus from the usual magical support system (Dumbledore, Hagrid, Weasley family) towards a more independent, action-oriented approach. This potentially affects how Harry relies on his friends and mentors.\n",
      "\n",
      "In summary, this adaptation maintains the core mystery and emotional journey of the original *Prisoner of Azkaban* while injecting the high-octane action and technological intrigue of James Bond's world. This creates a unique narrative blend where magic and espionage intertwine to shape Harry's adventure in a compelling new way.\n",
      "\n"
     ]
    }
   ],
   "source": [
    "# Prompt 4\n",
    "\n",
    "prompt_prizoner_of_azkaban_4 = story_alteration_prizoner_of_azkaban + \"\\n\" +change_extents[1]['description'] + \"\\n\" + output_required[3]\n",
    "response_prizoner_of_azkaban_4 = model_1.generate_content(prompt_prizoner_of_azkaban_4)\n",
    "print(response_prizoner_of_azkaban_4.text)"
   ]
  },
  {
   "cell_type": "code",
   "execution_count": 16,
   "id": "055bd9d0",
   "metadata": {
    "execution": {
     "iopub.execute_input": "2024-11-29T15:18:49.828730Z",
     "iopub.status.busy": "2024-11-29T15:18:49.828289Z",
     "iopub.status.idle": "2024-11-29T15:18:50.204127Z",
     "shell.execute_reply": "2024-11-29T15:18:50.202874Z"
    },
    "papermill": {
     "duration": 0.387156,
     "end_time": "2024-11-29T15:18:50.206249",
     "exception": false,
     "start_time": "2024-11-29T15:18:49.819093",
     "status": "completed"
    },
    "tags": []
   },
   "outputs": [
    {
     "name": "stdout",
     "output_type": "stream",
     "text": [
      "CachedContent(\n",
      "    name='cachedContents/hxyz2mvfst98',\n",
      "    model='models/gemini-1.5-flash-002',\n",
      "    display_name='Prizoner of Azkaban',\n",
      "    usage_metadata={\n",
      "        'total_token_count': 150524,\n",
      "    },\n",
      "    create_time=2024-11-29 15:17:49.049055+00:00,\n",
      "    update_time=2024-11-29 15:17:49.049055+00:00,\n",
      "    expire_time=2024-11-29 15:37:25.716392+00:00\n",
      ")\n",
      "CachedContent(\n",
      "    name='cachedContents/ryvuqqmwvrql',\n",
      "    model='models/gemini-1.5-flash-002',\n",
      "    display_name='Prizoner of Azkaban',\n",
      "    usage_metadata={\n",
      "        'total_token_count': 150524,\n",
      "    },\n",
      "    create_time=2024-11-29 15:10:27.995295+00:00,\n",
      "    update_time=2024-11-29 15:10:27.995295+00:00,\n",
      "    expire_time=2024-11-29 15:30:27.633250+00:00\n",
      ")\n",
      "CachedContent(\n",
      "    name='cachedContents/mxx4j6zm92c9',\n",
      "    model='models/gemini-1.5-flash-002',\n",
      "    display_name='Prizoner of Azkaban',\n",
      "    usage_metadata={\n",
      "        'total_token_count': 150524,\n",
      "    },\n",
      "    create_time=2024-11-29 15:09:25.909215+00:00,\n",
      "    update_time=2024-11-29 15:09:25.909215+00:00,\n",
      "    expire_time=2024-11-29 15:29:25.118563+00:00\n",
      ")\n"
     ]
    }
   ],
   "source": [
    "# Display Cached Contents\n",
    "for c in caching.CachedContent.list():\n",
    "  print(c)"
   ]
  },
  {
   "cell_type": "markdown",
   "id": "3f90663c",
   "metadata": {
    "papermill": {
     "duration": 0.007852,
     "end_time": "2024-11-29T15:18:50.222581",
     "exception": false,
     "start_time": "2024-11-29T15:18:50.214729",
     "status": "completed"
    },
    "tags": []
   },
   "source": [
    "<div style=\"font-family:Verdana\">\n",
    "    <h3>Delete cached stored for prizoner of azkaban</h3>\n",
    "    <p style=\"font-size:  15px\"> We do not require cached stored for prizoner of azkaban now so we can delete it and then will create new cache for Order of Phoenix. This is required because, for gemini-1.5-flash model we have 1 million context caching limit, if we not delete this then unnecessary will occupy the space in conext cache and also will take cache storage cost</p>\n",
    "</div>"
   ]
  },
  {
   "cell_type": "code",
   "execution_count": 17,
   "id": "73e2e25a",
   "metadata": {
    "execution": {
     "iopub.execute_input": "2024-11-29T15:18:50.240580Z",
     "iopub.status.busy": "2024-11-29T15:18:50.240169Z",
     "iopub.status.idle": "2024-11-29T15:18:50.470781Z",
     "shell.execute_reply": "2024-11-29T15:18:50.469771Z"
    },
    "papermill": {
     "duration": 0.242446,
     "end_time": "2024-11-29T15:18:50.473158",
     "exception": false,
     "start_time": "2024-11-29T15:18:50.230712",
     "status": "completed"
    },
    "tags": []
   },
   "outputs": [],
   "source": [
    "# Delete cached content craeted for Prizoner of Azkaban to use it for Order of Phoenix\n",
    "cached_content_1.delete()"
   ]
  },
  {
   "cell_type": "markdown",
   "id": "865c290e",
   "metadata": {
    "papermill": {
     "duration": 0.007908,
     "end_time": "2024-11-29T15:18:50.489364",
     "exception": false,
     "start_time": "2024-11-29T15:18:50.481456",
     "status": "completed"
    },
    "tags": []
   },
   "source": [
    "<div style=\"font-family:Verdana\">\n",
    "    <h2>James Bond return in Order of Phoenix</h2>\n",
    "    <p style=\"font-size:15px\">Now we have summary of altered story in Harry Potter and Prizoner of Azkaban. We will give it as a input conext tokens to the model along with the complete  Order of phoenix book to make it consistent in the series. Also we want responses to get consistent from the past and not generate much random and different things.</p>\n",
    "</div>"
   ]
  },
  {
   "cell_type": "code",
   "execution_count": 18,
   "id": "2a00211e",
   "metadata": {
    "execution": {
     "iopub.execute_input": "2024-11-29T15:18:50.507686Z",
     "iopub.status.busy": "2024-11-29T15:18:50.507283Z",
     "iopub.status.idle": "2024-11-29T15:18:50.511964Z",
     "shell.execute_reply": "2024-11-29T15:18:50.510889Z"
    },
    "papermill": {
     "duration": 0.016251,
     "end_time": "2024-11-29T15:18:50.514030",
     "exception": false,
     "start_time": "2024-11-29T15:18:50.497779",
     "status": "completed"
    },
    "tags": []
   },
   "outputs": [],
   "source": [
    "summary_of_prizoner_of_azkaban = \"\"\" I am giving you the summary of the altered story of Harry Potter and Prizoner of Azkaban\n",
    "by incoporating James Bond character. This is as follows - \n",
    "\"\"\" + prompt_prizoner_of_azkaban_4"
   ]
  },
  {
   "cell_type": "code",
   "execution_count": 19,
   "id": "82962616",
   "metadata": {
    "execution": {
     "iopub.execute_input": "2024-11-29T15:18:50.533085Z",
     "iopub.status.busy": "2024-11-29T15:18:50.532055Z",
     "iopub.status.idle": "2024-11-29T15:18:54.579269Z",
     "shell.execute_reply": "2024-11-29T15:18:54.578224Z"
    },
    "papermill": {
     "duration": 4.059235,
     "end_time": "2024-11-29T15:18:54.581789",
     "exception": false,
     "start_time": "2024-11-29T15:18:50.522554",
     "status": "completed"
    },
    "tags": []
   },
   "outputs": [],
   "source": [
    "cached_content_2 = caching_the_content(model, \"Order of Phoenix\", system_instruction, order_of_phoenix_book_text)"
   ]
  },
  {
   "cell_type": "code",
   "execution_count": 20,
   "id": "c1e5e80e",
   "metadata": {
    "execution": {
     "iopub.execute_input": "2024-11-29T15:18:54.599765Z",
     "iopub.status.busy": "2024-11-29T15:18:54.599398Z",
     "iopub.status.idle": "2024-11-29T15:18:54.604177Z",
     "shell.execute_reply": "2024-11-29T15:18:54.603128Z"
    },
    "papermill": {
     "duration": 0.01638,
     "end_time": "2024-11-29T15:18:54.606560",
     "exception": false,
     "start_time": "2024-11-29T15:18:54.590180",
     "status": "completed"
    },
    "tags": []
   },
   "outputs": [],
   "source": [
    "model_2 = genai.GenerativeModel.from_cached_content(cached_content=cached_content_2)"
   ]
  },
  {
   "cell_type": "code",
   "execution_count": 21,
   "id": "820cb72d",
   "metadata": {
    "execution": {
     "iopub.execute_input": "2024-11-29T15:18:54.625181Z",
     "iopub.status.busy": "2024-11-29T15:18:54.624804Z",
     "iopub.status.idle": "2024-11-29T15:19:14.909950Z",
     "shell.execute_reply": "2024-11-29T15:19:14.908550Z"
    },
    "papermill": {
     "duration": 20.297254,
     "end_time": "2024-11-29T15:19:14.912407",
     "exception": false,
     "start_time": "2024-11-29T15:18:54.615153",
     "status": "completed"
    },
    "tags": []
   },
   "outputs": [
    {
     "name": "stdout",
     "output_type": "stream",
     "text": [
      "Here's a breakdown of how James Bond's presence could reshape the story of *Harry Potter and the Order of the Phoenix*, focusing on key changes and their impact on the storyline:\n",
      "\n",
      "\n",
      "**Scenarios Incorporating James Bond:**\n",
      "\n",
      "1. **The Ministry Leak Investigation:**  The initial narrative focuses on Harry's frustration with the Ministry's denial of Voldemort's return and the general public's skepticism.  Bond's expertise could be introduced here.  He could be secretly contacted by Dumbledore (perhaps through a coded message delivered by a seemingly ordinary owl) to investigate a suspected leak within the Ministry, feeding false information to Voldemort's inner circle to disrupt their plans.  This leak could be the source of the Ministry's downplaying of Voldemort's actions. Bond's investigation would involve his signature gadgets (miniature listening devices, advanced tracking technology) and skills, revealing details about the internal struggles within the Ministry and the extent of corruption in higher ranks.\n",
      "\n",
      "\n",
      "2. **Enhanced Surveillance and Protection of Harry:**  Throughout the book, Harry feels increasingly isolated and vulnerable. Bond's presence could provide Harry with an enhanced level of protection.  He might install discreet surveillance technology in Harry's surroundings (Privet Drive, Hogwarts) that alerts him to impending threats, allowing for proactive measures to avoid or counter danger. This could alter some of the more precarious situations Harry faces, potentially saving him from harm. Bond might even provide Harry with a small, high-tech, magically concealed device for emergencies, like a self-destructing communicator.\n",
      "\n",
      "\n",
      "3. **The Department of Mysteries Confrontation:** The climax of the book features Harry and his friends' infiltration of the Department of Mysteries. Bond could play a pivotal role here.  Having previously identified several key Death Eaters through his Ministry leak investigation, Bond provides crucial information about the department's layout, security measures, and the likely locations of Voldemort's supporters. He might use his combat skills to neutralize several Death Eaters, clearing the way for Harry and the others to access the prophecy.\n",
      "\n",
      "\n",
      "4. **The Capture and Rescue:**  Instead of the Order members fighting off the Death Eaters, Bond could take the lead in a thrilling action sequence. His mastery of firearms and gadgets provides Harry's group with a tactical advantage, allowing for a more dynamic and successful confrontation.  However, in a plot twist, Bond's actions inadvertently expose him as a Muggle agent, and he gets captured.   This leads to a new sequence where Dumbledore and Harry must infiltrate the Ministry and launch a daring rescue mission for Bond, highlighting the consequences of revealing the Muggle world's interference.\n",
      "\n",
      "\n",
      "**Storyline Impacts:**\n",
      "\n",
      "* **Increased Suspense and Action:** Bond's integration elevates the action sequences, particularly the Department of Mysteries confrontation, and adds a layer of espionage to the existing magical conflict.\n",
      "\n",
      "\n",
      "* **Shift in Power Dynamics:** The Ministry's internal struggles and corruption become more prominent due to Bond's investigation, emphasizing Fudge's incompetence and the extent of Voldemort's influence within the magical world.\n",
      "\n",
      "\n",
      "* **New Alliances and Conflicts:** The capture and rescue of Bond create a new alliance between Dumbledore/Harry and the Muggle world, but also increase the danger by exposing the Order's reliance on non-magical agents. This adds a new dimension of conflict, especially with Fudge's desperate attempts to suppress this discovery.\n",
      "\n",
      "* **Moral Ambiguity:**  The introduction of Bond raises questions of ethics.  The use of non-magical tactics within the wizarding world raises moral ambiguities and could lead to intense discussions among the Order members about the balance between magic and technology.\n",
      "\n",
      "* **Resolution:** The ending is altered; the Ministry is exposed as having a severe problem with Voldemort's influence, and Dumbledore's role is confirmed. Bond's imprisonment (and subsequent rescue) highlights the interweaving of the magical and Muggle worlds, and the lengths both sides will go to protect their own interests.\n",
      "\n",
      "\n",
      "In essence, the revised *Order of the Phoenix* becomes a blend of magic and espionage, maintaining the core narrative but enhancing it with thrilling action sequences and deeper exploration of the Ministry's internal conflict and corruption.  The unexpected capture and rescue of Bond add a new level of suspense and urgency, while adding a complex layer of moral dilemmas for Harry and the Order.\n",
      "\n"
     ]
    }
   ],
   "source": [
    "# Prompt 1\n",
    "\n",
    "prompt_order_of_phoenix_1 = summary_of_prizoner_of_azkaban + \"   \\n\" + story_alteration_for_order_of_phoenix  + \"\\n\" + output_required[0]\n",
    "response_order_of_phoenix_1= model_2.generate_content(prompt_order_of_phoenix_1)\n",
    "print(response_order_of_phoenix_1.text)"
   ]
  },
  {
   "cell_type": "code",
   "execution_count": 22,
   "id": "40c90cf5",
   "metadata": {
    "execution": {
     "iopub.execute_input": "2024-11-29T15:19:14.931187Z",
     "iopub.status.busy": "2024-11-29T15:19:14.930781Z",
     "iopub.status.idle": "2024-11-29T15:19:36.611124Z",
     "shell.execute_reply": "2024-11-29T15:19:36.609895Z"
    },
    "papermill": {
     "duration": 21.69275,
     "end_time": "2024-11-29T15:19:36.613914",
     "exception": false,
     "start_time": "2024-11-29T15:19:14.921164",
     "status": "completed"
    },
    "tags": []
   },
   "outputs": [
    {
     "name": "stdout",
     "output_type": "stream",
     "text": [
      "Here's a possible dialogue between James Bond and other characters in an altered version of *Harry Potter and the Order of the Phoenix*, incorporating Bond's presence and eventual capture.  The dialogues are designed to highlight Bond's skills and expertise while reflecting the magical world's unique elements.\n",
      "\n",
      "\n",
      "**Scene 1: The Burrow -  Initial Meeting**\n",
      "\n",
      "*Setting*: The Weasley's kitchen, bustling with activity.  Harry is visibly agitated, recounting his summer's frustrating events. Arthur Weasley introduces James Bond, explaining his expertise in covert operations.\n",
      "\n",
      "**Dialogue:**\n",
      "\n",
      "*Arthur Weasley:* \"Harry, this is James Bond. He's... well, let's just say he's an expert at uncovering things that others miss.\"\n",
      "\n",
      "*Harry Potter:* (Skeptical) \"Uncovering things?  Like what? Voldemort's plans? Because the Ministry's been useless.\"\n",
      "\n",
      "*James Bond:* \"My methods are rather unconventional, Mr. Potter.  I gather you've been experiencing... difficulties... obtaining reliable information.\"\n",
      "\n",
      "*Harry:* \"Difficulties is an understatement.  Ron and Hermione have been told not to say anything important in their letters, and my scar's been hurting like mad, but nobody seems to know what’s going on.\"\n",
      "\n",
      "*Bond:*  \"Tell me everything. Leave nothing out.\"\n",
      "\n",
      "\n",
      "**Scene 2:  Grimmauld Place - Surveillance**\n",
      "\n",
      "*Setting*: A darkened room in Grimmauld Place.  Bond has set up sophisticated surveillance equipment, monitoring Ministry activity.  Sirius Black enters, frustrated and restless.\n",
      "\n",
      "**Dialogue:**\n",
      "\n",
      "*Sirius Black:* \"Anything, Bond? Any sign of what Voldemort's up to?\"\n",
      "\n",
      "*Bond:* (Pointing to a monitor) \"The Ministry's communications are heavily encrypted, but I've detected unusual activity surrounding Azkaban. There's been a significant increase in Dementor movements.\"\n",
      "\n",
      "*Sirius:* \"Dementors? What's that about?\"\n",
      "\n",
      "*Bond:* \"My guess?  They're being mobilized.  A large-scale operation is afoot, and it's likely connected to Voldemort.\"\n",
      "\n",
      "\n",
      "**Scene 3: Ministry of Magic -  Confrontation**\n",
      "\n",
      "*Setting*: A dimly lit corridor in the Ministry. Bond, using his skills, is confronting a high-ranking Death Eater who has infiltrated the Ministry.\n",
      "\n",
      "**Dialogue:**\n",
      "\n",
      "*Bond:* (Drawing his Walther PPK) \"I believe you have something I want, Mr. Lestrange.\"\n",
      "\n",
      "*Rodolphus Lestrange:* (Scoffs) \"You? A Muggle? You dare challenge a Death Eater?\"\n",
      "\n",
      "*Bond:* (Calmly) \"I've dealt with far worse than you, Lestrange.  Tell me where Voldemort is keeping the Horcruxes.\"\n",
      "\n",
      "*Lestrange:*  (Fighting back)  \"You'll never find them! The Dark Lord is invincible!\"\n",
      "\n",
      "\n",
      "**Scene 4:  Grimmauld Place - Capture**\n",
      "\n",
      "*Setting*: Grimmauld Place, amidst the chaos of a Ministry raid.  Bond is apprehended by Ministry Aurors.  Harry and Dumbledore arrive.\n",
      "\n",
      "**Dialogue:**\n",
      "\n",
      "*Auror:* (Pointing a wand at Bond) \"You're under arrest, Bond!  For espionage, conspiring with underage wizards, and possessing illegal Muggle artifacts.\"\n",
      "\n",
      "*Bond:* (Smirking) \"Impeccable timing, I must say.\"\n",
      "\n",
      "*Harry Potter:* \"Let him go! He was helping us!\"\n",
      "\n",
      "*Dumbledore:* (Calmly to the Aurors) \"I believe there has been a misunderstanding. This individual was acting under my direction.\"\n",
      "\n",
      "*Auror:* (Shocked) \"Under Dumbledore's direction?\"\n",
      "\n",
      "*Dumbledore:*  \"Precisely. He was providing valuable assistance to the Order of the Phoenix. We shall discuss this matter in private.\"\n",
      "\n",
      "\n",
      "**Scene 5: Azkaban - Imprisonment (Brief)**\n",
      "\n",
      "*Setting*:  A cold, dark cell in Azkaban. Bond, though imprisoned, maintains composure.  Harry and Dumbledore visit.\n",
      "\n",
      "**Dialogue:**\n",
      "\n",
      "*Bond:* (Sarcastically) \"A bit drafty for a high-security facility, wouldn’t you say?\"\n",
      "\n",
      "*Harry Potter:* (Worried) \"We'll get you out of here, Bond.\"\n",
      "\n",
      "*Dumbledore:*  (Calmly) \"Patience, Harry. It has been known to be difficult for the Ministry to maintain its grip on Azkaban.\"\n",
      "\n",
      "\n",
      "**Scene 6:  Azkaban - Escape**\n",
      "\n",
      "*Setting*:  Inside Azkaban, a magical confrontation between Dumbledore and the Azkaban guards.\n",
      "\n",
      "\n",
      "**Dialogue:**\n",
      "\n",
      "*Dumbledore:* \"The Dementors are not entirely in your control, are they, my dear Minister?\"\n",
      "\n",
      "*Azkaban Guard:* (Defensively) \"The Ministry's orders-\"\n",
      "\n",
      "*Dumbledore:* \"Orders that are now overriden.  The Order will be assisting in your re-education.\"\n",
      "\n",
      "\n",
      "This provides a framework.  Remember to flesh out the dialogues with more detailed descriptions of the setting and actions, and to ensure the conversations reflect the personalities of the characters involved.\n",
      "\n"
     ]
    }
   ],
   "source": [
    "#Prompt 2\n",
    "\n",
    "prompt_order_of_phoenix_2 = summary_of_prizoner_of_azkaban + \"   \\n\" + story_alteration_for_order_of_phoenix  + \"\\n\" + output_required[1]\n",
    "response_order_of_phoenix_2= model_2.generate_content(prompt_order_of_phoenix_2)\n",
    "print(response_order_of_phoenix_2.text)"
   ]
  },
  {
   "cell_type": "code",
   "execution_count": 23,
   "id": "86e9e3fa",
   "metadata": {
    "execution": {
     "iopub.execute_input": "2024-11-29T15:19:36.632878Z",
     "iopub.status.busy": "2024-11-29T15:19:36.632492Z",
     "iopub.status.idle": "2024-11-29T15:20:02.703773Z",
     "shell.execute_reply": "2024-11-29T15:20:02.702412Z"
    },
    "papermill": {
     "duration": 26.084225,
     "end_time": "2024-11-29T15:20:02.706974",
     "exception": false,
     "start_time": "2024-11-29T15:19:36.622749",
     "status": "completed"
    },
    "tags": []
   },
   "outputs": [
    {
     "name": "stdout",
     "output_type": "stream",
     "text": [
      "## Harry Potter and the Order of the Phoenix: 007 Intervenes (1-Hour Movie Script)\n",
      "\n",
      "**Logline:**  When Voldemort returns, Harry must confront the Ministry's denial and a growing darkness, aided by the unexpected arrival of James Bond, whose expertise in espionage and action throws a wrench into the wizarding world's plans, but at a cost.\n",
      "\n",
      "\n",
      "**Act I: The Dursleys and the Double-0** (approx. 15 minutes)\n",
      "\n",
      "**Scene 1:** Privet Drive, Summer.\n",
      "\n",
      "**(Visuals:  A sweltering summer day on Privet Drive.  Harry, looking gaunt, hides behind a bush, listening to a Muggle news report about a water-skiing budgie.)**\n",
      "\n",
      "**HARRY (V.O.):** Another day, another pointless summer at the Dursleys.  Voldemort’s back, and the Ministry pretends nothing’s happening.\n",
      "\n",
      "\n",
      "**(Sound of a loud CRACK.  A cat streaks past.  The Dursleys erupt from the house in a flurry of rage.)**\n",
      "\n",
      "\n",
      "**UNCLE VERNON:** What in the name of—?! Get away from our window, you—!\n",
      "\n",
      "\n",
      "**(Uncle Vernon lunges for Harry. Before he can grab him, a figure silhouetted against the setting sun drops gracefully to the ground. It's James Bond, in a dark suit, impeccably composed.)**\n",
      "\n",
      "\n",
      "**BOND:**  (Calmly)  Allow me.\n",
      "\n",
      "\n",
      "**(Bond disarms Vernon with a swift, precise move. His movements are fluid and efficient, a contrast to the clumsy panic of Vernon.)**\n",
      "\n",
      "**BOND:** (To Harry, low)  I understand you have a rather… unusual situation.\n",
      "\n",
      "**HARRY:** (Astonished) You... you know about Voldemort?\n",
      "\n",
      "\n",
      "**BOND:**  Let’s just say I’ve dealt with threats before.  And I've heard about your… talents. The Ministry’s been less than forthcoming.\n",
      "\n",
      "\n",
      "**Scene 2:**  Grimmauld Place (brief glimpse)\n",
      "\n",
      "\n",
      "**(Quick cuts showing the state of Grimmauld Place, highlighting the decay and darkness, contrasted with a brief shot of Bond examining a high-tech gadget in his briefcase.  A sinister portrait of a woman is shown.)**\n",
      "\n",
      "\n",
      "**BOND (V.O.):**  This place… it has a history. And secrets.\n",
      "\n",
      "\n",
      "**Act II: Hogwarts and the Hidden Threat** (approx. 30 minutes)\n",
      "\n",
      "\n",
      "**Scene 3:** Hogwarts, Defence Against the Dark Arts class.\n",
      "\n",
      "**(Visuals: Umbridge’s class. Students are bored, listening to her dull lectures.  Bond, disguised as a Hogwarts professor (e.g., a flamboyant Charms professor), sits observing.  He discreetly uses a tiny earpiece to listen in to Ministry communications.)**\n",
      "\n",
      "**UMBRIDGE:**  …and that concludes today’s lesson on the importance of following the Ministry’s guidelines…\n",
      "\n",
      "\n",
      "**(Bond receives a coded message through his earpiece.)**\n",
      "\n",
      "\n",
      "**BOND (V.O.):**  The Ministry’s suppressing crucial information.  This goes beyond Voldemort.  There's a larger, more insidious threat.\n",
      "\n",
      "\n",
      "\n",
      "**Scene 4:**  Hogwarts, corridors.\n",
      "\n",
      "**(Visuals:  Harry, Hermione, and Ron cornered by Death Eaters. Bond intercepts them, using his martial arts skills to swiftly subdue the attackers.)**\n",
      "\n",
      "**BOND:** (To Harry)  Your friends are quite brave, but they could use a hand.\n",
      "\n",
      "\n",
      "**(Bond shows off his skills, taking down the Death Eaters quickly and quietly, highlighting his proficiency in combat. He provides Harry with a small, high-tech device.)**\n",
      "\n",
      "\n",
      "**BOND:**  This will let you contact me discreetly. I have access to information the Ministry’s not sharing.\n",
      "\n",
      "**Scene 5:**  Hogwarts, The Room of Requirement\n",
      "\n",
      "\n",
      "**(Visuals:  The Room of Requirement is shown, where the DA is meeting. Bond is present, disguised. He uses his surveillance tech to monitor the Ministry’s actions, projecting key information onto a screen in the Room.)**\n",
      "\n",
      "\n",
      "**HARRY:** We need to stop Voldemort, but the Ministry’s in denial...\n",
      "\n",
      "\n",
      "**BOND:** (Low voice)  They're not just in denial, Harry.  They're complicit. This isn't just Voldemort's doing.  There's someone pulling the strings.  I'm investigating.\n",
      "\n",
      "**(Bond projects a satellite image of a covert Ministry operation onto the screen, showcasing his advanced technology.)**\n",
      "\n",
      "\n",
      "**Act III: Confrontation and Capture** (approx. 25 minutes)\n",
      "\n",
      "\n",
      "**Scene 6:**  Ministry of Magic, a covert meeting.\n",
      "\n",
      "**(Visuals: A tense scene.  Bond, in his usual attire, confronts a high-ranking Ministry official (perhaps Pius Thicknesse) who is secretly working with Voldemort.  A brief, intense fight ensues, showcasing Bond’s fighting skills and gadgets against the official's magic.)**\n",
      "\n",
      "\n",
      "**BOND:**  Your loyalty is misplaced.\n",
      "\n",
      "\n",
      "**(Bond overpowers the official, but is outnumbered by other Ministry officials and Death Eaters. A dramatic chase sequence unfolds.)**\n",
      "\n",
      "\n",
      "**Scene 7:** Azkaban\n",
      "\n",
      "**(Visuals:  Bond is captured and imprisoned in Azkaban.  He is surrounded by Dementors, his face reflecting fear and determination.)**\n",
      "\n",
      "\n",
      "**BOND:** (to himself)  This is…unexpected.\n",
      "\n",
      "\n",
      "**Scene 8:**  Hogwarts, Dumbledore’s office\n",
      "\n",
      "**(Visuals:  Harry, Dumbledore, and Hermione plan a daring rescue mission to Azkaban. A montage of preparations, magical tools, and strategic planning.)**\n",
      "\n",
      "\n",
      "**DUMBLEDORE:** We need to act fast. We can’t let the Ministry know about Bond.  His mission must remain secret.\n",
      "\n",
      "**HARRY:**  He helped us…\n",
      "\n",
      "**DUMBLEDORE:** He exposed a deeper rot within the Ministry. That is something to be reckoned with.\n",
      "\n",
      "\n",
      "**(A thrilling rescue sequence at Azkaban, highlighting the clash between magic and Bond’s technology. The scene ends with Bond, Harry and Dumbledore escaping.)**\n",
      "\n",
      "\n",
      "**Act IV: Resolution** (approx. 5 minutes)\n",
      "\n",
      "**(Visuals:  News reports of Voldemort’s growing power and the Ministry's continued denial. Harry, Hermione, and Ron, though shaken, are determined to keep fighting.)**\n",
      "\n",
      "\n",
      "**HARRY (V.O.):** Bond’s involvement changed things, gave us a crucial advantage. But his sacrifice highlighted the true danger – a betrayal deeper than Voldemort himself. The fight is far from over.\n",
      "\n",
      "\n",
      "**(Final shot of Harry looking determined, his gaze fixed on a dark horizon. The film ends with the ominous sound of Voldemort's laughter.)**\n",
      "\n",
      "\n",
      "**Note:** This script is a framework.  Specific dialogue, action sequences, and visual details can be further developed to create a more detailed and engaging film. The pacing needs to be adjusted to fit within a one-hour timeframe, requiring strategic editing and selection of key plot points.  The focus should be on showcasing Bond's unique skills within the wizarding world context, adding a layer of intrigue and action to the original story.\n",
      "\n"
     ]
    }
   ],
   "source": [
    "#Prompt 3\n",
    "\n",
    "prompt_order_of_phoenix_3 = summary_of_prizoner_of_azkaban + \"   \\n\" + story_alteration_for_order_of_phoenix  + \"\\n\" + output_required[2]\n",
    "response_order_of_phoenix_3= model_2.generate_content(prompt_order_of_phoenix_3)\n",
    "print(response_order_of_phoenix_3.text)"
   ]
  },
  {
   "cell_type": "code",
   "execution_count": 24,
   "id": "b0e1f3c7",
   "metadata": {
    "execution": {
     "iopub.execute_input": "2024-11-29T15:20:02.726706Z",
     "iopub.status.busy": "2024-11-29T15:20:02.726256Z",
     "iopub.status.idle": "2024-11-29T15:20:03.194164Z",
     "shell.execute_reply": "2024-11-29T15:20:03.191311Z"
    },
    "papermill": {
     "duration": 0.481103,
     "end_time": "2024-11-29T15:20:03.197246",
     "exception": false,
     "start_time": "2024-11-29T15:20:02.716143",
     "status": "completed"
    },
    "tags": []
   },
   "outputs": [
    {
     "name": "stdout",
     "output_type": "stream",
     "text": [
      "CachedContent(\n",
      "    name='cachedContents/x6yczxtqld7u',\n",
      "    model='models/gemini-1.5-flash-002',\n",
      "    display_name='Order of Phoenix',\n",
      "    usage_metadata={\n",
      "        'total_token_count': 398220,\n",
      "    },\n",
      "    create_time=2024-11-29 15:18:54.506543+00:00,\n",
      "    update_time=2024-11-29 15:18:54.506543+00:00,\n",
      "    expire_time=2024-11-29 15:38:54.163036+00:00\n",
      ")\n",
      "CachedContent(\n",
      "    name='cachedContents/ryvuqqmwvrql',\n",
      "    model='models/gemini-1.5-flash-002',\n",
      "    display_name='Prizoner of Azkaban',\n",
      "    usage_metadata={\n",
      "        'total_token_count': 150524,\n",
      "    },\n",
      "    create_time=2024-11-29 15:10:27.995295+00:00,\n",
      "    update_time=2024-11-29 15:10:27.995295+00:00,\n",
      "    expire_time=2024-11-29 15:30:27.633250+00:00\n",
      ")\n",
      "CachedContent(\n",
      "    name='cachedContents/mxx4j6zm92c9',\n",
      "    model='models/gemini-1.5-flash-002',\n",
      "    display_name='Prizoner of Azkaban',\n",
      "    usage_metadata={\n",
      "        'total_token_count': 150524,\n",
      "    },\n",
      "    create_time=2024-11-29 15:09:25.909215+00:00,\n",
      "    update_time=2024-11-29 15:09:25.909215+00:00,\n",
      "    expire_time=2024-11-29 15:29:25.118563+00:00\n",
      ")\n"
     ]
    }
   ],
   "source": [
    "for c in caching.CachedContent.list():\n",
    "  print(c)"
   ]
  },
  {
   "cell_type": "markdown",
   "id": "3b587638",
   "metadata": {
    "papermill": {
     "duration": 0.008923,
     "end_time": "2024-11-29T15:20:03.215466",
     "exception": false,
     "start_time": "2024-11-29T15:20:03.206543",
     "status": "completed"
    },
    "tags": []
   },
   "source": [
    "<div style=\"font-family:Verdana\">\n",
    "    <h3>Delete cached stored for order of phoenix</h3>\n",
    "</div>"
   ]
  },
  {
   "cell_type": "code",
   "execution_count": 25,
   "id": "6d7ec330",
   "metadata": {
    "execution": {
     "iopub.execute_input": "2024-11-29T15:20:03.241284Z",
     "iopub.status.busy": "2024-11-29T15:20:03.240732Z",
     "iopub.status.idle": "2024-11-29T15:20:03.427721Z",
     "shell.execute_reply": "2024-11-29T15:20:03.425206Z"
    },
    "papermill": {
     "duration": 0.208729,
     "end_time": "2024-11-29T15:20:03.433442",
     "exception": false,
     "start_time": "2024-11-29T15:20:03.224713",
     "status": "completed"
    },
    "tags": []
   },
   "outputs": [],
   "source": [
    "cached_content_2.delete()"
   ]
  },
  {
   "cell_type": "code",
   "execution_count": null,
   "id": "78336803",
   "metadata": {
    "papermill": {
     "duration": 0.010603,
     "end_time": "2024-11-29T15:20:03.454525",
     "exception": false,
     "start_time": "2024-11-29T15:20:03.443922",
     "status": "completed"
    },
    "tags": []
   },
   "outputs": [],
   "source": []
  }
 ],
 "metadata": {
  "kaggle": {
   "accelerator": "none",
   "dataSources": [
    {
     "databundleVersionId": 9881586,
     "sourceId": 83735,
     "sourceType": "competition"
    },
    {
     "datasetId": 6179293,
     "sourceId": 10032717,
     "sourceType": "datasetVersion"
    }
   ],
   "isGpuEnabled": false,
   "isInternetEnabled": true,
   "language": "python",
   "sourceType": "notebook"
  },
  "kernelspec": {
   "display_name": "Python 3",
   "language": "python",
   "name": "python3"
  },
  "language_info": {
   "codemirror_mode": {
    "name": "ipython",
    "version": 3
   },
   "file_extension": ".py",
   "mimetype": "text/x-python",
   "name": "python",
   "nbconvert_exporter": "python",
   "pygments_lexer": "ipython3",
   "version": "3.10.14"
  },
  "papermill": {
   "default_parameters": {},
   "duration": 191.9502,
   "end_time": "2024-11-29T15:20:04.189101",
   "environment_variables": {},
   "exception": null,
   "input_path": "__notebook__.ipynb",
   "output_path": "__notebook__.ipynb",
   "parameters": {},
   "start_time": "2024-11-29T15:16:52.238901",
   "version": "2.6.0"
  }
 },
 "nbformat": 4,
 "nbformat_minor": 5
}
